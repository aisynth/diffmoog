{
 "cells": [
  {
   "cell_type": "code",
   "execution_count": 5,
   "metadata": {
    "collapsed": true,
    "ExecuteTime": {
     "end_time": "2023-07-24T12:34:34.250519200Z",
     "start_time": "2023-07-24T12:33:05.675566300Z"
    }
   },
   "outputs": [
    {
     "name": "stdout",
     "output_type": "stream",
     "text": [
      "Looking in indexes: https://pypi.org/simple, https://pypi.ngc.nvidia.com\n",
      "Requirement already satisfied: deeplake in c:\\users\\noamk\\pycharmprojects\\ai_synth\\venv\\lib\\site-packages (3.6.12)\n",
      "Requirement already satisfied: numcodecs in c:\\users\\noamk\\pycharmprojects\\ai_synth\\venv\\lib\\site-packages (from deeplake) (0.11.0)\n",
      "Requirement already satisfied: pathos in c:\\users\\noamk\\pycharmprojects\\ai_synth\\venv\\lib\\site-packages (from deeplake) (0.3.1)\n",
      "Requirement already satisfied: numpy in c:\\users\\noamk\\pycharmprojects\\ai_synth\\venv\\lib\\site-packages (from deeplake) (1.21.5)\n",
      "Requirement already satisfied: pyjwt in c:\\users\\noamk\\pycharmprojects\\ai_synth\\venv\\lib\\site-packages (from deeplake) (2.8.0)\n",
      "Requirement already satisfied: boto3 in c:\\users\\noamk\\pycharmprojects\\ai_synth\\venv\\lib\\site-packages (from deeplake) (1.28.9)\n",
      "Requirement already satisfied: tqdm in c:\\users\\noamk\\pycharmprojects\\ai_synth\\venv\\lib\\site-packages (from deeplake) (4.63.0)\n",
      "Requirement already satisfied: click in c:\\users\\noamk\\pycharmprojects\\ai_synth\\venv\\lib\\site-packages (from deeplake) (8.1.6)\n",
      "Requirement already satisfied: pillow in c:\\users\\noamk\\pycharmprojects\\ai_synth\\venv\\lib\\site-packages (from deeplake) (8.2.0)\n",
      "Requirement already satisfied: humbug>=0.3.1 in c:\\users\\noamk\\pycharmprojects\\ai_synth\\venv\\lib\\site-packages (from deeplake) (0.3.2)\n",
      "Requirement already satisfied: requests in c:\\users\\noamk\\pycharmprojects\\ai_synth\\venv\\lib\\site-packages (from humbug>=0.3.1->deeplake) (2.27.1)\n",
      "Requirement already satisfied: jmespath<2.0.0,>=0.7.1 in c:\\users\\noamk\\pycharmprojects\\ai_synth\\venv\\lib\\site-packages (from boto3->deeplake) (1.0.1)\n",
      "Requirement already satisfied: s3transfer<0.7.0,>=0.6.0 in c:\\users\\noamk\\pycharmprojects\\ai_synth\\venv\\lib\\site-packages (from boto3->deeplake) (0.6.1)\n",
      "Requirement already satisfied: botocore<1.32.0,>=1.31.9 in c:\\users\\noamk\\pycharmprojects\\ai_synth\\venv\\lib\\site-packages (from boto3->deeplake) (1.31.9)\n",
      "Requirement already satisfied: colorama in c:\\users\\noamk\\pycharmprojects\\ai_synth\\venv\\lib\\site-packages (from click->deeplake) (0.4.4)\n",
      "Requirement already satisfied: entrypoints in c:\\users\\noamk\\pycharmprojects\\ai_synth\\venv\\lib\\site-packages (from numcodecs->deeplake) (0.4)\n",
      "Requirement already satisfied: multiprocess>=0.70.15 in c:\\users\\noamk\\pycharmprojects\\ai_synth\\venv\\lib\\site-packages (from pathos->deeplake) (0.70.15)\n",
      "Requirement already satisfied: pox>=0.3.3 in c:\\users\\noamk\\pycharmprojects\\ai_synth\\venv\\lib\\site-packages (from pathos->deeplake) (0.3.3)\n",
      "Requirement already satisfied: dill>=0.3.7 in c:\\users\\noamk\\pycharmprojects\\ai_synth\\venv\\lib\\site-packages (from pathos->deeplake) (0.3.7)\n",
      "Requirement already satisfied: ppft>=1.7.6.7 in c:\\users\\noamk\\pycharmprojects\\ai_synth\\venv\\lib\\site-packages (from pathos->deeplake) (1.7.6.7)\n",
      "Requirement already satisfied: python-dateutil<3.0.0,>=2.1 in c:\\users\\noamk\\pycharmprojects\\ai_synth\\venv\\lib\\site-packages (from botocore<1.32.0,>=1.31.9->boto3->deeplake) (2.8.2)\n",
      "Requirement already satisfied: urllib3<1.27,>=1.25.4 in c:\\users\\noamk\\pycharmprojects\\ai_synth\\venv\\lib\\site-packages (from botocore<1.32.0,>=1.31.9->boto3->deeplake) (1.26.8)\n",
      "Requirement already satisfied: charset-normalizer~=2.0.0 in c:\\users\\noamk\\pycharmprojects\\ai_synth\\venv\\lib\\site-packages (from requests->humbug>=0.3.1->deeplake) (2.0.12)\n",
      "Requirement already satisfied: idna<4,>=2.5 in c:\\users\\noamk\\pycharmprojects\\ai_synth\\venv\\lib\\site-packages (from requests->humbug>=0.3.1->deeplake) (3.3)\n",
      "Requirement already satisfied: certifi>=2017.4.17 in c:\\users\\noamk\\pycharmprojects\\ai_synth\\venv\\lib\\site-packages (from requests->humbug>=0.3.1->deeplake) (2021.10.8)\n",
      "Requirement already satisfied: six>=1.5 in c:\\users\\noamk\\pycharmprojects\\ai_synth\\venv\\lib\\site-packages (from python-dateutil<3.0.0,>=2.1->botocore<1.32.0,>=1.31.9->boto3->deeplake) (1.16.0)\n"
     ]
    },
    {
     "name": "stderr",
     "output_type": "stream",
     "text": [
      "WARNING: There was an error checking the latest version of pip.\n"
     ]
    },
    {
     "name": "stdout",
     "output_type": "stream",
     "text": [
      "Looking in indexes: https://pypi.org/simple, https://pypi.ngc.nvidia.com\n",
      "Requirement already satisfied: deeplake[audio] in c:\\users\\noamk\\pycharmprojects\\ai_synth\\venv\\lib\\site-packages (3.6.12)\n",
      "Requirement already satisfied: click in c:\\users\\noamk\\pycharmprojects\\ai_synth\\venv\\lib\\site-packages (from deeplake[audio]) (8.1.6)\n",
      "Requirement already satisfied: humbug>=0.3.1 in c:\\users\\noamk\\pycharmprojects\\ai_synth\\venv\\lib\\site-packages (from deeplake[audio]) (0.3.2)\n",
      "Requirement already satisfied: numpy in c:\\users\\noamk\\pycharmprojects\\ai_synth\\venv\\lib\\site-packages (from deeplake[audio]) (1.21.5)\n",
      "Requirement already satisfied: pyjwt in c:\\users\\noamk\\pycharmprojects\\ai_synth\\venv\\lib\\site-packages (from deeplake[audio]) (2.8.0)\n",
      "Requirement already satisfied: tqdm in c:\\users\\noamk\\pycharmprojects\\ai_synth\\venv\\lib\\site-packages (from deeplake[audio]) (4.63.0)\n",
      "Requirement already satisfied: pillow in c:\\users\\noamk\\pycharmprojects\\ai_synth\\venv\\lib\\site-packages (from deeplake[audio]) (8.2.0)\n",
      "Requirement already satisfied: pathos in c:\\users\\noamk\\pycharmprojects\\ai_synth\\venv\\lib\\site-packages (from deeplake[audio]) (0.3.1)\n",
      "Requirement already satisfied: boto3 in c:\\users\\noamk\\pycharmprojects\\ai_synth\\venv\\lib\\site-packages (from deeplake[audio]) (1.28.9)\n",
      "Requirement already satisfied: numcodecs in c:\\users\\noamk\\pycharmprojects\\ai_synth\\venv\\lib\\site-packages (from deeplake[audio]) (0.11.0)\n",
      "Collecting av>=8.1.0\n",
      "  Downloading av-10.0.0-cp39-cp39-win_amd64.whl (25.3 MB)\n",
      "     -------------------------------------- 25.3/25.3 MB 280.4 kB/s eta 0:00:00\n",
      "Requirement already satisfied: requests in c:\\users\\noamk\\pycharmprojects\\ai_synth\\venv\\lib\\site-packages (from humbug>=0.3.1->deeplake[audio]) (2.27.1)\n",
      "Requirement already satisfied: jmespath<2.0.0,>=0.7.1 in c:\\users\\noamk\\pycharmprojects\\ai_synth\\venv\\lib\\site-packages (from boto3->deeplake[audio]) (1.0.1)\n",
      "Requirement already satisfied: s3transfer<0.7.0,>=0.6.0 in c:\\users\\noamk\\pycharmprojects\\ai_synth\\venv\\lib\\site-packages (from boto3->deeplake[audio]) (0.6.1)\n",
      "Requirement already satisfied: botocore<1.32.0,>=1.31.9 in c:\\users\\noamk\\pycharmprojects\\ai_synth\\venv\\lib\\site-packages (from boto3->deeplake[audio]) (1.31.9)\n",
      "Requirement already satisfied: colorama in c:\\users\\noamk\\pycharmprojects\\ai_synth\\venv\\lib\\site-packages (from click->deeplake[audio]) (0.4.4)\n",
      "Requirement already satisfied: entrypoints in c:\\users\\noamk\\pycharmprojects\\ai_synth\\venv\\lib\\site-packages (from numcodecs->deeplake[audio]) (0.4)\n",
      "Requirement already satisfied: dill>=0.3.7 in c:\\users\\noamk\\pycharmprojects\\ai_synth\\venv\\lib\\site-packages (from pathos->deeplake[audio]) (0.3.7)\n",
      "Requirement already satisfied: pox>=0.3.3 in c:\\users\\noamk\\pycharmprojects\\ai_synth\\venv\\lib\\site-packages (from pathos->deeplake[audio]) (0.3.3)\n",
      "Requirement already satisfied: multiprocess>=0.70.15 in c:\\users\\noamk\\pycharmprojects\\ai_synth\\venv\\lib\\site-packages (from pathos->deeplake[audio]) (0.70.15)\n",
      "Requirement already satisfied: ppft>=1.7.6.7 in c:\\users\\noamk\\pycharmprojects\\ai_synth\\venv\\lib\\site-packages (from pathos->deeplake[audio]) (1.7.6.7)\n",
      "Requirement already satisfied: python-dateutil<3.0.0,>=2.1 in c:\\users\\noamk\\pycharmprojects\\ai_synth\\venv\\lib\\site-packages (from botocore<1.32.0,>=1.31.9->boto3->deeplake[audio]) (2.8.2)\n",
      "Requirement already satisfied: urllib3<1.27,>=1.25.4 in c:\\users\\noamk\\pycharmprojects\\ai_synth\\venv\\lib\\site-packages (from botocore<1.32.0,>=1.31.9->boto3->deeplake[audio]) (1.26.8)\n",
      "Requirement already satisfied: charset-normalizer~=2.0.0 in c:\\users\\noamk\\pycharmprojects\\ai_synth\\venv\\lib\\site-packages (from requests->humbug>=0.3.1->deeplake[audio]) (2.0.12)\n",
      "Requirement already satisfied: idna<4,>=2.5 in c:\\users\\noamk\\pycharmprojects\\ai_synth\\venv\\lib\\site-packages (from requests->humbug>=0.3.1->deeplake[audio]) (3.3)\n",
      "Requirement already satisfied: certifi>=2017.4.17 in c:\\users\\noamk\\pycharmprojects\\ai_synth\\venv\\lib\\site-packages (from requests->humbug>=0.3.1->deeplake[audio]) (2021.10.8)\n",
      "Requirement already satisfied: six>=1.5 in c:\\users\\noamk\\pycharmprojects\\ai_synth\\venv\\lib\\site-packages (from python-dateutil<3.0.0,>=2.1->botocore<1.32.0,>=1.31.9->boto3->deeplake[audio]) (1.16.0)\n",
      "Installing collected packages: av\n",
      "Successfully installed av-10.0.0\n"
     ]
    },
    {
     "name": "stderr",
     "output_type": "stream",
     "text": [
      "WARNING: There was an error checking the latest version of pip.\n"
     ]
    }
   ],
   "source": [
    "!pip install deeplake\n",
    "!pip install deeplake[audio]\n"
   ]
  },
  {
   "cell_type": "code",
   "execution_count": 11,
   "outputs": [
    {
     "name": "stderr",
     "output_type": "stream",
     "text": [
      "/"
     ]
    },
    {
     "name": "stdout",
     "output_type": "stream",
     "text": [
      "Opening dataset in read-only mode as you don't have write permissions.\n"
     ]
    },
    {
     "name": "stderr",
     "output_type": "stream",
     "text": [
      "/"
     ]
    },
    {
     "name": "stdout",
     "output_type": "stream",
     "text": [
      "This dataset can be visualized in Jupyter Notebook by ds.visualize() or at https://app.activeloop.ai/activeloop/nsynth-train\n",
      "\n"
     ]
    },
    {
     "name": "stderr",
     "output_type": "stream",
     "text": [
      "/"
     ]
    },
    {
     "name": "stdout",
     "output_type": "stream",
     "text": [
      "hub://activeloop/nsynth-train loaded successfully.\n",
      "\n"
     ]
    },
    {
     "name": "stderr",
     "output_type": "stream",
     "text": [
      "\r"
     ]
    },
    {
     "name": "stdout",
     "output_type": "stream",
     "text": [
      "Processing example 0\n",
      "C:\\Users\\noamk\\PycharmProjects\\ai_synth\\misc_notebooks\\nsynth_val\\example_0.wav\n",
      "Processing example 1\n",
      "C:\\Users\\noamk\\PycharmProjects\\ai_synth\\misc_notebooks\\nsynth_val\\example_1.wav\n",
      "Processing example 2\n",
      "C:\\Users\\noamk\\PycharmProjects\\ai_synth\\misc_notebooks\\nsynth_val\\example_2.wav\n",
      "Processing example 3\n",
      "C:\\Users\\noamk\\PycharmProjects\\ai_synth\\misc_notebooks\\nsynth_val\\example_3.wav\n",
      "Processing example 4\n",
      "C:\\Users\\noamk\\PycharmProjects\\ai_synth\\misc_notebooks\\nsynth_val\\example_4.wav\n",
      "Processing example 5\n",
      "C:\\Users\\noamk\\PycharmProjects\\ai_synth\\misc_notebooks\\nsynth_val\\example_5.wav\n",
      "Processing example 6\n",
      "C:\\Users\\noamk\\PycharmProjects\\ai_synth\\misc_notebooks\\nsynth_val\\example_6.wav\n",
      "Processing example 7\n",
      "C:\\Users\\noamk\\PycharmProjects\\ai_synth\\misc_notebooks\\nsynth_val\\example_7.wav\n",
      "Processing example 8\n",
      "C:\\Users\\noamk\\PycharmProjects\\ai_synth\\misc_notebooks\\nsynth_val\\example_8.wav\n",
      "Processing example 9\n",
      "C:\\Users\\noamk\\PycharmProjects\\ai_synth\\misc_notebooks\\nsynth_val\\example_9.wav\n"
     ]
    }
   ],
   "source": [
    "from scipy.io.wavfile import write\n",
    "import os\n",
    "import random\n",
    "import deeplake\n",
    "\n",
    "ds = deeplake.load(\"hub://activeloop/nsynth-train\")\n",
    "NUM_EXAMPLES = 20000\n",
    "\n",
    "# Create directory if not exists\n",
    "dir_name = \"nsynth_val\"\n",
    "full_path = os.path.join(os.getcwd(), dir_name) # This gets the full path to your directory\n",
    "\n",
    "if not os.path.exists(dir_name):\n",
    "    os.makedirs(dir_name)\n",
    "\n",
    "# Get the size of the dataset\n",
    "dataset_size = len(ds.audios)\n",
    "\n",
    "# Generate a list of 20000 unique random indexes from 0 to dataset_size\n",
    "random_indexes = random.sample(range(dataset_size), NUM_EXAMPLES)\n",
    "\n",
    "# Define the sample rate of the audio\n",
    "sample_rate = 16000\n",
    "\n",
    "# Iterate over the random indexes\n",
    "for i, rand_idx in enumerate(random_indexes):\n",
    "    print(f\"Processing example {i}\")\n",
    "    file_path = os.path.join(full_path, f\"example_{i}.wav\") # Join the full path with your file name\n",
    "    print(file_path) # This will print the full path to your file\n",
    "    # Get the example\n",
    "    example = ds.audios[rand_idx].numpy()\n",
    "\n",
    "    # Reshape the example\n",
    "    reshaped_example = example.reshape(64000, )\n",
    "\n",
    "    # Save the reshaped example as a .wav file\n",
    "    write(file_path, sample_rate, reshaped_example)\n"
   ],
   "metadata": {
    "collapsed": false,
    "ExecuteTime": {
     "end_time": "2023-07-24T12:40:37.963372Z",
     "start_time": "2023-07-24T12:40:22.689619900Z"
    }
   }
  }
 ],
 "metadata": {
  "kernelspec": {
   "display_name": "Python 3",
   "language": "python",
   "name": "python3"
  },
  "language_info": {
   "codemirror_mode": {
    "name": "ipython",
    "version": 2
   },
   "file_extension": ".py",
   "mimetype": "text/x-python",
   "name": "python",
   "nbconvert_exporter": "python",
   "pygments_lexer": "ipython2",
   "version": "2.7.6"
  }
 },
 "nbformat": 4,
 "nbformat_minor": 0
}
