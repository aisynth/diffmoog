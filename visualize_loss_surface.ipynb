{
 "cells": [
  {
   "cell_type": "code",
   "execution_count": 1,
   "metadata": {
    "collapsed": true
   },
   "outputs": [],
   "source": [
    "import json\n",
    "import os, glob\n",
    "\n",
    "from itertools import product\n",
    "\n",
    "import numpy as np\n",
    "import pandas as pd\n",
    "\n",
    "import torch\n",
    "\n",
    "import matplotlib.pyplot as plt\n",
    "import torchaudio\n",
    "\n",
    "from torchaudio.functional.filtering import lowpass_biquad, highpass_biquad\n",
    "from torchaudio.transforms import Spectrogram, MelSpectrogram, Resample\n",
    "\n",
    "from matplotlib import rcParams\n",
    "\n",
    "from collections import defaultdict\n",
    "\n",
    "from tensorboard.backend.event_processing.event_accumulator import EventAccumulator\n",
    "\n",
    "import helper\n",
    "from synth.synth_architecture import SynthModular\n",
    "from config import SynthConfig\n",
    "\n",
    "from config import configure_experiment\n",
    "from ai_synth_dataset import AiSynthDataset\n",
    "\n",
    "import seaborn as sns\n",
    "sns.set_style('whitegrid')"
   ]
  },
  {
   "cell_type": "code",
   "execution_count": 15,
   "outputs": [
    {
     "name": "stdout",
     "output_type": "stream",
     "text": [
      "Deleting previous experiment...\n"
     ]
    }
   ],
   "source": [
    "# Setup experiment\n",
    "\n",
    "exp_name = ''\n",
    "dataset_name = 'fm_toy_dataset'\n",
    "device = 'cuda:1'\n",
    "resample_op = Resample(orig_freq=16000, new_freq=50).to('cpu')\n",
    "\n",
    "cfg, model_cfg, synth_cfg, dataset_cfg = configure_experiment(exp_name, dataset_name)\n",
    "\n",
    "synth = SynthModular(synth_cfg=synth_cfg, sample_rate=cfg.sample_rate, device=device, num_sounds=1,\n",
    "                     signal_duration_sec=cfg.signal_duration_sec, preset=synth_cfg.preset)\n",
    "\n",
    "dataset = AiSynthDataset(dataset_cfg.train_parameters_file, dataset_cfg.train_audio_dir, device)\n",
    "\n",
    "target_sample = dataset[11]\n",
    "target_signal, target_param_dict, signal_index = target_sample\n",
    "\n",
    "target_signal = target_signal.to(device)\n",
    "\n",
    "synth.update_cells_from_dict(target_param_dict)"
   ],
   "metadata": {
    "collapsed": false,
    "pycharm": {
     "name": "#%%\n"
    }
   }
  },
  {
   "cell_type": "code",
   "execution_count": 42,
   "outputs": [],
   "source": [
    "loss_handler = helper.SpectralLoss(cfg=cfg,\n",
    "                                   fft_sizes=(2048, 1024, 512, 256, 128, 64),\n",
    "                                   loss_type='L1',\n",
    "                                   mag_weight=0,\n",
    "                                   delta_time_weight=10,\n",
    "                                   delta_freq_weight=0,\n",
    "                                   cumsum_freq_weight=0,\n",
    "                                   cumsum_time_weight=1,\n",
    "                                   logmag_weight=0,\n",
    "                                   normalize_by_size=True,\n",
    "                                   device=device)"
   ],
   "metadata": {
    "collapsed": false,
    "pycharm": {
     "name": "#%%\n"
    }
   }
  },
  {
   "cell_type": "code",
   "execution_count": 43,
   "outputs": [
    {
     "data": {
      "text/plain": "<Figure size 432x288 with 1 Axes>",
      "image/png": "[encoded data removed]"
     },
     "metadata": {},
     "output_type": "display_data"
    }
   ],
   "source": [
    "lfo_freq_vals = np.linspace(0, 20, 500)\n",
    "\n",
    "losses = []\n",
    "for freq_val in lfo_freq_vals:\n",
    "\n",
    "    synth.update_cells_from_dict({(0,0): {'operation': 'lfo', 'parameters' :{'freq': freq_val}}})\n",
    "    signal, _ = synth.generate_signal()\n",
    "\n",
    "    # resampled_target_signal = resample_op(target_signal.cpu())\n",
    "    # resampled_pred_signal = resample_op(signal.cpu())\n",
    "\n",
    "    # plt.plot(resampled_target_signal.detach().numpy().squeeze())\n",
    "    # plt.plot(resampled_pred_signal.detach().numpy().squeeze())\n",
    "    #\n",
    "    # plt.show()\n",
    "\n",
    "    loss_val = loss_handler.call(target_signal, signal.unsqueeze(0), signal_chain_index=0, global_step=0, summary_writer=None, log=False)\n",
    "\n",
    "    # loss_val = loss_handler.call(resampled_target_signal, resampled_pred_signal.unsqueeze(0), signal_chain_index=0, global_step=0, summary_writer=None, log=False)\n",
    "\n",
    "    losses.append(loss_val.detach().cpu().numpy())\n",
    "\n",
    "plt.plot(losses)\n",
    "plt.show()"
   ],
   "metadata": {
    "collapsed": false,
    "pycharm": {
     "name": "#%%\n"
    }
   }
  },
  {
   "cell_type": "code",
   "execution_count": 107,
   "outputs": [
    {
     "data": {
      "text/plain": "<matplotlib.image.AxesImage at 0x1e6ef887a30>"
     },
     "execution_count": 107,
     "metadata": {},
     "output_type": "execute_result"
    },
    {
     "data": {
      "text/plain": "<Figure size 432x288 with 1 Axes>",
      "image/png": "[encoded data removed]"
     },
     "metadata": {},
     "output_type": "display_data"
    }
   ],
   "source": [
    "spec_op = Spectrogram(n_fft=40)\n",
    "\n",
    "spec = spec_op(resampled_target_signal)\n",
    "\n",
    "plt.imshow(spec.squeeze(), origin='lower')"
   ],
   "metadata": {
    "collapsed": false,
    "pycharm": {
     "name": "#%%\n"
    }
   }
  }
 ],
 "metadata": {
  "kernelspec": {
   "display_name": "Python 3",
   "language": "python",
   "name": "python3"
  },
  "language_info": {
   "codemirror_mode": {
    "name": "ipython",
    "version": 2
   },
   "file_extension": ".py",
   "mimetype": "text/x-python",
   "name": "python",
   "nbconvert_exporter": "python",
   "pygments_lexer": "ipython2",
   "version": "2.7.6"
  }
 },
 "nbformat": 4,
 "nbformat_minor": 0
}