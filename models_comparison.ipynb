{
 "cells": [
  {
   "cell_type": "code",
   "execution_count": null,
   "metadata": {
    "collapsed": true,
    "pycharm": {
     "name": "#%%\n"
    }
   },
   "outputs": [],
   "source": [
    "import os\n",
    "\n",
    "import torch\n",
    "\n",
    "from config import SynthConfig, Config\n",
    "from dataset.ai_synth_dataset import AiSynthDataset, create_data_loader\n",
    "from model import helper\n",
    "from model.model import SimpleSynthNetwork\n",
    "from run_scripts.inference.inference_helper import inference_loop\n",
    "from synth.synth_architecture import SynthModular\n",
    "\n",
    "device = 'cuda:3'\n",
    "preset = 'BASIC_FLOW'\n",
    "\n",
    "## Create dataset\n",
    "dataset_to_visualize = 'basic_flow_dataset'\n",
    "split_to_visualize = 'test'\n",
    "data_dir = os.path.join('~/almog/ai_synth/data', dataset_to_visualize, split_to_visualize, '')\n",
    "\n",
    "wav_files_dir = os.path.join(data_dir, 'wav_files', '')\n",
    "params_csv_path = os.path.join(data_dir, 'params_dataset.pkl')\n",
    "\n",
    "ai_synth_dataset = AiSynthDataset(params_csv_path, wav_files_dir, device)\n",
    "test_dataloader = create_data_loader(ai_synth_dataset, 32, 4, shuffle=False)\n",
    "\n",
    "\n",
    "## init\n",
    "synth_cfg = SynthConfig()\n",
    "cfg = Config()\n",
    "\n",
    "transform = helper.mel_spectrogram_transform(cfg.sample_rate).to(device)\n",
    "normalizer = helper.Normalizer(cfg.signal_duration_sec, synth_cfg)\n",
    "\n",
    "## Load model\n",
    "model_ckpt_path = r'experiments/current/basic_flow/ckpts/synth_net_epoch0.pt'\n",
    "model = SimpleSynthNetwork(preset, synth_cfg, cfg, device, backbone='resnet').to(device)\n",
    "model.load_state_dict(torch.load(model_ckpt_path))\n",
    "\n",
    "model.eval()\n",
    "\n",
    "res = inference_loop(synth_cfg, test_dataloader, transform, model, normalizer.denormalize, device)\n",
    "\n",
    "print(res)"
   ]
  }
 ],
 "metadata": {
  "kernelspec": {
   "display_name": "Python 3",
   "language": "python",
   "name": "python3"
  },
  "language_info": {
   "codemirror_mode": {
    "name": "ipython",
    "version": 2
   },
   "file_extension": ".py",
   "mimetype": "text/x-python",
   "name": "python",
   "nbconvert_exporter": "python",
   "pygments_lexer": "ipython2",
   "version": "2.7.6"
  }
 },
 "nbformat": 4,
 "nbformat_minor": 0
}