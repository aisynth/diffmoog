{
 "cells": [
  {
   "cell_type": "code",
   "execution_count": 1,
   "metadata": {
    "collapsed": true,
    "pycharm": {
     "name": "#%%\n"
    }
   },
   "outputs": [],
   "source": [
    "import os\n",
    "\n",
    "import torch\n",
    "\n",
    "from config import SynthConfig, Config\n",
    "from dataset.ai_synth_dataset import AiSynthDataset, create_data_loader\n",
    "from model import helper\n",
    "from model.model import SimpleSynthNetwork\n",
    "from run_scripts.inference.inference_helper import inference_loop, process_batch_inference\n",
    "from synth.synth_architecture import SynthModular"
   ]
  },
  {
   "cell_type": "code",
   "execution_count": 2,
   "outputs": [],
   "source": [
    "\n",
    "device = 'cuda:0'\n",
    "preset = 'BASIC_FLOW'\n",
    "\n",
    "## Create dataset\n",
    "dataset_to_visualize = 'basic_flow_new_toy'\n",
    "split_to_visualize = 'test'\n",
    "data_dir = os.path.join('data', dataset_to_visualize, split_to_visualize, '')\n",
    "\n",
    "wav_files_dir = os.path.join(data_dir, 'wav_files', '')\n",
    "params_csv_path = os.path.join(data_dir, 'params_dataset.pkl')\n",
    "\n",
    "ai_synth_dataset = AiSynthDataset(params_csv_path, wav_files_dir, device)\n",
    "test_dataloader = create_data_loader(ai_synth_dataset, 10, 0, shuffle=False)\n",
    "\n",
    "\n",
    "## init\n",
    "synth_cfg = SynthConfig()\n",
    "cfg = Config()\n",
    "\n",
    "synth_obj = SynthModular(synth_cfg=synth_cfg,\n",
    "                         sample_rate=cfg.sample_rate,\n",
    "                         signal_duration_sec=cfg.signal_duration_sec,\n",
    "                         device=device,\n",
    "                         preset=preset)\n",
    "\n",
    "transform = helper.mel_spectrogram_transform(cfg.sample_rate).to(device)\n",
    "normalizer = helper.Normalizer(cfg.signal_duration_sec, synth_cfg)\n",
    "\n",
    "## Load model\n",
    "model_ckpt_path1 = r'experiments/current/basic_flow_test/ckpts/synth_net_epoch10.pt'\n",
    "model_ckpt_path2 = r'experiments/current/basic_flow_w_spec_loss_low_weight/ckpts/synth_net_epoch30.pt'\n",
    "model = SimpleSynthNetwork(preset, synth_cfg, cfg, device, backbone='resnet').to(device)"
   ],
   "metadata": {
    "collapsed": false,
    "pycharm": {
     "name": "#%%\n"
    }
   }
  },
  {
   "cell_type": "code",
   "execution_count": 6,
   "outputs": [
    {
     "data": {
      "text/plain": "SimpleSynthNetwork(\n  (backbone): ResNet(\n    (conv1): Conv2d(1, 64, kernel_size=(7, 7), stride=(2, 2), padding=(3, 3), bias=False)\n    (bn1): BatchNorm2d(64, eps=1e-05, momentum=0.1, affine=True, track_running_stats=True)\n    (relu): ReLU(inplace=True)\n    (maxpool): MaxPool2d(kernel_size=3, stride=2, padding=1, dilation=1, ceil_mode=False)\n    (layer1): Sequential(\n      (0): BasicBlock(\n        (conv1): Conv2d(64, 64, kernel_size=(3, 3), stride=(1, 1), padding=(1, 1), bias=False)\n        (bn1): BatchNorm2d(64, eps=1e-05, momentum=0.1, affine=True, track_running_stats=True)\n        (relu): ReLU(inplace=True)\n        (conv2): Conv2d(64, 64, kernel_size=(3, 3), stride=(1, 1), padding=(1, 1), bias=False)\n        (bn2): BatchNorm2d(64, eps=1e-05, momentum=0.1, affine=True, track_running_stats=True)\n      )\n      (1): BasicBlock(\n        (conv1): Conv2d(64, 64, kernel_size=(3, 3), stride=(1, 1), padding=(1, 1), bias=False)\n        (bn1): BatchNorm2d(64, eps=1e-05, momentum=0.1, affine=True, track_running_stats=True)\n        (relu): ReLU(inplace=True)\n        (conv2): Conv2d(64, 64, kernel_size=(3, 3), stride=(1, 1), padding=(1, 1), bias=False)\n        (bn2): BatchNorm2d(64, eps=1e-05, momentum=0.1, affine=True, track_running_stats=True)\n      )\n    )\n    (layer2): Sequential(\n      (0): BasicBlock(\n        (conv1): Conv2d(64, 128, kernel_size=(3, 3), stride=(2, 2), padding=(1, 1), bias=False)\n        (bn1): BatchNorm2d(128, eps=1e-05, momentum=0.1, affine=True, track_running_stats=True)\n        (relu): ReLU(inplace=True)\n        (conv2): Conv2d(128, 128, kernel_size=(3, 3), stride=(1, 1), padding=(1, 1), bias=False)\n        (bn2): BatchNorm2d(128, eps=1e-05, momentum=0.1, affine=True, track_running_stats=True)\n        (downsample): Sequential(\n          (0): Conv2d(64, 128, kernel_size=(1, 1), stride=(2, 2), bias=False)\n          (1): BatchNorm2d(128, eps=1e-05, momentum=0.1, affine=True, track_running_stats=True)\n        )\n      )\n      (1): BasicBlock(\n        (conv1): Conv2d(128, 128, kernel_size=(3, 3), stride=(1, 1), padding=(1, 1), bias=False)\n        (bn1): BatchNorm2d(128, eps=1e-05, momentum=0.1, affine=True, track_running_stats=True)\n        (relu): ReLU(inplace=True)\n        (conv2): Conv2d(128, 128, kernel_size=(3, 3), stride=(1, 1), padding=(1, 1), bias=False)\n        (bn2): BatchNorm2d(128, eps=1e-05, momentum=0.1, affine=True, track_running_stats=True)\n      )\n    )\n    (layer3): Sequential(\n      (0): BasicBlock(\n        (conv1): Conv2d(128, 256, kernel_size=(3, 3), stride=(2, 2), padding=(1, 1), bias=False)\n        (bn1): BatchNorm2d(256, eps=1e-05, momentum=0.1, affine=True, track_running_stats=True)\n        (relu): ReLU(inplace=True)\n        (conv2): Conv2d(256, 256, kernel_size=(3, 3), stride=(1, 1), padding=(1, 1), bias=False)\n        (bn2): BatchNorm2d(256, eps=1e-05, momentum=0.1, affine=True, track_running_stats=True)\n        (downsample): Sequential(\n          (0): Conv2d(128, 256, kernel_size=(1, 1), stride=(2, 2), bias=False)\n          (1): BatchNorm2d(256, eps=1e-05, momentum=0.1, affine=True, track_running_stats=True)\n        )\n      )\n      (1): BasicBlock(\n        (conv1): Conv2d(256, 256, kernel_size=(3, 3), stride=(1, 1), padding=(1, 1), bias=False)\n        (bn1): BatchNorm2d(256, eps=1e-05, momentum=0.1, affine=True, track_running_stats=True)\n        (relu): ReLU(inplace=True)\n        (conv2): Conv2d(256, 256, kernel_size=(3, 3), stride=(1, 1), padding=(1, 1), bias=False)\n        (bn2): BatchNorm2d(256, eps=1e-05, momentum=0.1, affine=True, track_running_stats=True)\n      )\n    )\n    (layer4): Sequential(\n      (0): BasicBlock(\n        (conv1): Conv2d(256, 512, kernel_size=(3, 3), stride=(2, 2), padding=(1, 1), bias=False)\n        (bn1): BatchNorm2d(512, eps=1e-05, momentum=0.1, affine=True, track_running_stats=True)\n        (relu): ReLU(inplace=True)\n        (conv2): Conv2d(512, 512, kernel_size=(3, 3), stride=(1, 1), padding=(1, 1), bias=False)\n        (bn2): BatchNorm2d(512, eps=1e-05, momentum=0.1, affine=True, track_running_stats=True)\n        (downsample): Sequential(\n          (0): Conv2d(256, 512, kernel_size=(1, 1), stride=(2, 2), bias=False)\n          (1): BatchNorm2d(512, eps=1e-05, momentum=0.1, affine=True, track_running_stats=True)\n        )\n      )\n      (1): BasicBlock(\n        (conv1): Conv2d(512, 512, kernel_size=(3, 3), stride=(1, 1), padding=(1, 1), bias=False)\n        (bn1): BatchNorm2d(512, eps=1e-05, momentum=0.1, affine=True, track_running_stats=True)\n        (relu): ReLU(inplace=True)\n        (conv2): Conv2d(512, 512, kernel_size=(3, 3), stride=(1, 1), padding=(1, 1), bias=False)\n        (bn2): BatchNorm2d(512, eps=1e-05, momentum=0.1, affine=True, track_running_stats=True)\n      )\n    )\n    (avgpool): AdaptiveAvgPool2d(output_size=(1, 1))\n    (fc): Linear(in_features=512, out_features=128, bias=True)\n  )\n  (heads_module_dict): ModuleDict(\n    ((0, 0)_lfo_freq): MLPBlock(\n      (mlp): Sequential(\n        (0): Linear(in_features=128, out_features=64, bias=False)\n        (1): Linear(in_features=64, out_features=10, bias=False)\n        (2): Linear(in_features=10, out_features=1, bias=False)\n      )\n    )\n    ((0, 0)_lfo_waveform): MLPBlock(\n      (mlp): Sequential(\n        (0): Linear(in_features=128, out_features=64, bias=False)\n        (1): Linear(in_features=64, out_features=10, bias=False)\n        (2): Linear(in_features=10, out_features=3, bias=False)\n      )\n    )\n    ((0, 1)_fm_sine_freq_c): MLPBlock(\n      (mlp): Sequential(\n        (0): Linear(in_features=128, out_features=64, bias=False)\n        (1): Linear(in_features=64, out_features=10, bias=False)\n        (2): Linear(in_features=10, out_features=1, bias=False)\n      )\n    )\n    ((0, 1)_fm_sine_mod_index): MLPBlock(\n      (mlp): Sequential(\n        (0): Linear(in_features=128, out_features=64, bias=False)\n        (1): Linear(in_features=64, out_features=10, bias=False)\n        (2): Linear(in_features=10, out_features=1, bias=False)\n      )\n    )\n    ((1, 0)_lfo_freq): MLPBlock(\n      (mlp): Sequential(\n        (0): Linear(in_features=128, out_features=64, bias=False)\n        (1): Linear(in_features=64, out_features=10, bias=False)\n        (2): Linear(in_features=10, out_features=1, bias=False)\n      )\n    )\n    ((1, 0)_lfo_waveform): MLPBlock(\n      (mlp): Sequential(\n        (0): Linear(in_features=128, out_features=64, bias=False)\n        (1): Linear(in_features=64, out_features=10, bias=False)\n        (2): Linear(in_features=10, out_features=3, bias=False)\n      )\n    )\n    ((1, 1)_fm_square_freq_c): MLPBlock(\n      (mlp): Sequential(\n        (0): Linear(in_features=128, out_features=64, bias=False)\n        (1): Linear(in_features=64, out_features=10, bias=False)\n        (2): Linear(in_features=10, out_features=1, bias=False)\n      )\n    )\n    ((1, 1)_fm_square_mod_index): MLPBlock(\n      (mlp): Sequential(\n        (0): Linear(in_features=128, out_features=64, bias=False)\n        (1): Linear(in_features=64, out_features=10, bias=False)\n        (2): Linear(in_features=10, out_features=1, bias=False)\n      )\n    )\n    ((2, 0)_lfo_freq): MLPBlock(\n      (mlp): Sequential(\n        (0): Linear(in_features=128, out_features=64, bias=False)\n        (1): Linear(in_features=64, out_features=10, bias=False)\n        (2): Linear(in_features=10, out_features=1, bias=False)\n      )\n    )\n    ((2, 0)_lfo_waveform): MLPBlock(\n      (mlp): Sequential(\n        (0): Linear(in_features=128, out_features=64, bias=False)\n        (1): Linear(in_features=64, out_features=10, bias=False)\n        (2): Linear(in_features=10, out_features=3, bias=False)\n      )\n    )\n    ((2, 1)_fm_saw_freq_c): MLPBlock(\n      (mlp): Sequential(\n        (0): Linear(in_features=128, out_features=64, bias=False)\n        (1): Linear(in_features=64, out_features=10, bias=False)\n        (2): Linear(in_features=10, out_features=1, bias=False)\n      )\n    )\n    ((2, 1)_fm_saw_mod_index): MLPBlock(\n      (mlp): Sequential(\n        (0): Linear(in_features=128, out_features=64, bias=False)\n        (1): Linear(in_features=64, out_features=10, bias=False)\n        (2): Linear(in_features=10, out_features=1, bias=False)\n      )\n    )\n    ((0, 3)_amplitude_shape_envelope): MLPBlock(\n      (mlp): Sequential(\n        (0): Linear(in_features=128, out_features=512, bias=False)\n        (1): Linear(in_features=512, out_features=1024, bias=False)\n        (2): Linear(in_features=1024, out_features=16000, bias=False)\n      )\n    )\n    ((0, 3)_amplitude_shape_attack_t): MLPBlock(\n      (mlp): Sequential(\n        (0): Linear(in_features=128, out_features=64, bias=False)\n        (1): Linear(in_features=64, out_features=10, bias=False)\n        (2): Linear(in_features=10, out_features=1, bias=False)\n      )\n    )\n    ((0, 3)_amplitude_shape_decay_t): MLPBlock(\n      (mlp): Sequential(\n        (0): Linear(in_features=128, out_features=64, bias=False)\n        (1): Linear(in_features=64, out_features=10, bias=False)\n        (2): Linear(in_features=10, out_features=1, bias=False)\n      )\n    )\n    ((0, 3)_amplitude_shape_sustain_t): MLPBlock(\n      (mlp): Sequential(\n        (0): Linear(in_features=128, out_features=64, bias=False)\n        (1): Linear(in_features=64, out_features=10, bias=False)\n        (2): Linear(in_features=10, out_features=1, bias=False)\n      )\n    )\n    ((0, 3)_amplitude_shape_sustain_level): MLPBlock(\n      (mlp): Sequential(\n        (0): Linear(in_features=128, out_features=64, bias=False)\n        (1): Linear(in_features=64, out_features=10, bias=False)\n        (2): Linear(in_features=10, out_features=1, bias=False)\n      )\n    )\n    ((0, 3)_amplitude_shape_release_t): MLPBlock(\n      (mlp): Sequential(\n        (0): Linear(in_features=128, out_features=64, bias=False)\n        (1): Linear(in_features=64, out_features=10, bias=False)\n        (2): Linear(in_features=10, out_features=1, bias=False)\n      )\n    )\n    ((0, 4)_lowpass_filter_filter_freq): MLPBlock(\n      (mlp): Sequential(\n        (0): Linear(in_features=128, out_features=64, bias=False)\n        (1): Linear(in_features=64, out_features=10, bias=False)\n        (2): Linear(in_features=10, out_features=1, bias=False)\n      )\n    )\n    ((0, 4)_lowpass_filter_resonance): MLPBlock(\n      (mlp): Sequential(\n        (0): Linear(in_features=128, out_features=64, bias=False)\n        (1): Linear(in_features=64, out_features=10, bias=False)\n        (2): Linear(in_features=10, out_features=1, bias=False)\n      )\n    )\n  )\n  (softmax): Softmax(dim=1)\n  (sigmoid): Sigmoid()\n)"
     },
     "execution_count": 6,
     "metadata": {},
     "output_type": "execute_result"
    }
   ],
   "source": [
    "model.load_state_dict(torch.load(model_ckpt_path2, map_location=device)['model_state_dict'])\n",
    "model.eval()"
   ],
   "metadata": {
    "collapsed": false,
    "pycharm": {
     "name": "#%%\n"
    }
   }
  },
  {
   "cell_type": "code",
   "execution_count": 7,
   "outputs": [
    {
     "name": "stderr",
     "output_type": "stream",
     "text": [
      "C:\\Users\\Noy Uzrad\\PycharmProjects\\ai_synth\\src\\run_scripts\\inference\\inference_helper.py:221: FutureWarning: Pass y=[0.00112411 0.0011152  0.00110542 ... 0.00145583 0.001449   0.00144165] as keyword args. From version 0.10 passing these as positional arguments will result in an error\n",
      "  mfcc1 = mfcc(sound1, sr=sample_rate, n_mfcc=40)\n",
      "C:\\Users\\Noy Uzrad\\PycharmProjects\\ai_synth\\src\\run_scripts\\inference\\inference_helper.py:222: FutureWarning: Pass y=[-0.0004677  -0.0004693  -0.00047032 ... -0.00068673 -0.00069697\n",
      " -0.00070597] as keyword args. From version 0.10 passing these as positional arguments will result in an error\n",
      "  mfcc2 = mfcc(sound2, sr=sample_rate, n_mfcc=40)\n",
      "C:\\Users\\Noy Uzrad\\PycharmProjects\\ai_synth\\src\\run_scripts\\inference\\inference_helper.py:221: FutureWarning: Pass y=[ 0.00021173  0.00034984  0.00049423 ... -0.00136622 -0.00135921\n",
      " -0.00131699] as keyword args. From version 0.10 passing these as positional arguments will result in an error\n",
      "  mfcc1 = mfcc(sound1, sr=sample_rate, n_mfcc=40)\n",
      "C:\\Users\\Noy Uzrad\\PycharmProjects\\ai_synth\\src\\run_scripts\\inference\\inference_helper.py:222: FutureWarning: Pass y=[ 0.00204302  0.00230491  0.00256111 ... -0.00038032 -0.00054484\n",
      " -0.00065546] as keyword args. From version 0.10 passing these as positional arguments will result in an error\n",
      "  mfcc2 = mfcc(sound2, sr=sample_rate, n_mfcc=40)\n",
      "C:\\Users\\Noy Uzrad\\PycharmProjects\\ai_synth\\src\\run_scripts\\inference\\inference_helper.py:221: FutureWarning: Pass y=[ 2.14749048e-06  1.09275396e-04  2.49641133e-04 ...  8.18298076e-07\n",
      " -6.85303462e-07  5.22776190e-07] as keyword args. From version 0.10 passing these as positional arguments will result in an error\n",
      "  mfcc1 = mfcc(sound1, sr=sample_rate, n_mfcc=40)\n",
      "C:\\Users\\Noy Uzrad\\PycharmProjects\\ai_synth\\src\\run_scripts\\inference\\inference_helper.py:222: FutureWarning: Pass y=[ 3.185172e-05  6.441264e-04  8.525368e-04 ... -8.057392e-04 -9.239860e-04\n",
      " -8.014069e-04] as keyword args. From version 0.10 passing these as positional arguments will result in an error\n",
      "  mfcc2 = mfcc(sound2, sr=sample_rate, n_mfcc=40)\n",
      "C:\\Users\\Noy Uzrad\\PycharmProjects\\ai_synth\\src\\run_scripts\\inference\\inference_helper.py:221: FutureWarning: Pass y=[ 3.9671795e-06  1.8185315e-04  4.5055477e-04 ...  4.8701099e-07\n",
      " -3.6984619e-07  3.0417408e-07] as keyword args. From version 0.10 passing these as positional arguments will result in an error\n",
      "  mfcc1 = mfcc(sound1, sr=sample_rate, n_mfcc=40)\n",
      "C:\\Users\\Noy Uzrad\\PycharmProjects\\ai_synth\\src\\run_scripts\\inference\\inference_helper.py:222: FutureWarning: Pass y=[ 6.1639985e-05  1.2419110e-03  2.0635799e-03 ... -6.8002631e-04\n",
      " -1.1508123e-03 -1.0867873e-03] as keyword args. From version 0.10 passing these as positional arguments will result in an error\n",
      "  mfcc2 = mfcc(sound2, sr=sample_rate, n_mfcc=40)\n",
      "C:\\Users\\Noy Uzrad\\PycharmProjects\\ai_synth\\src\\run_scripts\\inference\\inference_helper.py:221: FutureWarning: Pass y=[ 3.5549567e-06  8.5131862e-05  2.3613100e-04 ... -3.4484812e-05\n",
      "  8.9328905e-06  2.7418691e-06] as keyword args. From version 0.10 passing these as positional arguments will result in an error\n",
      "  mfcc1 = mfcc(sound1, sr=sample_rate, n_mfcc=40)\n",
      "C:\\Users\\Noy Uzrad\\PycharmProjects\\ai_synth\\src\\run_scripts\\inference\\inference_helper.py:222: FutureWarning: Pass y=[ 0.00030218  0.00182856  0.00313419 ...  0.0011556   0.0002664\n",
      " -0.00197166] as keyword args. From version 0.10 passing these as positional arguments will result in an error\n",
      "  mfcc2 = mfcc(sound2, sr=sample_rate, n_mfcc=40)\n",
      "C:\\Users\\Noy Uzrad\\PycharmProjects\\ai_synth\\src\\run_scripts\\inference\\inference_helper.py:221: FutureWarning: Pass y=[ 2.19228223e-05  5.17539956e-05  1.04987244e-04 ... -3.21550829e-06\n",
      " -4.49934731e-07  1.66093537e-06] as keyword args. From version 0.10 passing these as positional arguments will result in an error\n",
      "  mfcc1 = mfcc(sound1, sr=sample_rate, n_mfcc=40)\n",
      "C:\\Users\\Noy Uzrad\\PycharmProjects\\ai_synth\\src\\run_scripts\\inference\\inference_helper.py:222: FutureWarning: Pass y=[ 8.0120144e-06  6.9672111e-05  1.4495946e-04 ... -4.2299602e-05\n",
      " -9.6098476e-05 -8.3793973e-05] as keyword args. From version 0.10 passing these as positional arguments will result in an error\n",
      "  mfcc2 = mfcc(sound2, sr=sample_rate, n_mfcc=40)\n",
      "C:\\Users\\Noy Uzrad\\PycharmProjects\\ai_synth\\src\\run_scripts\\inference\\inference_helper.py:221: FutureWarning: Pass y=[ 4.5412988e-04  9.4106619e-04  1.5264964e-03 ... -3.1067324e-05\n",
      " -2.4895386e-05 -1.6112426e-05] as keyword args. From version 0.10 passing these as positional arguments will result in an error\n",
      "  mfcc1 = mfcc(sound1, sr=sample_rate, n_mfcc=40)\n",
      "C:\\Users\\Noy Uzrad\\PycharmProjects\\ai_synth\\src\\run_scripts\\inference\\inference_helper.py:222: FutureWarning: Pass y=[0.0009138  0.00178948 0.00276903 ... 0.00036818 0.00024132 0.00020148] as keyword args. From version 0.10 passing these as positional arguments will result in an error\n",
      "  mfcc2 = mfcc(sound2, sr=sample_rate, n_mfcc=40)\n",
      "C:\\Users\\Noy Uzrad\\PycharmProjects\\ai_synth\\src\\run_scripts\\inference\\inference_helper.py:221: FutureWarning: Pass y=[ 4.7819390e-06  7.2615192e-05  1.7678933e-04 ... -3.8635394e-06\n",
      "  8.9671045e-07  8.7239664e-07] as keyword args. From version 0.10 passing these as positional arguments will result in an error\n",
      "  mfcc1 = mfcc(sound1, sr=sample_rate, n_mfcc=40)\n",
      "C:\\Users\\Noy Uzrad\\PycharmProjects\\ai_synth\\src\\run_scripts\\inference\\inference_helper.py:222: FutureWarning: Pass y=[ 0.00022574  0.00093228  0.00165989 ... -0.00107914  0.00049822\n",
      "  0.00104326] as keyword args. From version 0.10 passing these as positional arguments will result in an error\n",
      "  mfcc2 = mfcc(sound2, sr=sample_rate, n_mfcc=40)\n",
      "C:\\Users\\Noy Uzrad\\PycharmProjects\\ai_synth\\src\\run_scripts\\inference\\inference_helper.py:221: FutureWarning: Pass y=[5.99133164e-05 1.07270236e-04 1.96433379e-04 ... 3.62267492e-05\n",
      " 3.88541230e-05 2.33460269e-05] as keyword args. From version 0.10 passing these as positional arguments will result in an error\n",
      "  mfcc1 = mfcc(sound1, sr=sample_rate, n_mfcc=40)\n",
      "C:\\Users\\Noy Uzrad\\PycharmProjects\\ai_synth\\src\\run_scripts\\inference\\inference_helper.py:222: FutureWarning: Pass y=[6.5223285e-05 1.0839141e-04 1.6225448e-04 ... 9.0320982e-06 4.1594267e-05\n",
      " 6.9156406e-05] as keyword args. From version 0.10 passing these as positional arguments will result in an error\n",
      "  mfcc2 = mfcc(sound2, sr=sample_rate, n_mfcc=40)\n",
      "C:\\Users\\Noy Uzrad\\PycharmProjects\\ai_synth\\src\\run_scripts\\inference\\inference_helper.py:221: FutureWarning: Pass y=[-5.5668570e-06 -2.1490616e-06  1.6143105e-06 ...  5.6553382e-04\n",
      "  5.8799610e-04  5.9242512e-04] as keyword args. From version 0.10 passing these as positional arguments will result in an error\n",
      "  mfcc1 = mfcc(sound1, sr=sample_rate, n_mfcc=40)\n",
      "C:\\Users\\Noy Uzrad\\PycharmProjects\\ai_synth\\src\\run_scripts\\inference\\inference_helper.py:222: FutureWarning: Pass y=[3.5502453e-05 4.2352760e-05 4.9917489e-05 ... 5.8253514e-05 7.4591779e-05\n",
      " 9.0775167e-05] as keyword args. From version 0.10 passing these as positional arguments will result in an error\n",
      "  mfcc2 = mfcc(sound2, sr=sample_rate, n_mfcc=40)\n"
     ]
    }
   ],
   "source": [
    "# audio_batch = test_dataloader.__iter__().next()\n",
    "results2, metrics2 = process_batch_inference(audio_batch, transform, model, normalizer.denormalize, synth_obj, device, cfg)"
   ],
   "metadata": {
    "collapsed": false,
    "pycharm": {
     "name": "#%%\n"
    }
   }
  },
  {
   "cell_type": "code",
   "execution_count": 8,
   "outputs": [],
   "source": [
    "for k, v in metrics2.items():\n",
    "    metrics2[k] = v / 10"
   ],
   "metadata": {
    "collapsed": false,
    "pycharm": {
     "name": "#%%\n"
    }
   }
  },
  {
   "cell_type": "code",
   "execution_count": 9,
   "outputs": [
    {
     "data": {
      "text/plain": "defaultdict(float,\n            {'lsd_value': 61.6885009765625,\n             'pearson_stft': 0.6873675721354875,\n             'pearson_fft': 0.481489135158127,\n             'mean_average_error': 0.4900597095489502,\n             'mfcc_mae': 5.976694107055664,\n             'spectral_convergence_value': 0.7485891342163086})"
     },
     "execution_count": 9,
     "metadata": {},
     "output_type": "execute_result"
    }
   ],
   "source": [
    "metrics"
   ],
   "metadata": {
    "collapsed": false,
    "pycharm": {
     "name": "#%%\n"
    }
   }
  },
  {
   "cell_type": "code",
   "execution_count": 10,
   "outputs": [
    {
     "data": {
      "text/plain": "defaultdict(float,\n            {'lsd_value': 70.4620849609375,\n             'pearson_stft': 0.49289836366789547,\n             'pearson_fft': 0.3709534455294915,\n             'mean_average_error': 0.579149580001831,\n             'mfcc_mae': 5.999608993530273,\n             'spectral_convergence_value': 0.9838637351989746})"
     },
     "execution_count": 10,
     "metadata": {},
     "output_type": "execute_result"
    }
   ],
   "source": [
    "metrics2"
   ],
   "metadata": {
    "collapsed": false,
    "pycharm": {
     "name": "#%%\n"
    }
   }
  },
  {
   "cell_type": "markdown",
   "source": [],
   "metadata": {
    "collapsed": false,
    "pycharm": {
     "name": "#%% md\n"
    }
   }
  }
 ],
 "metadata": {
  "kernelspec": {
   "display_name": "Python 3",
   "language": "python",
   "name": "python3"
  },
  "language_info": {
   "codemirror_mode": {
    "name": "ipython",
    "version": 2
   },
   "file_extension": ".py",
   "mimetype": "text/x-python",
   "name": "python",
   "nbconvert_exporter": "python",
   "pygments_lexer": "ipython2",
   "version": "2.7.6"
  }
 },
 "nbformat": 4,
 "nbformat_minor": 0
}