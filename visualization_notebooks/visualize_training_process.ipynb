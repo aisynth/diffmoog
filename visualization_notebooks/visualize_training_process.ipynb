{
 "cells": [
  {
   "cell_type": "code",
   "execution_count": 1,
   "metadata": {
    "collapsed": true
   },
   "outputs": [
    {
     "ename": "ModuleNotFoundError",
     "evalue": "No module named 'src'",
     "output_type": "error",
     "traceback": [
      "\u001B[1;31m---------------------------------------------------------------------------\u001B[0m",
      "\u001B[1;31mModuleNotFoundError\u001B[0m                       Traceback (most recent call last)",
      "\u001B[1;32m~\\AppData\\Local\\Temp\\ipykernel_15956\\18184604.py\u001B[0m in \u001B[0;36m<cell line: 25>\u001B[1;34m()\u001B[0m\n\u001B[0;32m     23\u001B[0m \u001B[1;32mfrom\u001B[0m \u001B[0mtqdm\u001B[0m \u001B[1;32mimport\u001B[0m \u001B[0mtqdm\u001B[0m\u001B[1;33m\u001B[0m\u001B[1;33m\u001B[0m\u001B[0m\n\u001B[0;32m     24\u001B[0m \u001B[1;33m\u001B[0m\u001B[0m\n\u001B[1;32m---> 25\u001B[1;33m \u001B[1;32mfrom\u001B[0m \u001B[0msrc\u001B[0m\u001B[1;33m.\u001B[0m\u001B[0mmodel\u001B[0m\u001B[1;33m.\u001B[0m\u001B[0mmodel\u001B[0m \u001B[1;32mimport\u001B[0m \u001B[0mDecoderOnlyNetwork\u001B[0m\u001B[1;33m\u001B[0m\u001B[1;33m\u001B[0m\u001B[0m\n\u001B[0m\u001B[0;32m     26\u001B[0m \u001B[1;32mfrom\u001B[0m \u001B[0msrc\u001B[0m\u001B[1;33m.\u001B[0m\u001B[0msynth\u001B[0m\u001B[1;33m.\u001B[0m\u001B[0mparameters_normalizer\u001B[0m \u001B[1;32mimport\u001B[0m \u001B[0mNormalizer\u001B[0m\u001B[1;33m\u001B[0m\u001B[1;33m\u001B[0m\u001B[0m\n\u001B[0;32m     27\u001B[0m \u001B[1;32mfrom\u001B[0m \u001B[0msrc\u001B[0m\u001B[1;33m.\u001B[0m\u001B[0mmodel\u001B[0m\u001B[1;33m.\u001B[0m\u001B[0mloss\u001B[0m \u001B[1;32mimport\u001B[0m \u001B[0mspectral_loss\u001B[0m\u001B[1;33m\u001B[0m\u001B[1;33m\u001B[0m\u001B[0m\n",
      "\u001B[1;31mModuleNotFoundError\u001B[0m: No module named 'src'"
     ]
    }
   ],
   "source": [
    "import copy\n",
    "import json\n",
    "import os, glob\n",
    "\n",
    "from itertools import product\n",
    "\n",
    "import numpy as np\n",
    "import pandas as pd\n",
    "\n",
    "import torch\n",
    "# %matplotlib inline\n",
    "\n",
    "import torchaudio\n",
    "\n",
    "from torchaudio.functional.filtering import lowpass_biquad, highpass_biquad\n",
    "from torchaudio.transforms import Spectrogram, MelSpectrogram, Resample\n",
    "\n",
    "from matplotlib import rcParams\n",
    "\n",
    "from collections import defaultdict\n",
    "\n",
    "from tensorboard.backend.event_processing.event_accumulator import EventAccumulator\n",
    "from tqdm import tqdm\n",
    "\n",
    "from src.model.model import DecoderOnlyNetwork\n",
    "from src.synth.parameters_normalizer import Normalizer\n",
    "from src.model.loss import spectral_loss\n",
    "from synth.synth_architecture import SynthModular\n",
    "# from config import SynthConfig\n",
    "from src.main_hp_search_dec_only import configure_experiment\n",
    "\n",
    "# from config import configure_experiment\n",
    "from dataset.ai_synth_dataset import AiSynthDataset\n",
    "from synth.synth_constants import synth_constants\n",
    "\n",
    "%matplotlib inline\n",
    "import matplotlib\n",
    "# matplotlib.use('TkAgg')\n",
    "import matplotlib.pyplot as plt\n",
    "\n",
    "\n",
    "import seaborn as sns\n",
    "sns.set_style('whitegrid')"
   ]
  },
  {
   "cell_type": "markdown",
   "source": [],
   "metadata": {
    "collapsed": false
   }
  },
  {
   "cell_type": "code",
   "execution_count": null,
   "outputs": [],
   "source": [
    "# Setup experiment\n",
    "\n",
    "exp_name = 'training_visualization_fm_saw'\n",
    "dataset_name = 'fm_saw_single'\n",
    "config_name = r'C:\\Users\\noamk\\PycharmProjects\\ai_synth\\configs\\lfo_saw_single_synth_config_hp_search.yaml'\n",
    "device = 'cuda'\n",
    "\n",
    "cfg = configure_experiment(exp_name, dataset_name, config_name, debug=True)\n",
    "\n",
    "synth = SynthModular(preset_name=cfg.synth.preset,\n",
    "                     synth_constants=synth_constants,\n",
    "                     device=device)\n",
    "\n",
    "decoder_net = DecoderOnlyNetwork(preset=cfg.synth.preset, device=device)\n",
    "normalizer = Normalizer(cfg.synth.note_off_time, cfg.synth.signal_duration, synth_constants)"
   ],
   "metadata": {
    "collapsed": false
   }
  },
  {
   "cell_type": "code",
   "execution_count": null,
   "outputs": [],
   "source": [
    "cfg.multi_spectral_loss_spec_type = 'SPECTROGRAM'\n",
    "loss_handler = spectral_loss.SpectralLoss(loss_type=cfg.loss.spec_loss_type,\n",
    "                                          loss_preset=cfg.loss.preset,\n",
    "                                          synth_constants=synth_constants, device=device)\n",
    "\n",
    "params_loss_handler = torch.nn.MSELoss()\n",
    "\n",
    "loss_handler.spectrogram_ops"
   ],
   "metadata": {
    "collapsed": false
   }
  },
  {
   "cell_type": "code",
   "execution_count": null,
   "outputs": [],
   "source": [
    "dataset = AiSynthDataset(r'C:\\Users\\noamk\\PycharmProjects\\ai_synth\\data\\lfo_saw_single\\train', noise_std=0)\n",
    "\n",
    "target_sample = dataset[0]\n",
    "target_signal, target_param_dict, signal_index = target_sample\n",
    "\n",
    "print(f\"target parameters full range: \\n{target_param_dict}\")\n",
    "\n",
    "target_param_dict = {(1, 1): {'operation': 'lfo',\n",
    "                            'parameters': {'active': torch.tensor([[-1000.0]], device=device),\n",
    "                                           'output': [[(-1, -1)]],\n",
    "                                           'freq': torch.tensor([14.285357442943784], device=device),\n",
    "                                           'waveform': torch.tensor([[0., 1000.0, 0.]], device=device)}},\n",
    "                   (0, 2): {'operation': 'fm_saw',\n",
    "                            'parameters': {'fm_active': torch.tensor([[-1000.0]], device=device),\n",
    "                                           'active': torch.tensor([[-1000.0]], device=device),\n",
    "                                           'amp_c': torch.tensor([0.6187255599871848], device=device),\n",
    "                                           'freq_c': torch.tensor([349.22823143300377], device=device),\n",
    "                                           'mod_index': torch.tensor([0.02403950683025824], device=device)}}}\n",
    "\n",
    "target_params_01 = normalizer.normalize(target_param_dict)\n",
    "print(f\"target parameters 0-1: \\n{target_params_01}\")\n",
    "\n",
    "plt.figure(figsize=(25, 10))\n",
    "plt.title(\"target signal\")\n",
    "plt.plot(target_signal.detach().numpy().squeeze())\n",
    "plt.show()\n",
    "\n",
    "decoder_net.apply_params(target_params_01)\n",
    "\n",
    "parameters_to_freeze = {(1, 1): {'operation': 'lfo',\n",
    "                                      'parameters': ['freq', 'waveform', 'active']},\n",
    "                        (0, 2): {'operation': 'fm_saw',\n",
    "                                 'parameters': ['active', 'fm_active', 'amp_c', 'mod_index']}}\n",
    "\n",
    "decoder_net.freeze_params(parameters_to_freeze)\n",
    "\n",
    "\n",
    "predicted_params_01 = decoder_net()\n",
    "print(f\"decoder_net output: \\n {predicted_params_01}\")\n",
    "\n",
    "predicted_params_full_range = normalizer.denormalize(predicted_params_01)\n",
    "print(f\"decoder_net output full range: \\n {predicted_params_full_range}\")\n",
    "\n",
    "synth.update_cells_from_dict(predicted_params_full_range)\n",
    "generated_target_signal, _ = synth.generate_signal(signal_duration=1, batch_size=1)\n",
    "\n",
    "plt.figure(figsize=(25, 10))\n",
    "plt.title(\"decoder_net output signal\")\n",
    "plt.plot(generated_target_signal.cpu().detach().numpy().squeeze())\n",
    "plt.show()"
   ],
   "metadata": {
    "collapsed": false
   }
  },
  {
   "cell_type": "markdown",
   "source": [],
   "metadata": {
    "collapsed": false
   }
  },
  {
   "cell_type": "code",
   "execution_count": null,
   "outputs": [],
   "source": [
    "from tqdm import tqdm\n",
    "\n",
    "cfg.multi_spectral_loss_spec_type = 'SPECTROGRAM'\n",
    "loss_handler = spectral_loss.SpectralLoss(loss_type=cfg.loss.spec_loss_type,\n",
    "                                          loss_preset=\"mag_logmag\",\n",
    "                                          synth_constants=synth_constants, device=device)\n",
    "\n",
    "fm_freq_vals = np.linspace(0, 2000, 20000)\n",
    "\n",
    "losses = []\n",
    "for freq_val in tqdm(fm_freq_vals):\n",
    "    update_params = copy.deepcopy(target_param_dict)\n",
    "\n",
    "    update_params[(0, 2)]['parameters'].update({'freq_c': freq_val})\n",
    "\n",
    "    synth.update_cells_from_dict(update_params)\n",
    "    generated_signal, _ = synth.generate_signal(signal_duration=1)\n",
    "\n",
    "    target_signal_unsqueezed = target_signal.to(device).unsqueeze(dim=0)\n",
    "    loss_val, _, _ = loss_handler.call(target_signal_unsqueezed, generated_signal, step=0, return_spectrogram=False)\n",
    "\n",
    "    losses.append(loss_val.detach().cpu().numpy().item())\n",
    "\n",
    "plt.figure(figsize=(25, 5))\n",
    "plt.plot(fm_freq_vals, losses)"
   ],
   "metadata": {
    "collapsed": false
   }
  },
  {
   "cell_type": "code",
   "execution_count": null,
   "outputs": [],
   "source": [
    "num_epochs = 200\n",
    "starting_frequency = 0.155\n",
    "decoder_net.apply_params_partial({(0, 2):\n",
    "                                     {'operation': 'fm_saw',\n",
    "                                      'parameters': {'freq_c': starting_frequency}\n",
    "                                     }\n",
    "                                 })\n",
    "\n",
    "base_lr = 1e-3\n",
    "optimizer = torch.optim.Adamax(decoder_net.parameters())\n",
    "\n",
    "train_res = []\n",
    "for e in range(num_epochs):\n",
    "\n",
    "    predicted_params_01 = decoder_net.forward()\n",
    "    # print(f\"decoder_net output: \\n {predicted_params_01}\")\n",
    "\n",
    "    predicted_params_full_range = normalizer.denormalize(predicted_params_01)\n",
    "    predicted_freq = predicted_params_full_range[(0, 2)]['parameters']['freq_c']\n",
    "    # print(f\"decoder_net output full range: \\n {predicted_params_full_range}\")\n",
    "\n",
    "    synth.update_cells_from_dict(predicted_params_full_range)\n",
    "    predicted_signal, _ = synth.generate_signal(signal_duration=1)\n",
    "\n",
    "    # plt.figure(figsize=(25, 10))\n",
    "    # plt.plot(target_signal.detach().numpy().squeeze())\n",
    "    # plt.plot(predicted_signal.cpu().detach().numpy().squeeze())\n",
    "    # plt.show()\n",
    "\n",
    "    target_signal_unsqueezed = target_signal.to(device).unsqueeze(dim=0)\n",
    "    loss, _, _ = loss_handler.call(target_signal_unsqueezed, predicted_signal, step=e)\n",
    "    # print(f\"loss: {loss.item()}\")\n",
    "\n",
    "    # loss = params_loss_handler(predicted_params_01[(0, 2)]['parameters']['freq_c'], torch.tensor(0.15).cuda())\n",
    "\n",
    "    optimizer.zero_grad()\n",
    "    loss.backward()\n",
    "    optimizer.step()\n",
    "\n",
    "    train_res.append((e, predicted_freq.item(), loss.item(), decoder_net.parameters_dict[decoder_net.get_key((0, 2), 'fm_saw', 'freq_c')].weight.grad))\n",
    "    print(decoder_net.parameters_dict[decoder_net.get_key((0, 2), 'fm_saw', 'freq_c')].weight.grad)\n"
   ],
   "metadata": {
    "collapsed": false
   }
  },
  {
   "cell_type": "code",
   "execution_count": null,
   "outputs": [],
   "source": [
    "%matplotlib notebook\n",
    "from matplotlib import animation\n",
    "\n",
    "fig, ax = plt.subplots(figsize=(25, 5))\n",
    "l1, = ax.plot(fm_freq_vals, losses, 'o-', label='loss surface', markevery=[-1])\n",
    "l2, = ax.plot([], [], 'o-', label='training progress')\n",
    "ax.legend(loc='center right')\n",
    "# ax.set_xlim(0,100)\n",
    "# ax.set_ylim(0,1)\n",
    "\n",
    "\n",
    "def animate(i):\n",
    "    xi = [train_res[j][1] for j in range(i)]\n",
    "    yi = [train_res[j][2] for j in range(i)]\n",
    "    l2.set_data(xi, yi)\n",
    "    return (l2)\n",
    "\n",
    "animation.FuncAnimation(fig, animate, frames=num_epochs, interval=500)"
   ],
   "metadata": {
    "collapsed": false
   }
  },
  {
   "cell_type": "code",
   "execution_count": null,
   "outputs": [],
   "source": [],
   "metadata": {
    "collapsed": false
   }
  }
 ],
 "metadata": {
  "kernelspec": {
   "display_name": "Python 3",
   "language": "python",
   "name": "python3"
  },
  "language_info": {
   "codemirror_mode": {
    "name": "ipython",
    "version": 2
   },
   "file_extension": ".py",
   "mimetype": "text/x-python",
   "name": "python",
   "nbconvert_exporter": "python",
   "pygments_lexer": "ipython2",
   "version": "2.7.6"
  }
 },
 "nbformat": 4,
 "nbformat_minor": 0
}
