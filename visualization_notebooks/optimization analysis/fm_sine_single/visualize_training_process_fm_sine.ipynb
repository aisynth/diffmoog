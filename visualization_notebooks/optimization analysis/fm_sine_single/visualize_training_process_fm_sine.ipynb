{
 "cells": [
  {
   "cell_type": "code",
   "execution_count": 1,
   "metadata": {
    "collapsed": true
   },
   "outputs": [],
   "source": [
    "import os\n",
    "import sys\n",
    "project_name = 'ai_synth'\n",
    "src_dir_relative_path = '../../src'\n",
    "if src_dir_relative_path not in sys.path:\n",
    "    sys.path.append(src_dir_relative_path)\n",
    "import copy\n",
    "import numpy as np\n",
    "import torch\n",
    "\n",
    "from pathlib import Path\n",
    "from model.model import DecoderNetwork\n",
    "from synth.parameters_normalizer import Normalizer\n",
    "from model.loss import spectral_loss\n",
    "from synth.synth_architecture import SynthModular\n",
    "from main_hp_search_dec_only import configure_experiment\n",
    "from dataset.ai_synth_dataset import AiSynthDataset\n",
    "from synth.synth_constants import synth_constants\n",
    "from utils.train_utils import to_torch_recursive\n",
    "from utils.visualization_utils import calc_loss_vs_param_range\n",
    "from tqdm import tqdm\n",
    "\n",
    "import matplotlib.pyplot as plt\n",
    "%matplotlib notebook\n",
    "\n",
    "import seaborn as sns\n",
    "sns.set_style('whitegrid')\n",
    "\n",
    "notebook_path = Path('.').resolve()\n",
    "dir_list = notebook_path.parts\n",
    "root_index = dir_list.index(project_name)\n",
    "abs_path = Path(*dir_list[:root_index+1])\n",
    "\n",
    "project_root = abs_path"
   ]
  },
  {
   "cell_type": "markdown",
   "source": [],
   "metadata": {
    "collapsed": false
   }
  },
  {
   "cell_type": "code",
   "execution_count": 2,
   "outputs": [
    {
     "name": "stdout",
     "output_type": "stream",
     "text": [
      "Deleting previous experiment...\n"
     ]
    }
   ],
   "source": [
    "# Setup experiment\n",
    "\n",
    "exp_name = 'surrogate_osc_fm_sin'\n",
    "dataset_name = 'fm_sin_single'\n",
    "device = 'cpu'\n",
    "\n",
    "config_path = os.path.join(project_root, 'configs', 'optimization_analysis', 'lfo_sine_single_synth_config_hp_search.yaml')\n",
    "data_path = os.path.join(project_root, 'data', dataset_name, 'train', '')\n",
    "\n",
    "cfg = configure_experiment(exp_name, dataset_name, config_path, debug=True)\n",
    "\n",
    "synth = SynthModular(preset_name=cfg.synth.preset,\n",
    "                     synth_constants=synth_constants,\n",
    "                     device=device)\n",
    "\n",
    "decoder_net = DecoderNetwork(preset=cfg.synth.preset, device=device)\n",
    "normalizer = Normalizer(cfg.synth.note_off_time, cfg.synth.signal_duration, synth_constants)"
   ],
   "metadata": {
    "collapsed": false
   }
  },
  {
   "cell_type": "code",
   "execution_count": 3,
   "outputs": [
    {
     "ename": "FileNotFoundError",
     "evalue": "[Errno 2] No such file or directory: 'C:\\\\Users\\\\noamk\\\\PycharmProjects\\\\ai_synth\\\\data\\\\fm_sin_single\\\\train\\\\params_dataset.pkl'",
     "output_type": "error",
     "traceback": [
      "\u001B[1;31m---------------------------------------------------------------------------\u001B[0m",
      "\u001B[1;31mFileNotFoundError\u001B[0m                         Traceback (most recent call last)",
      "\u001B[1;32m~\\AppData\\Local\\Temp\\ipykernel_10096\\677924699.py\u001B[0m in \u001B[0;36m<cell line: 1>\u001B[1;34m()\u001B[0m\n\u001B[1;32m----> 1\u001B[1;33m \u001B[0mdataset\u001B[0m \u001B[1;33m=\u001B[0m \u001B[0mAiSynthDataset\u001B[0m\u001B[1;33m(\u001B[0m\u001B[0mdata_path\u001B[0m\u001B[1;33m,\u001B[0m \u001B[0mnoise_std\u001B[0m\u001B[1;33m=\u001B[0m\u001B[1;36m0\u001B[0m\u001B[1;33m)\u001B[0m\u001B[1;33m\u001B[0m\u001B[1;33m\u001B[0m\u001B[0m\n\u001B[0m\u001B[0;32m      2\u001B[0m \u001B[1;33m\u001B[0m\u001B[0m\n\u001B[0;32m      3\u001B[0m \u001B[0mtarget_sample\u001B[0m \u001B[1;33m=\u001B[0m \u001B[0mdataset\u001B[0m\u001B[1;33m[\u001B[0m\u001B[1;36m0\u001B[0m\u001B[1;33m]\u001B[0m\u001B[1;33m\u001B[0m\u001B[1;33m\u001B[0m\u001B[0m\n\u001B[0;32m      4\u001B[0m \u001B[0mtarget_signal\u001B[0m\u001B[1;33m,\u001B[0m \u001B[0mtarget_param_dict\u001B[0m\u001B[1;33m,\u001B[0m \u001B[0msignal_index\u001B[0m \u001B[1;33m=\u001B[0m \u001B[0mtarget_sample\u001B[0m\u001B[1;33m\u001B[0m\u001B[1;33m\u001B[0m\u001B[0m\n\u001B[0;32m      5\u001B[0m \u001B[1;33m\u001B[0m\u001B[0m\n",
      "\u001B[1;32m~\\PycharmProjects\\ai_synth\\visualization_notebooks\\surrogate_oscillator\\../../src\\dataset\\ai_synth_dataset.py\u001B[0m in \u001B[0;36m__init__\u001B[1;34m(self, data_dir, noise_std)\u001B[0m\n\u001B[0;32m     24\u001B[0m         \u001B[0mself\u001B[0m\u001B[1;33m.\u001B[0m\u001B[0maudio_dir\u001B[0m \u001B[1;33m=\u001B[0m \u001B[0mos\u001B[0m\u001B[1;33m.\u001B[0m\u001B[0mpath\u001B[0m\u001B[1;33m.\u001B[0m\u001B[0mjoin\u001B[0m\u001B[1;33m(\u001B[0m\u001B[0mdata_dir\u001B[0m\u001B[1;33m,\u001B[0m \u001B[1;34m'wav_files'\u001B[0m\u001B[1;33m)\u001B[0m\u001B[1;33m\u001B[0m\u001B[1;33m\u001B[0m\u001B[0m\n\u001B[0;32m     25\u001B[0m \u001B[1;33m\u001B[0m\u001B[0m\n\u001B[1;32m---> 26\u001B[1;33m         \u001B[0mself\u001B[0m\u001B[1;33m.\u001B[0m\u001B[0mparams\u001B[0m \u001B[1;33m=\u001B[0m \u001B[0mpd\u001B[0m\u001B[1;33m.\u001B[0m\u001B[0mread_pickle\u001B[0m\u001B[1;33m(\u001B[0m\u001B[0mparams_pickle_path\u001B[0m\u001B[1;33m)\u001B[0m\u001B[1;33m\u001B[0m\u001B[1;33m\u001B[0m\u001B[0m\n\u001B[0m\u001B[0;32m     27\u001B[0m \u001B[1;33m\u001B[0m\u001B[0m\n\u001B[0;32m     28\u001B[0m         \u001B[0mself\u001B[0m\u001B[1;33m.\u001B[0m\u001B[0mnoise_std\u001B[0m \u001B[1;33m=\u001B[0m \u001B[0mnoise_std\u001B[0m\u001B[1;33m\u001B[0m\u001B[1;33m\u001B[0m\u001B[0m\n",
      "\u001B[1;32m~\\PycharmProjects\\ai_synth\\venv\\lib\\site-packages\\pandas\\io\\pickle.py\u001B[0m in \u001B[0;36mread_pickle\u001B[1;34m(filepath_or_buffer, compression, storage_options)\u001B[0m\n\u001B[0;32m    183\u001B[0m     \"\"\"\n\u001B[0;32m    184\u001B[0m     \u001B[0mexcs_to_catch\u001B[0m \u001B[1;33m=\u001B[0m \u001B[1;33m(\u001B[0m\u001B[0mAttributeError\u001B[0m\u001B[1;33m,\u001B[0m \u001B[0mImportError\u001B[0m\u001B[1;33m,\u001B[0m \u001B[0mModuleNotFoundError\u001B[0m\u001B[1;33m,\u001B[0m \u001B[0mTypeError\u001B[0m\u001B[1;33m)\u001B[0m\u001B[1;33m\u001B[0m\u001B[1;33m\u001B[0m\u001B[0m\n\u001B[1;32m--> 185\u001B[1;33m     with get_handle(\n\u001B[0m\u001B[0;32m    186\u001B[0m         \u001B[0mfilepath_or_buffer\u001B[0m\u001B[1;33m,\u001B[0m\u001B[1;33m\u001B[0m\u001B[1;33m\u001B[0m\u001B[0m\n\u001B[0;32m    187\u001B[0m         \u001B[1;34m\"rb\"\u001B[0m\u001B[1;33m,\u001B[0m\u001B[1;33m\u001B[0m\u001B[1;33m\u001B[0m\u001B[0m\n",
      "\u001B[1;32m~\\PycharmProjects\\ai_synth\\venv\\lib\\site-packages\\pandas\\io\\common.py\u001B[0m in \u001B[0;36mget_handle\u001B[1;34m(path_or_buf, mode, encoding, compression, memory_map, is_text, errors, storage_options)\u001B[0m\n\u001B[0;32m    654\u001B[0m         \u001B[1;32melse\u001B[0m\u001B[1;33m:\u001B[0m\u001B[1;33m\u001B[0m\u001B[1;33m\u001B[0m\u001B[0m\n\u001B[0;32m    655\u001B[0m             \u001B[1;31m# Binary mode\u001B[0m\u001B[1;33m\u001B[0m\u001B[1;33m\u001B[0m\u001B[0m\n\u001B[1;32m--> 656\u001B[1;33m             \u001B[0mhandle\u001B[0m \u001B[1;33m=\u001B[0m \u001B[0mopen\u001B[0m\u001B[1;33m(\u001B[0m\u001B[0mhandle\u001B[0m\u001B[1;33m,\u001B[0m \u001B[0mioargs\u001B[0m\u001B[1;33m.\u001B[0m\u001B[0mmode\u001B[0m\u001B[1;33m)\u001B[0m\u001B[1;33m\u001B[0m\u001B[1;33m\u001B[0m\u001B[0m\n\u001B[0m\u001B[0;32m    657\u001B[0m         \u001B[0mhandles\u001B[0m\u001B[1;33m.\u001B[0m\u001B[0mappend\u001B[0m\u001B[1;33m(\u001B[0m\u001B[0mhandle\u001B[0m\u001B[1;33m)\u001B[0m\u001B[1;33m\u001B[0m\u001B[1;33m\u001B[0m\u001B[0m\n\u001B[0;32m    658\u001B[0m \u001B[1;33m\u001B[0m\u001B[0m\n",
      "\u001B[1;31mFileNotFoundError\u001B[0m: [Errno 2] No such file or directory: 'C:\\\\Users\\\\noamk\\\\PycharmProjects\\\\ai_synth\\\\data\\\\fm_sin_single\\\\train\\\\params_dataset.pkl'"
     ]
    }
   ],
   "source": [
    "dataset = AiSynthDataset(data_path, noise_std=0)\n",
    "\n",
    "target_sample = dataset[0]\n",
    "target_signal, target_param_dict, signal_index = target_sample\n",
    "\n",
    "target_param_dict = to_torch_recursive(target_param_dict, device, ignore_dtypes=(str, tuple))\n",
    "target_param_dict[(1, 1)]['parameters']['waveform'] = [target_param_dict[(1, 1)]['parameters']['waveform']]\n",
    "\n",
    "print(f\"target parameters full range: \\n{target_param_dict}\")\n",
    "\n",
    "\n",
    "parameters_to_freeze = {(1, 1): {'operation': 'lfo',\n",
    "                                      'parameters': ['freq', 'waveform', 'active']},\n",
    "                        (0, 2): {'operation': 'fm_sine',\n",
    "                                 'parameters': ['active', 'fm_active', 'amp_c', 'mod_index']}}\n",
    "\n",
    "target_params_01 = normalizer.normalize(target_param_dict)\n",
    "decoder_net.apply_params(target_params_01)\n",
    "decoder_net.freeze_params(parameters_to_freeze)\n",
    "\n",
    "predicted_params_01 = decoder_net()\n",
    "\n",
    "predicted_params_full_range = normalizer.denormalize(predicted_params_01)\n",
    "\n",
    "synth.update_cells_from_dict(predicted_params_full_range)\n",
    "generated_target_signal, _ = synth.generate_signal(signal_duration=1, batch_size=1)\n",
    "target_signal = target_signal.to(device)"
   ],
   "metadata": {
    "collapsed": false
   }
  },
  {
   "cell_type": "markdown",
   "source": [],
   "metadata": {
    "collapsed": false
   }
  },
  {
   "cell_type": "code",
   "execution_count": null,
   "outputs": [],
   "source": [
    "cfg.multi_spectral_loss_spec_type = 'SPECTROGRAM'\n",
    "loss_handler = spectral_loss.SpectralLoss(loss_type=cfg.loss.spec_loss_type,\n",
    "                                          loss_preset=cfg.loss.preset,\n",
    "                                          synth_constants=synth_constants, device=device)\n",
    "\n",
    "params_loss_handler = torch.nn.MSELoss()"
   ],
   "metadata": {
    "collapsed": false
   }
  },
  {
   "cell_type": "code",
   "execution_count": null,
   "outputs": [],
   "source": [
    "param_to_visualize = {'param_name': 'freq_c', 'cell_index': (0, 2), 'min_val': 0, 'max_val': 2000, 'n_steps': 2000}\n",
    "\n",
    "loss_vals, param_range = calc_loss_vs_param_range(synth, target_param_dict, target_signal, loss_handler, **param_to_visualize)"
   ],
   "metadata": {
    "collapsed": false
   }
  },
  {
   "cell_type": "code",
   "execution_count": null,
   "outputs": [],
   "source": [
    "num_epochs = 200\n",
    "starting_frequency = [[0.5]]\n",
    "decoder_net.apply_params_partial({(0, 2):\n",
    "                                     {'operation': 'fm_sine',\n",
    "                                      'parameters': {'freq_c': starting_frequency}\n",
    "                                     }\n",
    "                                 })\n",
    "\n",
    "base_lr = 6e-3\n",
    "optimizer = torch.optim.Adamax(decoder_net.parameters(), lr=base_lr)\n",
    "\n",
    "train_res = []\n",
    "for e in range(num_epochs):\n",
    "\n",
    "    predicted_params_01 = decoder_net.forward()\n",
    "\n",
    "    predicted_params_full_range = normalizer.denormalize(predicted_params_01)\n",
    "    predicted_freq = predicted_params_full_range[(0, 2)]['parameters']['freq_c']\n",
    "\n",
    "    synth.update_cells_from_dict(predicted_params_full_range)\n",
    "    predicted_signal, _ = synth.generate_signal(signal_duration=1)\n",
    "\n",
    "    target_signal_unsqueezed = target_signal.to(device).unsqueeze(dim=0)\n",
    "    loss, _, _ = loss_handler.call(target_signal_unsqueezed, predicted_signal, step=e)\n",
    "\n",
    "    optimizer.zero_grad()\n",
    "    loss.backward()\n",
    "    optimizer.step()\n",
    "\n",
    "    train_res.append((e, predicted_freq.item(), loss.item(), decoder_net.parameters_dict[decoder_net.get_key((0, 2), 'fm_sine', 'freq_c')].weight.grad))"
   ],
   "metadata": {
    "collapsed": false
   }
  },
  {
   "cell_type": "code",
   "execution_count": null,
   "outputs": [],
   "source": [
    "from matplotlib import animation\n",
    "\n",
    "fig, ax = plt.subplots(figsize=(15, 5))\n",
    "l1, = ax.plot(param_range, loss_vals, 'o-', label='loss surface', markevery=[-1])\n",
    "l2, = ax.plot([], [], 'o-', label='training progress')\n",
    "ax.legend(loc='center right')\n",
    "# ax.set_xlim(0,100)\n",
    "# ax.set_ylim(0,1)\n",
    "\n",
    "def animate(i):\n",
    "    xi = [train_res[j][1] for j in range(i)]\n",
    "    yi = [train_res[j][2] for j in range(i)]\n",
    "    l2.set_data(xi, yi)\n",
    "    return (l2)\n",
    "\n",
    "animation.FuncAnimation(fig, animate, frames=num_epochs, interval=50)"
   ],
   "metadata": {
    "collapsed": false
   }
  }
 ],
 "metadata": {
  "kernelspec": {
   "display_name": "Python 3",
   "language": "python",
   "name": "python3"
  },
  "language_info": {
   "codemirror_mode": {
    "name": "ipython",
    "version": 2
   },
   "file_extension": ".py",
   "mimetype": "text/x-python",
   "name": "python",
   "nbconvert_exporter": "python",
   "pygments_lexer": "ipython2",
   "version": "2.7.6"
  }
 },
 "nbformat": 4,
 "nbformat_minor": 0
}
