{
 "cells": [
  {
   "cell_type": "code",
   "execution_count": null,
   "metadata": {
    "collapsed": true,
    "pycharm": {
     "name": "#%%\n",
     "is_executing": true
    }
   },
   "outputs": [],
   "source": [
    "import os\n",
    "import sys\n",
    "sys.path.append('../../src')\n",
    "import copy\n",
    "import numpy as np\n",
    "import torch\n",
    "\n",
    "from model.model import DecoderOnlyNetwork\n",
    "from synth.parameters_normalizer import Normalizer\n",
    "from model.loss import spectral_loss\n",
    "from synth.synth_architecture import SynthModular\n",
    "from main_hp_search_dec_only import configure_experiment\n",
    "from dataset.ai_synth_dataset import AiSynthDataset\n",
    "from synth.synth_constants import synth_constants\n",
    "from utils.train_utils import to_torch_recursive\n",
    "from utils.visualization_utils import calc_loss_vs_param_range\n",
    "from tqdm import tqdm\n",
    "\n",
    "import matplotlib.pyplot as plt\n",
    "%matplotlib notebook\n",
    "\n",
    "import seaborn as sns\n",
    "sns.set_style('whitegrid')"
   ]
  },
  {
   "cell_type": "markdown",
   "source": [],
   "metadata": {
    "collapsed": false,
    "pycharm": {
     "name": "#%% md\n"
    }
   }
  },
  {
   "cell_type": "code",
   "execution_count": null,
   "outputs": [],
   "source": [
    "# Setup experiment\n",
    "project_root = r'/home/almogelharar/almog/ai_synth'\n",
    "\n",
    "exp_name = 'del_visualization'\n",
    "dataset_name = 'saw_square_mix_single'\n",
    "device = 'cpu'\n",
    "\n",
    "config_path = os.path.join(project_root, 'configs', 'optimization_analysis', 'saw_square_mix_single_synth_config_hp_search.yaml')\n",
    "data_path = os.path.join(project_root, 'data', dataset_name, 'train', '')\n",
    "\n",
    "cfg = configure_experiment(exp_name, dataset_name, config_path, debug=True)\n",
    "\n",
    "synth = SynthModular(preset_name=cfg.synth.preset,\n",
    "                     synth_constants=synth_constants,\n",
    "                     device=device)\n",
    "\n",
    "decoder_net = DecoderOnlyNetwork(preset=cfg.synth.preset, device=device)\n",
    "normalizer = Normalizer(cfg.synth.note_off_time, cfg.synth.signal_duration, synth_constants)"
   ],
   "metadata": {
    "collapsed": false,
    "pycharm": {
     "name": "#%%\n",
     "is_executing": true
    }
   }
  },
  {
   "cell_type": "code",
   "execution_count": null,
   "outputs": [],
   "source": [
    "dataset = AiSynthDataset(data_path, noise_std=0)\n",
    "\n",
    "target_sample = dataset[0]\n",
    "target_signal, target_param_dict, signal_index = target_sample\n",
    "\n",
    "print(f\"target parameters full range: \\n{target_param_dict}\")\n",
    "\n",
    "target_param_dict = to_torch_recursive(target_param_dict, device, ignore_dtypes=(str, tuple))\n",
    "\n",
    "parameters_to_freeze = {(0, 0): {'operation': 'saw_square_osc',\n",
    "                                 'parameters': ['saw_amp', 'square_amp', 'factor']}}\n",
    "\n",
    "target_params_01 = normalizer.normalize(target_param_dict)\n",
    "\n",
    "decoder_net.apply_params(target_params_01)\n",
    "decoder_net.freeze_params(parameters_to_freeze)\n",
    "\n",
    "predicted_params_01 = decoder_net()\n",
    "\n",
    "predicted_params_full_range = normalizer.denormalize(predicted_params_01)\n",
    "\n",
    "synth.update_cells_from_dict(predicted_params_full_range)\n",
    "generated_target_signal, _ = synth.generate_signal(signal_duration=1, batch_size=1)\n",
    "\n",
    "target_signal = target_signal.to(device)"
   ],
   "metadata": {
    "collapsed": false,
    "pycharm": {
     "name": "#%%\n",
     "is_executing": true
    }
   }
  },
  {
   "cell_type": "markdown",
   "source": [],
   "metadata": {
    "collapsed": false,
    "pycharm": {
     "name": "#%% md\n"
    }
   }
  },
  {
   "cell_type": "code",
   "execution_count": null,
   "outputs": [],
   "source": [
    "cfg.multi_spectral_loss_spec_type = 'SPECTROGRAM'\n",
    "loss_handler = spectral_loss.SpectralLoss(loss_type=cfg.loss.spec_loss_type,\n",
    "                                          loss_preset=cfg.loss.preset,\n",
    "                                          synth_constants=synth_constants, device=device)\n",
    "\n",
    "params_loss_handler = torch.nn.MSELoss()"
   ],
   "metadata": {
    "collapsed": false,
    "pycharm": {
     "name": "#%%\n",
     "is_executing": true
    }
   }
  },
  {
   "cell_type": "code",
   "execution_count": null,
   "outputs": [],
   "source": [
    "param_to_visualize = {'param_name': 'freq', 'cell_index': (0, 0), 'min_val': 0, 'max_val': 2000, 'n_steps': 20000}\n",
    "\n",
    "loss_vals, param_range = calc_loss_vs_param_range(synth, target_param_dict, target_signal, loss_handler, **param_to_visualize)"
   ],
   "metadata": {
    "collapsed": false,
    "pycharm": {
     "name": "#%%\n",
     "is_executing": true
    }
   }
  },
  {
   "cell_type": "code",
   "execution_count": null,
   "outputs": [],
   "source": [
    "num_epochs = 200\n",
    "starting_frequency = [[0.5]]\n",
    "decoder_net.apply_params_partial({(0, 0):\n",
    "                                     {'operation': 'saw_square_osc',\n",
    "                                      'parameters': {'freq': starting_frequency}\n",
    "                                     }\n",
    "                                 })\n",
    "\n",
    "base_lr = 1e-3\n",
    "optimizer = torch.optim.Adamax(decoder_net.parameters())\n",
    "\n",
    "train_res = []\n",
    "for e in range(num_epochs):\n",
    "\n",
    "    predicted_params_01 = decoder_net.forward()\n",
    "\n",
    "    predicted_params_full_range = normalizer.denormalize(predicted_params_01)\n",
    "    predicted_freq = predicted_params_full_range[(0, 0)]['parameters']['freq']\n",
    "\n",
    "    synth.update_cells_from_dict(predicted_params_full_range)\n",
    "    predicted_signal, _ = synth.generate_signal(signal_duration=1)\n",
    "\n",
    "    target_signal_unsqueezed = target_signal.to(device).unsqueeze(dim=0)\n",
    "    loss, _, _ = loss_handler.call(target_signal_unsqueezed, predicted_signal, step=e)\n",
    "\n",
    "    optimizer.zero_grad()\n",
    "    loss.backward()\n",
    "    optimizer.step()\n",
    "\n",
    "    train_res.append((e, predicted_freq.item(), loss.item(), decoder_net.parameters_dict[decoder_net.get_key((0, 0), 'saw_square_osc', 'freq')].weight.grad))"
   ],
   "metadata": {
    "collapsed": false,
    "pycharm": {
     "name": "#%%\n",
     "is_executing": true
    }
   }
  },
  {
   "cell_type": "code",
   "execution_count": null,
   "outputs": [],
   "source": [
    "from matplotlib import animation\n",
    "\n",
    "fig, ax = plt.subplots(figsize=(15, 5))\n",
    "l1, = ax.plot(param_range, loss_vals, 'o-', label='loss surface', markevery=[-1])\n",
    "l2, = ax.plot([], [], 'o-', label='training progress')\n",
    "ax.legend(loc='center right')\n",
    "# ax.set_xlim(0,100)\n",
    "# ax.set_ylim(0,1)\n",
    "\n",
    "def animate(i):\n",
    "    xi = [train_res[j][1] for j in range(i)]\n",
    "    yi = [train_res[j][2] for j in range(i)]\n",
    "    l2.set_data(xi, yi)\n",
    "    return (l2)\n",
    "\n",
    "animation.FuncAnimation(fig, animate, frames=num_epochs, interval=200)"
   ],
   "metadata": {
    "collapsed": false,
    "pycharm": {
     "name": "#%%\n",
     "is_executing": true
    }
   }
  }
 ],
 "metadata": {
  "kernelspec": {
   "display_name": "Python 3",
   "language": "python",
   "name": "python3"
  },
  "language_info": {
   "codemirror_mode": {
    "name": "ipython",
    "version": 2
   },
   "file_extension": ".py",
   "mimetype": "text/x-python",
   "name": "python",
   "nbconvert_exporter": "python",
   "pygments_lexer": "ipython2",
   "version": "2.7.6"
  }
 },
 "nbformat": 4,
 "nbformat_minor": 0
}