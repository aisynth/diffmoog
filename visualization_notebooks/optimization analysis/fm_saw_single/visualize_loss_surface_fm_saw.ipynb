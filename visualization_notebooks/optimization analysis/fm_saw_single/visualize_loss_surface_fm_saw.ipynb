{
 "cells": [
  {
   "cell_type": "code",
   "execution_count": 9,
   "metadata": {
    "collapsed": true,
    "pycharm": {
     "name": "#%%\n"
    }
   },
   "outputs": [],
   "source": [
    "import os\n",
    "import sys\n",
    "\n",
    "sys.path.append('../../src')\n",
    "import copy\n",
    "import numpy as np\n",
    "\n",
    "from torchaudio.transforms import Spectrogram, MelSpectrogram, Resample\n",
    "from model.loss import spectral_loss\n",
    "from synth.synth_architecture import SynthModular\n",
    "from main_hp_search_dec_only import configure_experiment\n",
    "from dataset.ai_synth_dataset import AiSynthDataset\n",
    "from synth.synth_constants import synth_constants\n",
    "from utils.visualization_utils import  calc_loss_vs_param_range, plot_loss_vs_param\n",
    "from utils.train_utils import to_torch_recursive\n",
    "\n",
    "import matplotlib\n",
    "matplotlib.pyplot.ion()\n",
    "\n",
    "%matplotlib inline\n",
    "\n",
    "import matplotlib.pyplot as plt\n",
    "\n",
    "import seaborn as sns\n",
    "sns.set_style('whitegrid')"
   ]
  },
  {
   "cell_type": "markdown",
   "source": [],
   "metadata": {
    "collapsed": false,
    "pycharm": {
     "name": "#%% md\n"
    }
   }
  },
  {
   "cell_type": "code",
   "execution_count": 10,
   "outputs": [
    {
     "name": "stdout",
     "output_type": "stream",
     "text": [
      "Deleting previous experiment...\n"
     ]
    }
   ],
   "source": [
    "# Setup experiment\n",
    "project_root = r'/home/almogelharar/almog/ai_synth'\n",
    "\n",
    "exp_name = 'loss_surface_visualization_fm_saw'\n",
    "dataset_name = 'lfo_saw_single'\n",
    "device = 'cpu'\n",
    "\n",
    "config_path = os.path.join(project_root, 'configs', 'optimization_analysis', 'lfo_saw_single_synth_config_hp_search.yaml')\n",
    "data_path = os.path.join(project_root, 'data', dataset_name, 'train', '')\n",
    "\n",
    "cfg = configure_experiment(exp_name, dataset_name, config_path, debug=True)\n",
    "\n",
    "synth = SynthModular(preset_name=cfg.synth.preset,\n",
    "                     synth_constants=synth_constants,\n",
    "                     device=device)\n",
    "\n",
    "dataset = AiSynthDataset(data_path, noise_std=0)"
   ],
   "metadata": {
    "collapsed": false,
    "pycharm": {
     "name": "#%%\n"
    }
   }
  },
  {
   "cell_type": "code",
   "execution_count": 11,
   "outputs": [
    {
     "name": "stdout",
     "output_type": "stream",
     "text": [
      "{(1, 1): {'operation': 'lfo', 'parameters': {'active': tensor([True]), 'output': tensor([[0, 2]]), 'freq': tensor([14.6300]), 'waveform': 'square'}}, (0, 2): {'operation': 'fm_saw', 'parameters': {'fm_active': tensor([1], dtype=torch.int32), 'active': tensor([True]), 'amp_c': tensor([0.3839]), 'freq_c': tensor([1479.9777]), 'mod_index': tensor([0.0820])}}}\n"
     ]
    }
   ],
   "source": [
    "target_sample = dataset[0]\n",
    "target_signal, target_param_dict, signal_index = target_sample\n",
    "\n",
    "target_param_dict = to_torch_recursive(target_param_dict, device, ignore_dtypes=(str, tuple))\n",
    "\n",
    "target_signal = target_signal.to(device)\n",
    "\n",
    "synth.update_cells_from_dict(target_param_dict)\n",
    "print(target_param_dict)"
   ],
   "metadata": {
    "collapsed": false,
    "pycharm": {
     "name": "#%%\n"
    }
   }
  },
  {
   "cell_type": "markdown",
   "source": [],
   "metadata": {
    "collapsed": false,
    "pycharm": {
     "name": "#%% md\n"
    }
   }
  },
  {
   "cell_type": "code",
   "execution_count": 12,
   "outputs": [],
   "source": [
    "cfg.multi_spectral_loss_spec_type = 'SPECTROGRAM'\n",
    "loss_handler = spectral_loss.SpectralLoss(loss_type=cfg.loss.spec_loss_type,\n",
    "                                          loss_preset=cfg.loss.preset,\n",
    "                                          synth_constants=synth_constants,\n",
    "                                          device=device)"
   ],
   "metadata": {
    "collapsed": false,
    "pycharm": {
     "name": "#%%\n"
    }
   }
  },
  {
   "cell_type": "code",
   "execution_count": 13,
   "outputs": [],
   "source": [
    "params_to_visualize = [{'param_name': 'freq_c', 'cell_index': (0, 2), 'min_val': 0, 'max_val': 2000, 'n_steps': 2000},\n",
    "                       {'param_name': 'amp_c', 'cell_index': (0, 2), 'min_val': 0, 'max_val': 1, 'n_steps': 1000},\n",
    "                       {'param_name': 'mod_index', 'cell_index': (0, 2), 'min_val': 0, 'max_val': 0.3, 'n_steps': 300},\n",
    "                       {'param_name': 'freq', 'cell_index': (1, 1), 'min_val': 0, 'max_val': 20, 'n_steps': 1000}]"
   ],
   "metadata": {
    "collapsed": false,
    "pycharm": {
     "name": "#%%\n"
    }
   }
  },
  {
   "cell_type": "code",
   "execution_count": 14,
   "outputs": [
    {
     "name": "stderr",
     "output_type": "stream",
     "text": [
      "  0%|▎                                                                       | 8/2000 [00:00<00:27, 72.16it/s]"
     ]
    },
    {
     "name": "stdout",
     "output_type": "stream",
     "text": [
      "Missing amp param in Oscillator module lfo. Assuming fixed amp. Please check Synth structure if this is unexpected.\n"
     ]
    },
    {
     "name": "stderr",
     "output_type": "stream",
     "text": [
      " 44%|██████████████████████████████▊                                       | 882/2000 [00:10<00:13, 83.49it/s]\n",
      "\n",
      "KeyboardInterrupt\n",
      "\n"
     ]
    }
   ],
   "source": [
    "for param_to_visualize in params_to_visualize:\n",
    "    loss_vals, param_range = calc_loss_vs_param_range(synth, target_param_dict, target_signal, loss_handler, **param_to_visualize)\n",
    "    plot_loss_vs_param(param_range, loss_vals, title=f'Loss vs {param_to_visualize[\"param_name\"]}')"
   ],
   "metadata": {
    "collapsed": false,
    "pycharm": {
     "name": "#%%\n"
    }
   }
  }
 ],
 "metadata": {
  "kernelspec": {
   "display_name": "Python 3",
   "language": "python",
   "name": "python3"
  },
  "language_info": {
   "codemirror_mode": {
    "name": "ipython",
    "version": 2
   },
   "file_extension": ".py",
   "mimetype": "text/x-python",
   "name": "python",
   "nbconvert_exporter": "python",
   "pygments_lexer": "ipython2",
   "version": "2.7.6"
  }
 },
 "nbformat": 4,
 "nbformat_minor": 0
}