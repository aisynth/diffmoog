{
 "cells": [
  {
   "cell_type": "code",
   "execution_count": 23,
   "metadata": {
    "collapsed": true
   },
   "outputs": [],
   "source": [
    "import sys\n",
    "sys.path.append('../../../src')\n",
    "import copy\n",
    "import numpy as np\n",
    "import torch\n",
    "\n",
    "from torchaudio.transforms import Spectrogram, MelSpectrogram, Resample\n",
    "from model.loss import spectral_loss\n",
    "from synth.synth_architecture import SynthModular\n",
    "from main_hp_search_dec_only import configure_experiment\n",
    "from dataset.ai_synth_dataset import AiSynthDataset\n",
    "from synth.synth_constants import synth_constants\n",
    "from tqdm import tqdm\n",
    "\n",
    "\n",
    "%matplotlib notebook\n",
    "\n",
    "import matplotlib.pyplot as plt\n",
    "\n",
    "import seaborn as sns\n",
    "sns.set_style('whitegrid')"
   ]
  },
  {
   "cell_type": "markdown",
   "source": [],
   "metadata": {
    "collapsed": false
   }
  },
  {
   "cell_type": "code",
   "execution_count": 24,
   "outputs": [],
   "source": [
    "def calc_loss_vs_param_range(param_name, cell_index, min_val, max_val, n_steps):\n",
    "    param_range = np.linspace(min_val, max_val, n_steps)\n",
    "\n",
    "    loss_vals = []\n",
    "    for param_val in tqdm(param_range):\n",
    "        update_params = copy.deepcopy(target_param_dict)\n",
    "\n",
    "        update_params[cell_index]['parameters'].update({param_name: param_val})\n",
    "\n",
    "        synth.update_cells_from_dict(update_params)\n",
    "        signal, _ = synth.generate_signal(signal_duration=1)\n",
    "\n",
    "        target_signal_unsqueezed = target_signal.unsqueeze(dim=0)\n",
    "        loss_val, _, _ = loss_handler.call(target_signal_unsqueezed, signal, step=0, return_spectrogram=False)\n",
    "\n",
    "        loss_vals.append(loss_val.detach().cpu().numpy().item())\n",
    "\n",
    "    return loss_vals, param_range\n",
    "\n",
    "def plot_loss_vs_param(param_range, loss_vals, title):\n",
    "    plt.figure(figsize=(15, 5))\n",
    "    plt.plot(param_range, loss_vals)\n",
    "    plt.title(title)\n",
    "    plt.show()\n",
    "\n",
    "def param_dict_floats_to_tensors(param_dict):\n",
    "    param_dict_as_tensors = {}\n",
    "    for key in param_dict.keys():\n",
    "        param_dict_as_tensors[key] = {'operation': param_dict[key]['operation'],\n",
    "                                        'parameters': {}}\n",
    "        for param, val in param_dict[key]['parameters'].items():\n",
    "            param_dict_as_tensors[key]['parameters'][param] = torch.tensor([val], device=device)\n",
    "\n",
    "    return param_dict_as_tensors"
   ],
   "metadata": {
    "collapsed": false
   }
  },
  {
   "cell_type": "code",
   "execution_count": 25,
   "outputs": [
    {
     "name": "stdout",
     "output_type": "stream",
     "text": [
      "Deleting previous experiment...\n"
     ]
    }
   ],
   "source": [
    "# Setup experiment\n",
    "exp_name = 'training_visualization_fm_saw'\n",
    "dataset_name = 'lfo_saw_single'\n",
    "config_name = r'C:\\Users\\noamk\\PycharmProjects\\ai_synth\\configs\\optimization_analysis\\lfo_saw_single_synth_config_hp_search.yaml'\n",
    "device = 'cuda'\n",
    "\n",
    "cfg = configure_experiment(exp_name, dataset_name, config_name, debug=True)\n",
    "\n",
    "synth = SynthModular(preset_name=cfg.synth.preset,\n",
    "                     synth_constants=synth_constants,\n",
    "                     device=device)\n"
   ],
   "metadata": {
    "collapsed": false
   }
  },
  {
   "cell_type": "code",
   "execution_count": null,
   "outputs": [
    {
     "name": "stdout",
     "output_type": "stream",
     "text": [
      "target parameters full range: \n",
      "{(1, 1): {'operation': 'lfo', 'parameters': {'active': True, 'output': [(0, 2)], 'freq': 14.630004869328621, 'waveform': 'sawtooth'}}, (0, 2): {'operation': 'fm_saw', 'parameters': {'fm_active': True, 'active': True, 'amp_c': 0.38389441559806636, 'freq_c': 1479.9776908465387, 'mod_index': 0.08196441414940485}}}\n"
     ]
    },
    {
     "name": "stderr",
     "output_type": "stream",
     "text": [
      "C:\\Users\\noamk\\AppData\\Local\\Temp\\ipykernel_26032\\3522346659.py:20: DeprecationWarning: In future, it will be an error for 'np.bool_' scalars to be interpreted as an index\n",
      "  param_dict_as_tensors[key]['parameters'][param] = torch.tensor([val], device=device)\n"
     ]
    }
   ],
   "source": [
    "dataset = AiSynthDataset(fr'C:\\Users\\noamk\\PycharmProjects\\ai_synth\\data\\{dataset_name}\\train', noise_std=0)\n",
    "\n",
    "target_sample = dataset[0]\n",
    "target_signal, target_param_dict, signal_index = target_sample\n",
    "\n",
    "print(f\"target parameters full range: \\n{target_param_dict}\")\n",
    "\n",
    "# target_param_dict = param_dict_floats_to_tensors(target_param_dict)\n",
    "\n",
    "param_dict = target_param_dict\n",
    "\n",
    "param_dict_as_tensors = {}\n",
    "for key in param_dict.keys():\n",
    "    param_dict_as_tensors[key] = {'operation': param_dict[key]['operation'],\n",
    "                                    'parameters': {}}\n",
    "    for param, val in param_dict[key]['parameters'].items():\n",
    "        if isinstance(val, list):\n",
    "            param_dict_as_tensors[key]['parameters'][param] = torch.tensor(val, device=device)\n",
    "        else:\n",
    "            if isinstance(val, np.str_):\n",
    "\n",
    "            param_dict_as_tensors[key]['parameters'][param] = torch.tensor([val], device=device)\n",
    "\n",
    "# return param_dict_as_tensors\n",
    "\n",
    "\n",
    "target_signal = target_signal.to(device)\n",
    "\n",
    "synth.update_cells_from_dict(target_param_dict)"
   ],
   "metadata": {
    "collapsed": false,
    "pycharm": {
     "is_executing": true
    }
   }
  },
  {
   "cell_type": "markdown",
   "source": [],
   "metadata": {
    "collapsed": false
   }
  },
  {
   "cell_type": "code",
   "execution_count": 6,
   "outputs": [],
   "source": [
    "cfg.multi_spectral_loss_spec_type = 'SPECTROGRAM'\n",
    "loss_handler = spectral_loss.SpectralLoss(loss_type=cfg.loss.spec_loss_type,\n",
    "                                          loss_preset=\"mag_logmag\",\n",
    "                                          synth_constants=synth_constants,\n",
    "                                          device=device)"
   ],
   "metadata": {
    "collapsed": false
   }
  },
  {
   "cell_type": "code",
   "execution_count": null,
   "outputs": [
    {
     "ename": "KeyboardInterrupt",
     "evalue": "",
     "output_type": "error",
     "traceback": [
      "\u001B[1;31m---------------------------------------------------------------------------\u001B[0m",
      "\u001B[1;31mKeyboardInterrupt\u001B[0m                         Traceback (most recent call last)",
      "\u001B[1;32m~\\AppData\\Local\\Temp\\ipykernel_26032\\2389217671.py\u001B[0m in \u001B[0;36m<cell line: 11>\u001B[1;34m()\u001B[0m\n\u001B[0;32m     15\u001B[0m \u001B[1;33m\u001B[0m\u001B[0m\n\u001B[0;32m     16\u001B[0m     \u001B[0msynth\u001B[0m\u001B[1;33m.\u001B[0m\u001B[0mupdate_cells_from_dict\u001B[0m\u001B[1;33m(\u001B[0m\u001B[0mupdate_params\u001B[0m\u001B[1;33m)\u001B[0m\u001B[1;33m\u001B[0m\u001B[1;33m\u001B[0m\u001B[0m\n\u001B[1;32m---> 17\u001B[1;33m     \u001B[0msignal\u001B[0m\u001B[1;33m,\u001B[0m \u001B[0m_\u001B[0m \u001B[1;33m=\u001B[0m \u001B[0msynth\u001B[0m\u001B[1;33m.\u001B[0m\u001B[0mgenerate_signal\u001B[0m\u001B[1;33m(\u001B[0m\u001B[0msignal_duration\u001B[0m\u001B[1;33m=\u001B[0m\u001B[1;36m1\u001B[0m\u001B[1;33m)\u001B[0m\u001B[1;33m\u001B[0m\u001B[1;33m\u001B[0m\u001B[0m\n\u001B[0m\u001B[0;32m     18\u001B[0m \u001B[1;33m\u001B[0m\u001B[0m\n\u001B[0;32m     19\u001B[0m     \u001B[0mtarget_signal_unsqueezed\u001B[0m \u001B[1;33m=\u001B[0m \u001B[0mtarget_signal\u001B[0m\u001B[1;33m.\u001B[0m\u001B[0munsqueeze\u001B[0m\u001B[1;33m(\u001B[0m\u001B[0mdim\u001B[0m\u001B[1;33m=\u001B[0m\u001B[1;36m0\u001B[0m\u001B[1;33m)\u001B[0m\u001B[1;33m\u001B[0m\u001B[1;33m\u001B[0m\u001B[0m\n",
      "\u001B[1;32m~\\AppData\\Local\\Temp\\ipykernel_26032\\2389217671.py\u001B[0m in \u001B[0;36m<cell line: 11>\u001B[1;34m()\u001B[0m\n\u001B[0;32m     15\u001B[0m \u001B[1;33m\u001B[0m\u001B[0m\n\u001B[0;32m     16\u001B[0m     \u001B[0msynth\u001B[0m\u001B[1;33m.\u001B[0m\u001B[0mupdate_cells_from_dict\u001B[0m\u001B[1;33m(\u001B[0m\u001B[0mupdate_params\u001B[0m\u001B[1;33m)\u001B[0m\u001B[1;33m\u001B[0m\u001B[1;33m\u001B[0m\u001B[0m\n\u001B[1;32m---> 17\u001B[1;33m     \u001B[0msignal\u001B[0m\u001B[1;33m,\u001B[0m \u001B[0m_\u001B[0m \u001B[1;33m=\u001B[0m \u001B[0msynth\u001B[0m\u001B[1;33m.\u001B[0m\u001B[0mgenerate_signal\u001B[0m\u001B[1;33m(\u001B[0m\u001B[0msignal_duration\u001B[0m\u001B[1;33m=\u001B[0m\u001B[1;36m1\u001B[0m\u001B[1;33m)\u001B[0m\u001B[1;33m\u001B[0m\u001B[1;33m\u001B[0m\u001B[0m\n\u001B[0m\u001B[0;32m     18\u001B[0m \u001B[1;33m\u001B[0m\u001B[0m\n\u001B[0;32m     19\u001B[0m     \u001B[0mtarget_signal_unsqueezed\u001B[0m \u001B[1;33m=\u001B[0m \u001B[0mtarget_signal\u001B[0m\u001B[1;33m.\u001B[0m\u001B[0munsqueeze\u001B[0m\u001B[1;33m(\u001B[0m\u001B[0mdim\u001B[0m\u001B[1;33m=\u001B[0m\u001B[1;36m0\u001B[0m\u001B[1;33m)\u001B[0m\u001B[1;33m\u001B[0m\u001B[1;33m\u001B[0m\u001B[0m\n",
      "\u001B[1;32m_pydevd_bundle\\pydevd_cython_win32_39_64.pyx\u001B[0m in \u001B[0;36m_pydevd_bundle.pydevd_cython_win32_39_64.SafeCallWrapper.__call__\u001B[1;34m()\u001B[0m\n",
      "\u001B[1;32m_pydevd_bundle\\pydevd_cython_win32_39_64.pyx\u001B[0m in \u001B[0;36m_pydevd_bundle.pydevd_cython_win32_39_64.PyDBFrame.trace_dispatch\u001B[1;34m()\u001B[0m\n",
      "\u001B[1;32m_pydevd_bundle\\pydevd_cython_win32_39_64.pyx\u001B[0m in \u001B[0;36m_pydevd_bundle.pydevd_cython_win32_39_64.PyDBFrame.trace_dispatch\u001B[1;34m()\u001B[0m\n",
      "\u001B[1;32m_pydevd_bundle\\pydevd_cython_win32_39_64.pyx\u001B[0m in \u001B[0;36m_pydevd_bundle.pydevd_cython_win32_39_64.PyDBFrame.trace_dispatch\u001B[1;34m()\u001B[0m\n",
      "\u001B[1;32m_pydevd_bundle\\pydevd_cython_win32_39_64.pyx\u001B[0m in \u001B[0;36m_pydevd_bundle.pydevd_cython_win32_39_64.PyDBFrame.do_wait_suspend\u001B[1;34m()\u001B[0m\n",
      "\u001B[1;32mC:\\Program Files\\JetBrains\\PyCharm 2022.1.3\\plugins\\python\\helpers\\pydev\\pydevd.py\u001B[0m in \u001B[0;36mdo_wait_suspend\u001B[1;34m(self, thread, frame, event, arg, send_suspend_message, is_unhandled_exception)\u001B[0m\n\u001B[0;32m   1158\u001B[0m \u001B[1;33m\u001B[0m\u001B[0m\n\u001B[0;32m   1159\u001B[0m         \u001B[1;32mwith\u001B[0m \u001B[0mself\u001B[0m\u001B[1;33m.\u001B[0m\u001B[0m_threads_suspended_single_notification\u001B[0m\u001B[1;33m.\u001B[0m\u001B[0mnotify_thread_suspended\u001B[0m\u001B[1;33m(\u001B[0m\u001B[0mthread_id\u001B[0m\u001B[1;33m,\u001B[0m \u001B[0mstop_reason\u001B[0m\u001B[1;33m)\u001B[0m\u001B[1;33m:\u001B[0m\u001B[1;33m\u001B[0m\u001B[1;33m\u001B[0m\u001B[0m\n\u001B[1;32m-> 1160\u001B[1;33m             \u001B[0mself\u001B[0m\u001B[1;33m.\u001B[0m\u001B[0m_do_wait_suspend\u001B[0m\u001B[1;33m(\u001B[0m\u001B[0mthread\u001B[0m\u001B[1;33m,\u001B[0m \u001B[0mframe\u001B[0m\u001B[1;33m,\u001B[0m \u001B[0mevent\u001B[0m\u001B[1;33m,\u001B[0m \u001B[0marg\u001B[0m\u001B[1;33m,\u001B[0m \u001B[0msuspend_type\u001B[0m\u001B[1;33m,\u001B[0m \u001B[0mfrom_this_thread\u001B[0m\u001B[1;33m)\u001B[0m\u001B[1;33m\u001B[0m\u001B[1;33m\u001B[0m\u001B[0m\n\u001B[0m\u001B[0;32m   1161\u001B[0m \u001B[1;33m\u001B[0m\u001B[0m\n\u001B[0;32m   1162\u001B[0m     \u001B[1;32mdef\u001B[0m \u001B[0m_do_wait_suspend\u001B[0m\u001B[1;33m(\u001B[0m\u001B[0mself\u001B[0m\u001B[1;33m,\u001B[0m \u001B[0mthread\u001B[0m\u001B[1;33m,\u001B[0m \u001B[0mframe\u001B[0m\u001B[1;33m,\u001B[0m \u001B[0mevent\u001B[0m\u001B[1;33m,\u001B[0m \u001B[0marg\u001B[0m\u001B[1;33m,\u001B[0m \u001B[0msuspend_type\u001B[0m\u001B[1;33m,\u001B[0m \u001B[0mfrom_this_thread\u001B[0m\u001B[1;33m)\u001B[0m\u001B[1;33m:\u001B[0m\u001B[1;33m\u001B[0m\u001B[1;33m\u001B[0m\u001B[0m\n",
      "\u001B[1;32mC:\\Program Files\\JetBrains\\PyCharm 2022.1.3\\plugins\\python\\helpers\\pydev\\pydevd.py\u001B[0m in \u001B[0;36m_do_wait_suspend\u001B[1;34m(self, thread, frame, event, arg, suspend_type, from_this_thread)\u001B[0m\n\u001B[0;32m   1173\u001B[0m \u001B[1;33m\u001B[0m\u001B[0m\n\u001B[0;32m   1174\u001B[0m                 \u001B[0mself\u001B[0m\u001B[1;33m.\u001B[0m\u001B[0mprocess_internal_commands\u001B[0m\u001B[1;33m(\u001B[0m\u001B[1;33m)\u001B[0m\u001B[1;33m\u001B[0m\u001B[1;33m\u001B[0m\u001B[0m\n\u001B[1;32m-> 1175\u001B[1;33m                 \u001B[0mtime\u001B[0m\u001B[1;33m.\u001B[0m\u001B[0msleep\u001B[0m\u001B[1;33m(\u001B[0m\u001B[1;36m0.01\u001B[0m\u001B[1;33m)\u001B[0m\u001B[1;33m\u001B[0m\u001B[1;33m\u001B[0m\u001B[0m\n\u001B[0m\u001B[0;32m   1176\u001B[0m \u001B[1;33m\u001B[0m\u001B[0m\n\u001B[0;32m   1177\u001B[0m         \u001B[0mself\u001B[0m\u001B[1;33m.\u001B[0m\u001B[0mcancel_async_evaluation\u001B[0m\u001B[1;33m(\u001B[0m\u001B[0mget_current_thread_id\u001B[0m\u001B[1;33m(\u001B[0m\u001B[0mthread\u001B[0m\u001B[1;33m)\u001B[0m\u001B[1;33m,\u001B[0m \u001B[0mstr\u001B[0m\u001B[1;33m(\u001B[0m\u001B[0mid\u001B[0m\u001B[1;33m(\u001B[0m\u001B[0mframe\u001B[0m\u001B[1;33m)\u001B[0m\u001B[1;33m)\u001B[0m\u001B[1;33m)\u001B[0m\u001B[1;33m\u001B[0m\u001B[1;33m\u001B[0m\u001B[0m\n",
      "\u001B[1;31mKeyboardInterrupt\u001B[0m: "
     ]
    }
   ],
   "source": [
    "param_name = 'freq_c'\n",
    "cell_index = (0, 2)\n",
    "min_val = 0\n",
    "max_val = 2000\n",
    "n_steps = 2000\n",
    "\n",
    "# loss_vals, param_range = calc_loss_vs_param_range(param_name, cell_index, min_val=min_val, max_val=max_val, n_steps=n_steps)\n",
    "param_range = np.linspace(min_val, max_val, n_steps)\n",
    "\n",
    "loss_vals = []\n",
    "for param_val in param_range:\n",
    "    update_params = copy.deepcopy(target_param_dict)\n",
    "\n",
    "    update_params[cell_index]['parameters'].update({param_name: param_val})\n",
    "\n",
    "    synth.update_cells_from_dict(update_params)\n",
    "    signal, _ = synth.generate_signal(signal_duration=1)\n",
    "\n",
    "    target_signal_unsqueezed = target_signal.unsqueeze(dim=0)\n",
    "    loss_val, _, _ = loss_handler.call(target_signal_unsqueezed, signal, step=0, return_spectrogram=False)\n",
    "\n",
    "    loss_vals.append(loss_val.detach().cpu().numpy().item())\n",
    "\n",
    "plot_loss_vs_param(param_range, loss_vals, title='Loss vs Carrier Frequency')"
   ],
   "metadata": {
    "collapsed": false
   }
  },
  {
   "cell_type": "code",
   "execution_count": 10,
   "outputs": [],
   "source": [
    "fm_freq_vals = np.linspace(0, 2000, 2000)\n",
    "\n",
    "losses1 = []\n",
    "for freq_val in fm_freq_vals:\n",
    "    update_params = copy.deepcopy(target_param_dict)\n",
    "\n",
    "    update_params[(0, 2)]['parameters'].update({'freq_c': freq_val})\n",
    "    update_params[(1, 1)]['parameters'].update({'active': [True]})\n",
    "    update_params[(0, 2)]['parameters'].update({'active': [True]})\n",
    "    update_params[(0, 2)]['parameters'].update({'fm_active': [True]})\n",
    "    synth.update_cells_from_dict(update_params)\n",
    "    signal, _ = synth.generate_signal(signal_duration=1)\n",
    "\n",
    "    target_signal_unsqueezed = target_signal.unsqueeze(dim=0)\n",
    "    loss_val, _, _ = loss_handler.call(target_signal_unsqueezed, signal, step=0, return_spectrogram=False)\n",
    "\n",
    "    losses1.append(loss_val.detach().cpu().numpy().item())\n",
    "\n",
    "# print(losses1)\n"
   ],
   "metadata": {
    "collapsed": false
   }
  },
  {
   "cell_type": "code",
   "execution_count": null,
   "outputs": [],
   "source": [
    "# matplotlib.use('Qt5Agg')\n",
    "\n"
   ],
   "metadata": {
    "collapsed": false
   }
  },
  {
   "cell_type": "code",
   "execution_count": null,
   "outputs": [],
   "source": [
    "plt.figure(figsize=(15, 5))\n",
    "plt.plot(fm_freq_vals, losses1)\n",
    "plt.title(\"Loss vs carrier frequency\")\n",
    "plt.show()"
   ],
   "metadata": {
    "collapsed": false
   }
  },
  {
   "cell_type": "code",
   "execution_count": null,
   "outputs": [],
   "source": [
    "lfo_freq_vals = np.linspace(0, 20, 100)\n",
    "\n",
    "losses2 = []\n",
    "for freq_val in lfo_freq_vals:\n",
    "    update_params = copy.deepcopy(target_param_dict)\n",
    "\n",
    "    update_params[(1, 1)]['parameters'].update({'freq': freq_val})\n",
    "    update_params[(1, 1)]['parameters'].update({'active': [True]})\n",
    "    update_params[(0, 2)]['parameters'].update({'active': [True]})\n",
    "    update_params[(0, 2)]['parameters'].update({'fm_active': [True]})\n",
    "    synth.update_cells_from_dict(update_params)\n",
    "    signal, _ = synth.generate_signal(signal_duration=1)\n",
    "\n",
    "    # resampled_target_signal = resample_op(target_signal.cpu())\n",
    "    # resampled_pred_signal = resample_op(signal.cpu())\n",
    "\n",
    "    # plt.plot(resampled_target_signal.detach().numpy().squeeze())\n",
    "    # plt.plot(resampled_pred_signal.detach().numpy().squeeze())\n",
    "    #\n",
    "    # plt.show()\n",
    "    target_signal_unsqueezed = target_signal.unsqueeze(dim=0)\n",
    "    loss_val, _, _ = loss_handler.call(target_signal_unsqueezed, signal, step=0, return_spectrogram=False)\n",
    "\n",
    "    # loss_val = loss_handler.call(resampled_target_signal, resampled_pred_signal.unsqueeze(0), signal_chain_index=0, global_step=0, summary_writer=None, log=False)\n",
    "\n",
    "    losses2.append(loss_val.detach().cpu().numpy().item())\n",
    "\n",
    "# print(losses2)"
   ],
   "metadata": {
    "collapsed": false
   }
  },
  {
   "cell_type": "code",
   "execution_count": null,
   "outputs": [],
   "source": [
    "plt.figure(figsize=(10, 5))\n",
    "plt.plot(lfo_freq_vals, losses2)\n",
    "plt.title(\"Loss vs LFO frequency\")\n",
    "\n",
    "plt.show()"
   ],
   "metadata": {
    "collapsed": false
   }
  },
  {
   "cell_type": "code",
   "execution_count": null,
   "outputs": [],
   "source": [
    "amp_vals = np.linspace(0, 1, 100)\n",
    "\n",
    "losses3 = []\n",
    "for amp_val in amp_vals:\n",
    "    update_params = copy.deepcopy(target_param_dict)\n",
    "\n",
    "    update_params[(0, 2)]['parameters'].update({'amp_c': amp_val})\n",
    "    update_params[(1, 1)]['parameters'].update({'active': [True]})\n",
    "    update_params[(0, 2)]['parameters'].update({'active': [True]})\n",
    "    update_params[(0, 2)]['parameters'].update({'fm_active': [True]})\n",
    "    synth.update_cells_from_dict(update_params)\n",
    "    signal, _ = synth.generate_signal(signal_duration=1)\n",
    "\n",
    "    # resampled_target_signal = resample_op(target_signal.cpu())\n",
    "    # resampled_pred_signal = resample_op(signal.cpu())\n",
    "\n",
    "    # plt.plot(resampled_target_signal.detach().numpy().squeeze())\n",
    "    # plt.plot(resampled_pred_signal.detach().numpy().squeeze())\n",
    "    #\n",
    "    # plt.show()\n",
    "    target_signal_unsqueezed = target_signal.unsqueeze(dim=0)\n",
    "    loss_val, _, _ = loss_handler.call(target_signal_unsqueezed, signal, step=0, return_spectrogram=False)\n",
    "\n",
    "    # loss_val = loss_handler.call(resampled_target_signal, resampled_pred_signal.unsqueeze(0), signal_chain_index=0, global_step=0, summary_writer=None, log=False)\n",
    "\n",
    "    losses3.append(loss_val.detach().cpu().numpy().item())\n",
    "\n",
    "# print(losses3)\n"
   ],
   "metadata": {
    "collapsed": false
   }
  },
  {
   "cell_type": "code",
   "execution_count": null,
   "outputs": [],
   "source": [
    "plt.figure(figsize=(12, 5))\n",
    "plt.plot(amp_vals, losses3)\n",
    "plt.title(\"Loss vs carrier amplitude\")\n",
    "plt.show()"
   ],
   "metadata": {
    "collapsed": false
   }
  },
  {
   "cell_type": "code",
   "execution_count": null,
   "outputs": [],
   "source": [
    "mod_index_vals = np.linspace(0, 0.3, 1000)\n",
    "\n",
    "losses4 = []\n",
    "for mod_index_val in mod_index_vals:\n",
    "    update_params = copy.deepcopy(target_param_dict)\n",
    "\n",
    "    update_params[(0, 2)]['parameters'].update({'mod_index': mod_index_val})\n",
    "    update_params[(1, 1)]['parameters'].update({'active': [True]})\n",
    "    update_params[(0, 2)]['parameters'].update({'active': [True]})\n",
    "    update_params[(0, 2)]['parameters'].update({'fm_active': [True]})\n",
    "    synth.update_cells_from_dict(update_params)\n",
    "    signal, _ = synth.generate_signal(signal_duration=1)\n",
    "\n",
    "    # resampled_target_signal = resample_op(target_signal.cpu())\n",
    "    # resampled_pred_signal = resample_op(signal.cpu())\n",
    "\n",
    "    # plt.plot(resampled_target_signal.detach().numpy().squeeze())\n",
    "    # plt.plot(resampled_pred_signal.detach().numpy().squeeze())\n",
    "    #\n",
    "    # plt.show()\n",
    "    target_signal_unsqueezed = target_signal.unsqueeze(dim=0)\n",
    "    loss_val, _, _ = loss_handler.call(target_signal_unsqueezed, signal, step=0, return_spectrogram=False)\n",
    "\n",
    "    # loss_val = loss_handler.call(resampled_target_signal, resampled_pred_signal.unsqueeze(0), signal_chain_index=0, global_step=0, summary_writer=None, log=False)\n",
    "\n",
    "    losses4.append(loss_val.detach().cpu().numpy().item())\n",
    "\n",
    "# print(losses4)"
   ],
   "metadata": {
    "collapsed": false
   }
  },
  {
   "cell_type": "code",
   "execution_count": null,
   "outputs": [],
   "source": [
    "plt.figure(figsize=(20, 5))\n",
    "plt.plot(mod_index_vals, losses4)\n",
    "plt.title(\"Loss vs FM mod_index\")\n",
    "plt.show()"
   ],
   "metadata": {
    "collapsed": false
   }
  },
  {
   "cell_type": "code",
   "execution_count": null,
   "outputs": [],
   "source": [
    "sim_target_params = {'freq_c'}"
   ],
   "metadata": {
    "collapsed": false
   }
  },
  {
   "cell_type": "code",
   "execution_count": null,
   "outputs": [],
   "source": [
    "spec_op = Spectrogram(n_fft=512)\n",
    "\n",
    "\n",
    "fig, ax = plt.subplots(1, 2, figsize=(15, 5))\n",
    "\n",
    "target_spec = spec_op(target_signal.cpu())\n",
    "\n",
    "update_params = copy.deepcopy(target_param_dict)\n",
    "\n",
    "update_params[(0, 1)]['parameters'].update({'freq_c': 200})\n",
    "synth.update_cells_from_dict(update_params)\n",
    "signal, _ = synth.generate_signal()\n",
    "\n",
    "pred_spec = spec_op(signal.cpu().detach())\n",
    "\n",
    "ax[0].imshow(target_spec.squeeze(), origin='lower')\n",
    "ax[1].imshow(pred_spec.squeeze(), origin='lower')"
   ],
   "metadata": {
    "collapsed": false
   }
  }
 ],
 "metadata": {
  "kernelspec": {
   "display_name": "Python 3",
   "language": "python",
   "name": "python3"
  },
  "language_info": {
   "codemirror_mode": {
    "name": "ipython",
    "version": 2
   },
   "file_extension": ".py",
   "mimetype": "text/x-python",
   "name": "python",
   "nbconvert_exporter": "python",
   "pygments_lexer": "ipython2",
   "version": "2.7.6"
  }
 },
 "nbformat": 4,
 "nbformat_minor": 0
}
