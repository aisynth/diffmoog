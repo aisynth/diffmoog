{
 "cells": [
  {
   "cell_type": "code",
   "execution_count": 2,
   "metadata": {
    "collapsed": true
   },
   "outputs": [
    {
     "ename": "ModuleNotFoundError",
     "evalue": "No module named 'src'",
     "output_type": "error",
     "traceback": [
      "\u001B[1;31m---------------------------------------------------------------------------\u001B[0m",
      "\u001B[1;31mModuleNotFoundError\u001B[0m                       Traceback (most recent call last)",
      "\u001B[1;32m~\\AppData\\Local\\Temp\\ipykernel_29764\\1438903031.py\u001B[0m in \u001B[0;36m<cell line: 24>\u001B[1;34m()\u001B[0m\n\u001B[0;32m     22\u001B[0m \u001B[1;32mfrom\u001B[0m \u001B[0mtensorboard\u001B[0m\u001B[1;33m.\u001B[0m\u001B[0mbackend\u001B[0m\u001B[1;33m.\u001B[0m\u001B[0mevent_processing\u001B[0m\u001B[1;33m.\u001B[0m\u001B[0mevent_accumulator\u001B[0m \u001B[1;32mimport\u001B[0m \u001B[0mEventAccumulator\u001B[0m\u001B[1;33m\u001B[0m\u001B[1;33m\u001B[0m\u001B[0m\n\u001B[0;32m     23\u001B[0m \u001B[1;33m\u001B[0m\u001B[0m\n\u001B[1;32m---> 24\u001B[1;33m \u001B[1;32mfrom\u001B[0m \u001B[0msrc\u001B[0m\u001B[1;33m.\u001B[0m\u001B[0mmodel\u001B[0m\u001B[1;33m.\u001B[0m\u001B[0mloss\u001B[0m \u001B[1;32mimport\u001B[0m \u001B[0mspectral_loss\u001B[0m\u001B[1;33m\u001B[0m\u001B[1;33m\u001B[0m\u001B[0m\n\u001B[0m\u001B[0;32m     25\u001B[0m \u001B[1;32mfrom\u001B[0m \u001B[0msynth\u001B[0m\u001B[1;33m.\u001B[0m\u001B[0msynth_architecture\u001B[0m \u001B[1;32mimport\u001B[0m \u001B[0mSynthModular\u001B[0m\u001B[1;33m\u001B[0m\u001B[1;33m\u001B[0m\u001B[0m\n\u001B[0;32m     26\u001B[0m \u001B[1;31m# from config import SynthConfig\u001B[0m\u001B[1;33m\u001B[0m\u001B[1;33m\u001B[0m\u001B[0m\n",
      "\u001B[1;31mModuleNotFoundError\u001B[0m: No module named 'src'"
     ]
    }
   ],
   "source": [
    "import copy\n",
    "import json\n",
    "import os, glob\n",
    "\n",
    "from itertools import product\n",
    "\n",
    "import numpy as np\n",
    "import pandas as pd\n",
    "\n",
    "import torch\n",
    "# %matplotlib inline\n",
    "\n",
    "import torchaudio\n",
    "\n",
    "from torchaudio.functional.filtering import lowpass_biquad, highpass_biquad\n",
    "from torchaudio.transforms import Spectrogram, MelSpectrogram, Resample\n",
    "\n",
    "from matplotlib import rcParams\n",
    "\n",
    "from collections import defaultdict\n",
    "\n",
    "from tensorboard.backend.event_processing.event_accumulator import EventAccumulator\n",
    "\n",
    "from src.model.loss import spectral_loss\n",
    "from synth.synth_architecture import SynthModular\n",
    "# from config import SynthConfig\n",
    "from src.main_hp_search_dec_only import configure_experiment\n",
    "\n",
    "# from config import configure_experiment\n",
    "from dataset.ai_synth_dataset import AiSynthDataset\n",
    "from synth.synth_constants import synth_constants\n",
    "\n",
    "%matplotlib inline\n",
    "import matplotlib\n",
    "# matplotlib.use('TkAgg')\n",
    "import matplotlib.pyplot as plt\n",
    "\n",
    "\n",
    "import seaborn as sns\n",
    "sns.set_style('whitegrid')"
   ]
  },
  {
   "cell_type": "markdown",
   "source": [],
   "metadata": {
    "collapsed": false
   }
  },
  {
   "cell_type": "code",
   "execution_count": null,
   "outputs": [],
   "source": [
    "# Setup experiment\n",
    "\n",
    "exp_name = 'del_visualization'\n",
    "dataset_name = 'fm_saw_single'\n",
    "config_name = r'C:\\Users\\noamk\\PycharmProjects\\ai_synth\\configs\\lfo_saw_single_synth_config_hp_search.yaml'\n",
    "device = 'cuda'\n",
    "# resample_op = Resample(orig_freq=16000, new_freq=50).to('cpu')\n",
    "\n",
    "cfg = configure_experiment(exp_name, dataset_name, config_name, debug=True)\n",
    "\n",
    "# synth = SynthModular(synth_cfg=synth_cfg, sample_rate=cfg.sample_rate, device=device, num_sounds=1,\n",
    "#                      signal_duration_sec=cfg.signal_duration_sec, preset=synth_cfg.preset)\n",
    "synth = SynthModular(preset_name=cfg.synth.preset,\n",
    "                     synth_constants=synth_constants,\n",
    "                     device=device)\n",
    "\n",
    "# dataset = AiSynthDataset(cfg.train_parameters_file, cfg.train_audio_dir, device)\n",
    "dataset = AiSynthDataset(r'C:\\Users\\noamk\\PycharmProjects\\ai_synth\\data\\lfo_saw_single\\train', noise_std=0)\n",
    "\n"
   ],
   "metadata": {
    "collapsed": false
   }
  },
  {
   "cell_type": "code",
   "execution_count": null,
   "outputs": [],
   "source": [
    "dataset = AiSynthDataset(r'C:\\Users\\noamk\\PycharmProjects\\ai_synth\\data\\lfo_saw_single\\train', noise_std=0)\n",
    "\n",
    "target_sample = dataset[0]\n",
    "target_signal, target_param_dict, signal_index = target_sample\n",
    "\n",
    "target_signal = target_signal.to(device)\n",
    "\n",
    "synth.update_cells_from_dict(target_param_dict)\n",
    "print(target_param_dict)"
   ],
   "metadata": {
    "collapsed": false
   }
  },
  {
   "cell_type": "markdown",
   "source": [],
   "metadata": {
    "collapsed": false
   }
  },
  {
   "cell_type": "code",
   "execution_count": null,
   "outputs": [],
   "source": [
    "cfg.multi_spectral_loss_spec_type = 'SPECTROGRAM'\n",
    "loss_handler = spectral_loss.SpectralLoss(loss_type=cfg.loss.spec_loss_type,\n",
    "                                          loss_preset=cfg.loss.preset,\n",
    "                                          synth_constants=synth_constants, device=device)"
   ],
   "metadata": {
    "collapsed": false
   }
  },
  {
   "cell_type": "code",
   "execution_count": null,
   "outputs": [],
   "source": [
    "loss_handler.spectrogram_ops"
   ],
   "metadata": {
    "collapsed": false
   }
  },
  {
   "cell_type": "code",
   "execution_count": null,
   "outputs": [],
   "source": [
    "fm_freq_vals = np.linspace(0, 1200, 1200)\n",
    "\n",
    "losses1 = []\n",
    "for freq_val in fm_freq_vals:\n",
    "    update_params = copy.deepcopy(target_param_dict)\n",
    "\n",
    "    update_params[(0, 2)]['parameters'].update({'freq_c': freq_val})\n",
    "    update_params[(1, 1)]['parameters'].update({'active': [True]})\n",
    "    update_params[(0, 2)]['parameters'].update({'active': [True]})\n",
    "    update_params[(0, 2)]['parameters'].update({'fm_active': [True]})\n",
    "    synth.update_cells_from_dict(update_params)\n",
    "    signal, _ = synth.generate_signal(signal_duration=1)\n",
    "\n",
    "    # resampled_target_signal = resample_op(target_signal.cpu())\n",
    "    # resampled_pred_signal = resample_op(signal.cpu())\n",
    "\n",
    "    # plt.plot(resampled_target_signal.detach().numpy().squeeze())\n",
    "    # plt.plot(resampled_pred_signal.detach().numpy().squeeze())\n",
    "    #\n",
    "    # plt.show()\n",
    "    target_signal_unsqueezed = target_signal.unsqueeze(dim=0)\n",
    "    loss_val, _, _ = loss_handler.call(target_signal_unsqueezed, signal, step=0, return_spectrogram=False)\n",
    "\n",
    "    # loss_val = loss_handler.call(resampled_target_signal, resampled_pred_signal.unsqueeze(0), signal_chain_index=0, global_step=0, summary_writer=None, log=False)\n",
    "\n",
    "    losses1.append(loss_val.detach().cpu().numpy().item())\n",
    "\n",
    "print(losses1)\n"
   ],
   "metadata": {
    "collapsed": false
   }
  },
  {
   "cell_type": "code",
   "execution_count": null,
   "outputs": [],
   "source": [
    "# matplotlib.use('Qt5Agg')\n",
    "\n"
   ],
   "metadata": {
    "collapsed": false
   }
  },
  {
   "cell_type": "code",
   "execution_count": null,
   "outputs": [],
   "source": [
    "plt.figure(figsize=(20, 5))\n",
    "plt.plot(fm_freq_vals, losses1)\n",
    "plt.title(\"Loss vs carrier frequency\")\n",
    "plt.show()"
   ],
   "metadata": {
    "collapsed": false
   }
  },
  {
   "cell_type": "code",
   "execution_count": null,
   "outputs": [],
   "source": [
    "lfo_freq_vals = np.linspace(0, 15, 100)\n",
    "\n",
    "losses2 = []\n",
    "for freq_val in lfo_freq_vals:\n",
    "    update_params = copy.deepcopy(target_param_dict)\n",
    "\n",
    "    update_params[(1, 1)]['parameters'].update({'freq': freq_val})\n",
    "    update_params[(1, 1)]['parameters'].update({'active': [True]})\n",
    "    update_params[(0, 2)]['parameters'].update({'active': [True]})\n",
    "    update_params[(0, 2)]['parameters'].update({'fm_active': [True]})\n",
    "    synth.update_cells_from_dict(update_params)\n",
    "    signal, _ = synth.generate_signal(signal_duration=1)\n",
    "\n",
    "    # resampled_target_signal = resample_op(target_signal.cpu())\n",
    "    # resampled_pred_signal = resample_op(signal.cpu())\n",
    "\n",
    "    # plt.plot(resampled_target_signal.detach().numpy().squeeze())\n",
    "    # plt.plot(resampled_pred_signal.detach().numpy().squeeze())\n",
    "    #\n",
    "    # plt.show()\n",
    "    target_signal_unsqueezed = target_signal.unsqueeze(dim=0)\n",
    "    loss_val, _, _ = loss_handler.call(target_signal_unsqueezed, signal, step=0, return_spectrogram=False)\n",
    "\n",
    "    # loss_val = loss_handler.call(resampled_target_signal, resampled_pred_signal.unsqueeze(0), signal_chain_index=0, global_step=0, summary_writer=None, log=False)\n",
    "\n",
    "    losses2.append(loss_val.detach().cpu().numpy().item())\n",
    "\n",
    "print(losses2)"
   ],
   "metadata": {
    "collapsed": false
   }
  },
  {
   "cell_type": "code",
   "execution_count": null,
   "outputs": [],
   "source": [
    "plt.figure(figsize=(20, 5))\n",
    "plt.plot(lfo_freq_vals, losses2)\n",
    "plt.title(\"Loss vs LFO frequency\")\n",
    "\n",
    "plt.show()"
   ],
   "metadata": {
    "collapsed": false
   }
  },
  {
   "cell_type": "code",
   "execution_count": null,
   "outputs": [],
   "source": [
    "amp_vals = np.linspace(0, 1, 100)\n",
    "\n",
    "losses3 = []\n",
    "for amp_val in amp_vals:\n",
    "    update_params = copy.deepcopy(target_param_dict)\n",
    "\n",
    "    update_params[(0, 2)]['parameters'].update({'amp_c': amp_val})\n",
    "    update_params[(1, 1)]['parameters'].update({'active': [True]})\n",
    "    update_params[(0, 2)]['parameters'].update({'active': [True]})\n",
    "    update_params[(0, 2)]['parameters'].update({'fm_active': [True]})\n",
    "    synth.update_cells_from_dict(update_params)\n",
    "    signal, _ = synth.generate_signal(signal_duration=1)\n",
    "\n",
    "    # resampled_target_signal = resample_op(target_signal.cpu())\n",
    "    # resampled_pred_signal = resample_op(signal.cpu())\n",
    "\n",
    "    # plt.plot(resampled_target_signal.detach().numpy().squeeze())\n",
    "    # plt.plot(resampled_pred_signal.detach().numpy().squeeze())\n",
    "    #\n",
    "    # plt.show()\n",
    "    target_signal_unsqueezed = target_signal.unsqueeze(dim=0)\n",
    "    loss_val, _, _ = loss_handler.call(target_signal_unsqueezed, signal, step=0, return_spectrogram=False)\n",
    "\n",
    "    # loss_val = loss_handler.call(resampled_target_signal, resampled_pred_signal.unsqueeze(0), signal_chain_index=0, global_step=0, summary_writer=None, log=False)\n",
    "\n",
    "    losses3.append(loss_val.detach().cpu().numpy().item())\n",
    "\n",
    "print(losses3)\n"
   ],
   "metadata": {
    "collapsed": false
   }
  },
  {
   "cell_type": "code",
   "execution_count": null,
   "outputs": [],
   "source": [
    "plt.figure(figsize=(20, 5))\n",
    "plt.plot(amp_vals, losses3)\n",
    "plt.title(\"Loss vs carrier amplitude\")\n",
    "plt.show()"
   ],
   "metadata": {
    "collapsed": false
   }
  },
  {
   "cell_type": "code",
   "execution_count": null,
   "outputs": [],
   "source": [
    "mod_index_vals = np.linspace(0, 0.3, 1000)\n",
    "\n",
    "losses4 = []\n",
    "for mod_index_val in mod_index_vals:\n",
    "    update_params = copy.deepcopy(target_param_dict)\n",
    "\n",
    "    update_params[(0, 2)]['parameters'].update({'mod_index': mod_index_val})\n",
    "    update_params[(1, 1)]['parameters'].update({'active': [True]})\n",
    "    update_params[(0, 2)]['parameters'].update({'active': [True]})\n",
    "    update_params[(0, 2)]['parameters'].update({'fm_active': [True]})\n",
    "    synth.update_cells_from_dict(update_params)\n",
    "    signal, _ = synth.generate_signal(signal_duration=1)\n",
    "\n",
    "    # resampled_target_signal = resample_op(target_signal.cpu())\n",
    "    # resampled_pred_signal = resample_op(signal.cpu())\n",
    "\n",
    "    # plt.plot(resampled_target_signal.detach().numpy().squeeze())\n",
    "    # plt.plot(resampled_pred_signal.detach().numpy().squeeze())\n",
    "    #\n",
    "    # plt.show()\n",
    "    target_signal_unsqueezed = target_signal.unsqueeze(dim=0)\n",
    "    loss_val, _, _ = loss_handler.call(target_signal_unsqueezed, signal, step=0, return_spectrogram=False)\n",
    "\n",
    "    # loss_val = loss_handler.call(resampled_target_signal, resampled_pred_signal.unsqueeze(0), signal_chain_index=0, global_step=0, summary_writer=None, log=False)\n",
    "\n",
    "    losses4.append(loss_val.detach().cpu().numpy().item())\n",
    "\n",
    "print(losses4)"
   ],
   "metadata": {
    "collapsed": false
   }
  },
  {
   "cell_type": "code",
   "execution_count": null,
   "outputs": [],
   "source": [
    "plt.figure(figsize=(20, 5))\n",
    "plt.plot(mod_index_vals, losses4)\n",
    "plt.title(\"Loss vs FM mod_index\")\n",
    "plt.show()"
   ],
   "metadata": {
    "collapsed": false
   }
  },
  {
   "cell_type": "code",
   "execution_count": null,
   "outputs": [],
   "source": [
    "sim_target_params = {'freq_c'}"
   ],
   "metadata": {
    "collapsed": false
   }
  },
  {
   "cell_type": "code",
   "execution_count": null,
   "outputs": [],
   "source": [
    "spec_op = Spectrogram(n_fft=512)\n",
    "\n",
    "\n",
    "fig, ax = plt.subplots(1, 2, figsize=(80, 40))\n",
    "\n",
    "target_spec = spec_op(target_signal.cpu())\n",
    "\n",
    "update_params = copy.deepcopy(target_param_dict)\n",
    "\n",
    "update_params[(0,1)]['parameters'].update({'freq_c': 200})\n",
    "synth.update_cells_from_dict(update_params)\n",
    "signal, _ = synth.generate_signal()\n",
    "\n",
    "pred_spec = spec_op(signal.cpu().detach())\n",
    "\n",
    "ax[0].imshow(target_spec.squeeze(), origin='lower')\n",
    "ax[1].imshow(pred_spec.squeeze(), origin='lower')"
   ],
   "metadata": {
    "collapsed": false
   }
  }
 ],
 "metadata": {
  "kernelspec": {
   "display_name": "Python 3",
   "language": "python",
   "name": "python3"
  },
  "language_info": {
   "codemirror_mode": {
    "name": "ipython",
    "version": 2
   },
   "file_extension": ".py",
   "mimetype": "text/x-python",
   "name": "python",
   "nbconvert_exporter": "python",
   "pygments_lexer": "ipython2",
   "version": "2.7.6"
  }
 },
 "nbformat": 4,
 "nbformat_minor": 0
}
