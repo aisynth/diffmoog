{
 "cells": [
  {
   "cell_type": "code",
   "execution_count": 19,
   "metadata": {
    "collapsed": true
   },
   "outputs": [],
   "source": [
    "import json\n",
    "import os, glob\n",
    "\n",
    "from itertools import product\n",
    "\n",
    "import numpy as np\n",
    "import pandas as pd\n",
    "import matplotlib.pyplot as plt\n",
    "from matplotlib import rcParams\n",
    "\n",
    "from collections import defaultdict\n",
    "\n",
    "from tensorboard.backend.event_processing.event_accumulator import EventAccumulator\n",
    "\n",
    "import seaborn as sns\n",
    "sns.set_style('whitegrid')\n"
   ]
  },
  {
   "cell_type": "code",
   "execution_count": 16,
   "outputs": [],
   "source": [
    "dataset_to_visualize = 'toy_data'\n",
    "split_to_visualize = 'train'"
   ],
   "metadata": {
    "collapsed": false,
    "pycharm": {
     "name": "#%%\n"
    }
   }
  },
  {
   "cell_type": "code",
   "execution_count": 23,
   "outputs": [],
   "source": [
    "dataset_params_csv = os.path.join('data', dataset_to_visualize, split_to_visualize,\n",
    "                                  'params_dataset.csv')\n",
    "dataset_params_df = pd.read_csv(dataset_params_csv, index_col=0)\n",
    "\n",
    "cols_to_drop = []\n",
    "for col in dataset_params_df.columns:\n",
    "    dataset_params_df[col] = dataset_params_df[col].map(lambda x: json.loads(x.replace(\"'\", '\"')))\n",
    "    val = dataset_params_df.loc[0, col]\n",
    "    if val['operation'] == 'None':\n",
    "        cols_to_drop.append(col)\n",
    "\n",
    "dataset_params_df.drop(cols_to_drop, axis=1, inplace=True)"
   ],
   "metadata": {
    "collapsed": false,
    "pycharm": {
     "name": "#%%\n"
    }
   }
  },
  {
   "cell_type": "code",
   "execution_count": 25,
   "outputs": [],
   "source": [
    "def visualize_params(param_column):\n",
    "\n",
    "    op = param_column[0]['operation']\n",
    "    param_names = list(param_column[0]['parameters'].keys())\n",
    "\n",
    "    for p in param_names:\n",
    "        vals = [c['parameters'][p] for c in param_column]\n",
    "        plt.hist(vals, bins=100)\n",
    "        plt.title(f\"{op} {p}\")\n",
    "        plt.show()\n",
    "\n",
    "    return"
   ],
   "metadata": {
    "collapsed": false,
    "pycharm": {
     "name": "#%%\n"
    }
   }
  },
  {
   "cell_type": "code",
   "execution_count": 26,
   "outputs": [
    {
     "data": {
      "text/plain": "<Figure size 432x288 with 1 Axes>",
      "image/png": "[encoded data removed]"
     },
     "metadata": {},
     "output_type": "display_data"
    },
    {
     "data": {
      "text/plain": "<Figure size 432x288 with 1 Axes>",
      "image/png": "[encoded data removed]"
     },
     "metadata": {},
     "output_type": "display_data"
    }
   ],
   "source": [
    "for col in dataset_params_df.columns:\n",
    "    vals = dataset_params_df[col].values\n",
    "    visualize_params(vals)"
   ],
   "metadata": {
    "collapsed": false,
    "pycharm": {
     "name": "#%%\n"
    }
   }
  }
 ],
 "metadata": {
  "kernelspec": {
   "display_name": "Python 3",
   "language": "python",
   "name": "python3"
  },
  "language_info": {
   "codemirror_mode": {
    "name": "ipython",
    "version": 2
   },
   "file_extension": ".py",
   "mimetype": "text/x-python",
   "name": "python",
   "nbconvert_exporter": "python",
   "pygments_lexer": "ipython2",
   "version": "2.7.6"
  }
 },
 "nbformat": 4,
 "nbformat_minor": 0
}