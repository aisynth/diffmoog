{
 "cells": [
  {
   "cell_type": "code",
   "execution_count": 1,
   "metadata": {
    "pycharm": {
     "name": "#%%\n"
    },
    "ExecuteTime": {
     "end_time": "2023-09-06T15:21:13.393800700Z",
     "start_time": "2023-09-06T15:21:13.380222900Z"
    }
   },
   "outputs": [],
   "source": [
    "import sys\n",
    "import os\n",
    "\n",
    "import numpy as np\n",
    "import pandas as pd\n",
    "import matplotlib.pyplot as plt\n",
    "\n",
    "import seaborn as sns\n",
    "sns.set_style('whitegrid')\n",
    "\n",
    "sys.path.append('../src/')"
   ]
  },
  {
   "cell_type": "markdown",
   "metadata": {
    "pycharm": {
     "name": "#%% md\n"
    }
   },
   "source": [
    "# DiffMoog Structure\n",
    "\n",
    "DiffMoog is a customizable, modular synthesizer, with a virtually limitless number of possible structures. It is designed as 3-channels, 7-layers matrix, each cell containing a specific module or operation (i.e. oscillator, FM, filter, ADSR etc.). The sound flows through these modules in a directional manner, each cell getting audio / control input from earlier cells in the graph:\n",
    "\n",
    "<br>\n",
    "<img alt=\"Concept%20Map-2.jpg\" height=\"500\" src=\"assets/Concept Map.jpg\" width=\"1300\"/>"
   ]
  },
  {
   "cell_type": "markdown",
   "metadata": {
    "pycharm": {
     "name": "#%% md\n"
    }
   },
   "source": [
    "## Defining a Preset\n",
    "\n",
    "Our way of controlling the synthesizer structure is through the chains mechanism. A chain is a list of Python dictionaries, each one defining a cell in the synth matrix. In this cell definition we specify which module is used in the cell, as well as the cell inputs and outputs. Let's look at a very basic, 1-channel preset:"
   ]
  },
  {
   "cell_type": "code",
   "execution_count": 2,
   "metadata": {
    "pycharm": {
     "name": "#%%\n"
    },
    "ExecuteTime": {
     "end_time": "2023-09-06T15:21:16.413796300Z",
     "start_time": "2023-09-06T15:21:16.366289Z"
    }
   },
   "outputs": [],
   "source": [
    "OSC_ADSR = [\n",
    "    {'index': (0, 0), 'operation': 'osc', 'default_connection': True},     # Our first cell is a simple oscillator\n",
    "    {'index': (0, 1), 'operation': 'env_adsr', 'default_connection': True},   # audio signal from the oscillator goes into an ADSR module\n",
    "]"
   ]
  },
  {
   "cell_type": "markdown",
   "metadata": {
    "pycharm": {
     "name": "#%% md\n"
    }
   },
   "source": [
    "For convenience, we defined a *default_connection* parameter which simply means that the cell takes audio input from the cell immediately before it, and outputs to the cell immediately after it.\n",
    "\n",
    "Let's look at a more complex, multichannel preset, that also contains control signals:"
   ]
  },
  {
   "cell_type": "code",
   "execution_count": 3,
   "metadata": {
    "pycharm": {
     "name": "#%%\n"
    },
    "ExecuteTime": {
     "end_time": "2023-09-06T15:21:18.433620700Z",
     "start_time": "2023-09-06T15:21:18.413610700Z"
    }
   },
   "outputs": [],
   "source": [
    "BASIC_FLOW = [\n",
    "    {'index': (0, 0), 'operation': 'lfo'},          # An LFO, that generates control signal for an FM oscillator\n",
    "    {'index': (0, 1), 'operation': 'fm_sine', 'control_input': [(0, 0)], 'outputs': [(0, 2)]},    # The FM oscillator gets a control signal from the LFO\n",
    "    {'index': (1, 0), 'operation': 'lfo'},\n",
    "    {'index': (1, 1), 'operation': 'fm_square', 'control_input': [(1, 0)], 'outputs': [(0, 2)]},\n",
    "    {'index': (2, 0), 'operation': 'lfo'},\n",
    "    {'index': (2, 1), 'operation': 'fm_saw', 'control_input': [(2, 0)], 'outputs': [(0, 2)]},\n",
    "    {'index': (0, 2), 'operation': 'mix', 'audio_input': [(0, 1), (1, 1), (2, 1)], 'outputs': [(0, 3)]},  # Signals from the 3 channels are mixed and passed on\n",
    "    {'index': (0, 3), 'operation': 'env_adsr', 'default_connection': True},\n",
    "    {'index': (0, 4), 'operation': 'lowpass_filter', 'default_connection': True}\n",
    "]"
   ]
  },
  {
   "cell_type": "markdown",
   "metadata": {
    "pycharm": {
     "name": "#%% md\n"
    }
   },
   "source": [
    "Another capability of DiffMoog is **online modularity** - we can define multiple outputs for a cell, and switch between them randomly during sound generation. For example in this preset:"
   ]
  },
  {
   "cell_type": "code",
   "execution_count": 4,
   "metadata": {
    "pycharm": {
     "name": "#%%\n"
    },
    "ExecuteTime": {
     "end_time": "2023-09-06T15:21:20.739987900Z",
     "start_time": "2023-09-06T15:21:20.726985600Z"
    }
   },
   "outputs": [],
   "source": [
    "MODULAR = [\n",
    "    {'index': (0, 0), 'operation': 'lfo_sine', 'outputs': [(0, 6), (1, 1)], 'switch_outputs': True},   # This LFO generates control signal that can go into an FM module or into the tremolo module at the end\n",
    "    {'index': (1, 1), 'operation': 'fm', 'control_input': [(0, 0)], 'outputs': [(0, 2), (1, 2), (2, 2)],\n",
    "     'switch_outputs': True, 'allow_multiple': False, 'active_prob': 0.75},\n",
    "    {'index': (0, 2), 'operation': 'fm_sine', 'control_input': [(1, 1)], 'outputs': [(0, 3)]},\n",
    "    {'index': (1, 2), 'operation': 'fm_saw', 'control_input': [(1, 1)], 'outputs': [(0, 3)]},\n",
    "    {'index': (2, 2), 'operation': 'fm_square', 'control_input': [(1, 1)], 'outputs': [(0, 3)]},\n",
    "    {'index': (0, 3), 'operation': 'mix', 'audio_input': [(0, 2), (1, 2), (2, 2)], 'default_connection': True},\n",
    "    {'index': (0, 4), 'operation': 'env_adsr', 'default_connection': True},\n",
    "    {'index': (0, 5), 'operation': 'lowpass_filter', 'default_connection': True},\n",
    "    {'index': (0, 6), 'operation': 'tremolo', 'control_input': [(0, 0)], 'default_connection': True}\n",
    "]"
   ]
  },
  {
   "cell_type": "markdown",
   "metadata": {
    "pycharm": {
     "name": "#%% md\n"
    }
   },
   "source": [
    "To see which other operations (modules) available, check out *src/synth/synth_modules.py*\n",
    "To see other suggested presets see *src/synth/synth_chains.py*"
   ]
  },
  {
   "cell_type": "markdown",
   "metadata": {
    "pycharm": {
     "name": "#%% md\n"
    }
   },
   "source": [
    "# Create Sounds using DiffMoog\n",
    "\n",
    "Once we have defined the structure of our synthesizer, we are ready to start generating sounds. Our code is designed to be used in large batches - i.e. to automatically sample random parameter combinations and generate sounds using our defined synth. Take a look at the notebook *create_dataset.py* for more about that.\n",
    "\n",
    "To help better understand different presets and their behaviour, we provide an exploration tool that enables to generate and visualize specific sounds from a specific preset:"
   ]
  },
  {
   "cell_type": "markdown",
   "metadata": {
    "pycharm": {
     "name": "#%% md\n"
    }
   },
   "source": [
    "## Define a Preset\n",
    "\n",
    "First, define a preset for the synthesizer structure you want to use. You can use one of the existing ones, or define your own."
   ]
  },
  {
   "cell_type": "code",
   "execution_count": 5,
   "metadata": {
    "pycharm": {
     "name": "#%%\n"
    },
    "ExecuteTime": {
     "end_time": "2023-09-06T15:21:27.485840200Z",
     "start_time": "2023-09-06T15:21:24.362251600Z"
    }
   },
   "outputs": [
    {
     "name": "stderr",
     "output_type": "stream",
     "text": [
      "C:\\Users\\noamk\\PycharmProjects\\diffmoog\\venv\\lib\\site-packages\\torchaudio\\backend\\utils.py:74: UserWarning: No audio backend is available.\n",
      "  warnings.warn(\"No audio backend is available.\")\n"
     ]
    },
    {
     "ename": "AssertionError",
     "evalue": "Torch not compiled with CUDA enabled",
     "output_type": "error",
     "traceback": [
      "\u001B[1;31m---------------------------------------------------------------------------\u001B[0m",
      "\u001B[1;31mAssertionError\u001B[0m                            Traceback (most recent call last)",
      "Cell \u001B[1;32mIn[5], line 14\u001B[0m\n\u001B[0;32m     11\u001B[0m device \u001B[38;5;241m=\u001B[39m \u001B[38;5;124m'\u001B[39m\u001B[38;5;124mcuda:0\u001B[39m\u001B[38;5;124m'\u001B[39m\n\u001B[0;32m     12\u001B[0m synth_chain \u001B[38;5;241m=\u001B[39m \u001B[38;5;124m'\u001B[39m\u001B[38;5;124mBASIC_FLOW\u001B[39m\u001B[38;5;124m'\u001B[39m   \u001B[38;5;66;03m# Define your own here\u001B[39;00m\n\u001B[1;32m---> 14\u001B[0m synth \u001B[38;5;241m=\u001B[39m \u001B[43mSynthModular\u001B[49m\u001B[43m(\u001B[49m\u001B[43mchain_name\u001B[49m\u001B[38;5;241;43m=\u001B[39;49m\u001B[43msynth_chain\u001B[49m\u001B[43m,\u001B[49m\u001B[43m \u001B[49m\u001B[43msynth_constants\u001B[49m\u001B[38;5;241;43m=\u001B[39;49m\u001B[43msynth_structure\u001B[49m\u001B[43m,\u001B[49m\u001B[43m \u001B[49m\u001B[43mdevice\u001B[49m\u001B[38;5;241;43m=\u001B[39;49m\u001B[43mdevice\u001B[49m\u001B[43m)\u001B[49m\n",
      "File \u001B[1;32m~\\PycharmProjects\\diffmoog\\src\\synth\\synth_architecture.py:119\u001B[0m, in \u001B[0;36mSynthModular.__init__\u001B[1;34m(self, chain_name, synth_constants, device)\u001B[0m\n\u001B[0;32m    117\u001B[0m \u001B[38;5;28mself\u001B[39m\u001B[38;5;241m.\u001B[39mn_layers \u001B[38;5;241m=\u001B[39m n_layers\n\u001B[0;32m    118\u001B[0m \u001B[38;5;28mself\u001B[39m\u001B[38;5;241m.\u001B[39msynth_matrix \u001B[38;5;241m=\u001B[39m \u001B[38;5;28;01mNone\u001B[39;00m\n\u001B[1;32m--> 119\u001B[0m \u001B[38;5;28;43mself\u001B[39;49m\u001B[38;5;241;43m.\u001B[39;49m\u001B[43mapply_architecture\u001B[49m\u001B[43m(\u001B[49m\u001B[43mchain\u001B[49m\u001B[43m,\u001B[49m\u001B[43m \u001B[49m\u001B[43mn_channels\u001B[49m\u001B[43m,\u001B[49m\u001B[43m \u001B[49m\u001B[43mn_layers\u001B[49m\u001B[43m)\u001B[49m\n",
      "File \u001B[1;32m~\\PycharmProjects\\diffmoog\\src\\synth\\synth_architecture.py:129\u001B[0m, in \u001B[0;36mSynthModular.apply_architecture\u001B[1;34m(self, chain, n_channels, n_layers)\u001B[0m\n\u001B[0;32m    127\u001B[0m \u001B[38;5;28;01mfor\u001B[39;00m layer_idx \u001B[38;5;129;01min\u001B[39;00m \u001B[38;5;28mrange\u001B[39m(n_layers):\n\u001B[0;32m    128\u001B[0m     cell \u001B[38;5;241m=\u001B[39m chain\u001B[38;5;241m.\u001B[39mget((channel_idx, layer_idx), {\u001B[38;5;124m'\u001B[39m\u001B[38;5;124mindex\u001B[39m\u001B[38;5;124m'\u001B[39m: (channel_idx, layer_idx)})\n\u001B[1;32m--> 129\u001B[0m     \u001B[38;5;28mself\u001B[39m\u001B[38;5;241m.\u001B[39msynth_matrix[channel_idx][layer_idx] \u001B[38;5;241m=\u001B[39m SynthModularCell(\u001B[38;5;241m*\u001B[39m\u001B[38;5;241m*\u001B[39mcell, device\u001B[38;5;241m=\u001B[39m\u001B[38;5;28mself\u001B[39m\u001B[38;5;241m.\u001B[39mdevice,\n\u001B[0;32m    130\u001B[0m                                                                  synth_constants\u001B[38;5;241m=\u001B[39m\u001B[38;5;28mself\u001B[39m\u001B[38;5;241m.\u001B[39msynth_constants)\n",
      "File \u001B[1;32m~\\PycharmProjects\\diffmoog\\src\\synth\\synth_architecture.py:33\u001B[0m, in \u001B[0;36mSynthModularCell.__init__\u001B[1;34m(self, index, audio_input, control_input, operation, parameters, signal, outputs, switch_outputs, allow_multiple, active_prob, default_connection, synth_constants, device)\u001B[0m\n\u001B[0;32m     29\u001B[0m \u001B[38;5;28mself\u001B[39m\u001B[38;5;241m.\u001B[39mcheck_inputs(index, audio_input, outputs, switch_outputs, operation, parameters, synth_constants)\n\u001B[0;32m     31\u001B[0m \u001B[38;5;28mself\u001B[39m\u001B[38;5;241m.\u001B[39mindex \u001B[38;5;241m=\u001B[39m index\n\u001B[1;32m---> 33\u001B[0m \u001B[38;5;28mself\u001B[39m\u001B[38;5;241m.\u001B[39mmodule \u001B[38;5;241m=\u001B[39m \u001B[43mget_synth_module\u001B[49m\u001B[43m(\u001B[49m\u001B[43moperation\u001B[49m\u001B[43m,\u001B[49m\u001B[43m \u001B[49m\u001B[43mdevice\u001B[49m\u001B[43m,\u001B[49m\u001B[43m \u001B[49m\u001B[43msynth_constants\u001B[49m\u001B[43m)\u001B[49m\n\u001B[0;32m     35\u001B[0m \u001B[38;5;28;01mif\u001B[39;00m default_connection:\n\u001B[0;32m     36\u001B[0m     \u001B[38;5;28mself\u001B[39m\u001B[38;5;241m.\u001B[39maudio_input \u001B[38;5;241m=\u001B[39m \u001B[38;5;28;01mNone\u001B[39;00m\n",
      "File \u001B[1;32m~\\PycharmProjects\\diffmoog\\examples\\../src\\synth\\synth_modules.py:1015\u001B[0m, in \u001B[0;36mget_synth_module\u001B[1;34m(op_name, device, synth_structure)\u001B[0m\n\u001B[0;32m   1012\u001B[0m op_name \u001B[38;5;241m=\u001B[39m op_name\u001B[38;5;241m.\u001B[39mlower()\n\u001B[0;32m   1014\u001B[0m \u001B[38;5;28;01mif\u001B[39;00m op_name \u001B[38;5;129;01min\u001B[39;00m [\u001B[38;5;124m'\u001B[39m\u001B[38;5;124mosc\u001B[39m\u001B[38;5;124m'\u001B[39m, \u001B[38;5;124m'\u001B[39m\u001B[38;5;124mlfo\u001B[39m\u001B[38;5;124m'\u001B[39m, \u001B[38;5;124m'\u001B[39m\u001B[38;5;124mlfo_non_sine\u001B[39m\u001B[38;5;124m'\u001B[39m]:\n\u001B[1;32m-> 1015\u001B[0m     \u001B[38;5;28;01mreturn\u001B[39;00m \u001B[43mOscillator\u001B[49m\u001B[43m(\u001B[49m\u001B[43mop_name\u001B[49m\u001B[43m,\u001B[49m\u001B[43m \u001B[49m\u001B[43mdevice\u001B[49m\u001B[43m,\u001B[49m\u001B[43m \u001B[49m\u001B[43msynth_structure\u001B[49m\u001B[43m)\u001B[49m\n\u001B[0;32m   1016\u001B[0m \u001B[38;5;28;01melif\u001B[39;00m op_name \u001B[38;5;129;01min\u001B[39;00m [\u001B[38;5;124m'\u001B[39m\u001B[38;5;124msurrogate_osc\u001B[39m\u001B[38;5;124m'\u001B[39m, \u001B[38;5;124m'\u001B[39m\u001B[38;5;124msurrogate_lfo\u001B[39m\u001B[38;5;124m'\u001B[39m, \u001B[38;5;124m'\u001B[39m\u001B[38;5;124msurrogate_lfo_non_sine\u001B[39m\u001B[38;5;124m'\u001B[39m]:\n\u001B[0;32m   1017\u001B[0m     \u001B[38;5;28;01mreturn\u001B[39;00m SurrogateOscillator(op_name, device, synth_structure)\n",
      "File \u001B[1;32m~\\PycharmProjects\\diffmoog\\examples\\../src\\synth\\synth_modules.py:141\u001B[0m, in \u001B[0;36mOscillator.__init__\u001B[1;34m(self, name, device, synth_structure, waveform)\u001B[0m\n\u001B[0;32m    138\u001B[0m \u001B[38;5;28msuper\u001B[39m()\u001B[38;5;241m.\u001B[39m\u001B[38;5;21m__init__\u001B[39m(name\u001B[38;5;241m=\u001B[39mname, device\u001B[38;5;241m=\u001B[39mdevice, synth_structure\u001B[38;5;241m=\u001B[39msynth_structure)\n\u001B[0;32m    140\u001B[0m \u001B[38;5;28mself\u001B[39m\u001B[38;5;241m.\u001B[39mwaveform \u001B[38;5;241m=\u001B[39m waveform\n\u001B[1;32m--> 141\u001B[0m \u001B[38;5;28mself\u001B[39m\u001B[38;5;241m.\u001B[39mwave_type_indices \u001B[38;5;241m=\u001B[39m {k: torch\u001B[38;5;241m.\u001B[39mtensor(v, dtype\u001B[38;5;241m=\u001B[39mtorch\u001B[38;5;241m.\u001B[39mlong, device\u001B[38;5;241m=\u001B[39m\u001B[38;5;28mself\u001B[39m\u001B[38;5;241m.\u001B[39mdevice)\u001B[38;5;241m.\u001B[39msqueeze()\n\u001B[0;32m    142\u001B[0m                           \u001B[38;5;28;01mfor\u001B[39;00m k, v \u001B[38;5;129;01min\u001B[39;00m \u001B[38;5;28mself\u001B[39m\u001B[38;5;241m.\u001B[39msynth_structure\u001B[38;5;241m.\u001B[39mwave_type_dict\u001B[38;5;241m.\u001B[39mitems()}\n\u001B[0;32m    143\u001B[0m \u001B[38;5;28mself\u001B[39m\u001B[38;5;241m.\u001B[39mwarning_sent \u001B[38;5;241m=\u001B[39m \u001B[38;5;28;01mFalse\u001B[39;00m\n",
      "File \u001B[1;32m~\\PycharmProjects\\diffmoog\\examples\\../src\\synth\\synth_modules.py:141\u001B[0m, in \u001B[0;36m<dictcomp>\u001B[1;34m(.0)\u001B[0m\n\u001B[0;32m    138\u001B[0m \u001B[38;5;28msuper\u001B[39m()\u001B[38;5;241m.\u001B[39m\u001B[38;5;21m__init__\u001B[39m(name\u001B[38;5;241m=\u001B[39mname, device\u001B[38;5;241m=\u001B[39mdevice, synth_structure\u001B[38;5;241m=\u001B[39msynth_structure)\n\u001B[0;32m    140\u001B[0m \u001B[38;5;28mself\u001B[39m\u001B[38;5;241m.\u001B[39mwaveform \u001B[38;5;241m=\u001B[39m waveform\n\u001B[1;32m--> 141\u001B[0m \u001B[38;5;28mself\u001B[39m\u001B[38;5;241m.\u001B[39mwave_type_indices \u001B[38;5;241m=\u001B[39m {k: \u001B[43mtorch\u001B[49m\u001B[38;5;241;43m.\u001B[39;49m\u001B[43mtensor\u001B[49m\u001B[43m(\u001B[49m\u001B[43mv\u001B[49m\u001B[43m,\u001B[49m\u001B[43m \u001B[49m\u001B[43mdtype\u001B[49m\u001B[38;5;241;43m=\u001B[39;49m\u001B[43mtorch\u001B[49m\u001B[38;5;241;43m.\u001B[39;49m\u001B[43mlong\u001B[49m\u001B[43m,\u001B[49m\u001B[43m \u001B[49m\u001B[43mdevice\u001B[49m\u001B[38;5;241;43m=\u001B[39;49m\u001B[38;5;28;43mself\u001B[39;49m\u001B[38;5;241;43m.\u001B[39;49m\u001B[43mdevice\u001B[49m\u001B[43m)\u001B[49m\u001B[38;5;241m.\u001B[39msqueeze()\n\u001B[0;32m    142\u001B[0m                           \u001B[38;5;28;01mfor\u001B[39;00m k, v \u001B[38;5;129;01min\u001B[39;00m \u001B[38;5;28mself\u001B[39m\u001B[38;5;241m.\u001B[39msynth_structure\u001B[38;5;241m.\u001B[39mwave_type_dict\u001B[38;5;241m.\u001B[39mitems()}\n\u001B[0;32m    143\u001B[0m \u001B[38;5;28mself\u001B[39m\u001B[38;5;241m.\u001B[39mwarning_sent \u001B[38;5;241m=\u001B[39m \u001B[38;5;28;01mFalse\u001B[39;00m\n",
      "File \u001B[1;32m~\\PycharmProjects\\diffmoog\\venv\\lib\\site-packages\\torch\\cuda\\__init__.py:239\u001B[0m, in \u001B[0;36m_lazy_init\u001B[1;34m()\u001B[0m\n\u001B[0;32m    235\u001B[0m     \u001B[38;5;28;01mraise\u001B[39;00m \u001B[38;5;167;01mRuntimeError\u001B[39;00m(\n\u001B[0;32m    236\u001B[0m         \u001B[38;5;124m\"\u001B[39m\u001B[38;5;124mCannot re-initialize CUDA in forked subprocess. To use CUDA with \u001B[39m\u001B[38;5;124m\"\u001B[39m\n\u001B[0;32m    237\u001B[0m         \u001B[38;5;124m\"\u001B[39m\u001B[38;5;124mmultiprocessing, you must use the \u001B[39m\u001B[38;5;124m'\u001B[39m\u001B[38;5;124mspawn\u001B[39m\u001B[38;5;124m'\u001B[39m\u001B[38;5;124m start method\u001B[39m\u001B[38;5;124m\"\u001B[39m)\n\u001B[0;32m    238\u001B[0m \u001B[38;5;28;01mif\u001B[39;00m \u001B[38;5;129;01mnot\u001B[39;00m \u001B[38;5;28mhasattr\u001B[39m(torch\u001B[38;5;241m.\u001B[39m_C, \u001B[38;5;124m'\u001B[39m\u001B[38;5;124m_cuda_getDeviceCount\u001B[39m\u001B[38;5;124m'\u001B[39m):\n\u001B[1;32m--> 239\u001B[0m     \u001B[38;5;28;01mraise\u001B[39;00m \u001B[38;5;167;01mAssertionError\u001B[39;00m(\u001B[38;5;124m\"\u001B[39m\u001B[38;5;124mTorch not compiled with CUDA enabled\u001B[39m\u001B[38;5;124m\"\u001B[39m)\n\u001B[0;32m    240\u001B[0m \u001B[38;5;28;01mif\u001B[39;00m _cudart \u001B[38;5;129;01mis\u001B[39;00m \u001B[38;5;28;01mNone\u001B[39;00m:\n\u001B[0;32m    241\u001B[0m     \u001B[38;5;28;01mraise\u001B[39;00m \u001B[38;5;167;01mAssertionError\u001B[39;00m(\n\u001B[0;32m    242\u001B[0m         \u001B[38;5;124m\"\u001B[39m\u001B[38;5;124mlibcudart functions unavailable. It looks like you have a broken build?\u001B[39m\u001B[38;5;124m\"\u001B[39m)\n",
      "\u001B[1;31mAssertionError\u001B[0m: Torch not compiled with CUDA enabled"
     ]
    }
   ],
   "source": [
    "import torchaudio\n",
    "\n",
    "from src.synth.synth_architecture import SynthModular\n",
    "\n",
    "from src.synth.synth_constants import SynthConstants\n",
    "synth_structure = SynthConstants()\n",
    "\n",
    "spectrogram_op = torchaudio.transforms.Spectrogram(n_fft=256)\n",
    "db_op = torchaudio.transforms.AmplitudeToDB()\n",
    "\n",
    "device = 'cuda:0'\n",
    "synth_chain = 'BASIC_FLOW'   # Define your own here\n",
    "\n",
    "synth = SynthModular(chain_name=synth_chain, synth_constants=synth_structure, device=device)"
   ]
  },
  {
   "cell_type": "markdown",
   "metadata": {
    "pycharm": {
     "name": "#%% md\n"
    }
   },
   "source": [
    "## Choose Parameters\n",
    "\n",
    "Next we need to choose the parameters for each module. We have designed a simple UI to allow you to do it here:"
   ]
  },
  {
   "cell_type": "code",
   "execution_count": 10,
   "metadata": {
    "pycharm": {
     "name": "#%%\n"
    },
    "ExecuteTime": {
     "end_time": "2023-09-06T14:53:58.278346800Z",
     "start_time": "2023-09-06T14:53:58.238346600Z"
    }
   },
   "outputs": [
    {
     "ename": "TypeError",
     "evalue": "string indices must be integers",
     "output_type": "error",
     "traceback": [
      "\u001B[1;31m---------------------------------------------------------------------------\u001B[0m",
      "\u001B[1;31mTypeError\u001B[0m                                 Traceback (most recent call last)",
      "Cell \u001B[1;32mIn[10], line 4\u001B[0m\n\u001B[0;32m      1\u001B[0m \u001B[38;5;28;01mfrom\u001B[39;00m \u001B[38;5;21;01mIPython\u001B[39;00m\u001B[38;5;21;01m.\u001B[39;00m\u001B[38;5;21;01mdisplay\u001B[39;00m \u001B[38;5;28;01mimport\u001B[39;00m display, Audio\n\u001B[0;32m      2\u001B[0m \u001B[38;5;28;01mfrom\u001B[39;00m \u001B[38;5;21;01mutils\u001B[39;00m\u001B[38;5;21;01m.\u001B[39;00m\u001B[38;5;21;01mnotebook_utils\u001B[39;00m \u001B[38;5;28;01mimport\u001B[39;00m \u001B[38;5;241m*\u001B[39m\n\u001B[1;32m----> 4\u001B[0m full_layout, output, button, output_window \u001B[38;5;241m=\u001B[39m \u001B[43mcreate_synth_params_layout\u001B[49m\u001B[43m(\u001B[49m\u001B[43msynth_chain\u001B[49m\u001B[43m)\u001B[49m\n\u001B[0;32m      7\u001B[0m \u001B[38;5;28;01mdef\u001B[39;00m \u001B[38;5;21mcollect_params\u001B[39m(\u001B[38;5;241m*\u001B[39m\u001B[38;5;241m*\u001B[39md):\n\u001B[0;32m      8\u001B[0m     parsed_synth_params \u001B[38;5;241m=\u001B[39m convert_flat_nb_dict_to_synth(d)\n",
      "File \u001B[1;32m~\\PycharmProjects\\diffmoog\\examples\\../src\\utils\\notebook_utils.py:19\u001B[0m, in \u001B[0;36mcreate_synth_params_layout\u001B[1;34m(synth_preset)\u001B[0m\n\u001B[0;32m     16\u001B[0m output \u001B[38;5;241m=\u001B[39m {}\n\u001B[0;32m     17\u001B[0m \u001B[38;5;28;01mfor\u001B[39;00m cell \u001B[38;5;129;01min\u001B[39;00m synth_preset:\n\u001B[1;32m---> 19\u001B[0m     index \u001B[38;5;241m=\u001B[39m \u001B[43mcell\u001B[49m\u001B[43m[\u001B[49m\u001B[38;5;124;43m'\u001B[39;49m\u001B[38;5;124;43mindex\u001B[39;49m\u001B[38;5;124;43m'\u001B[39;49m\u001B[43m]\u001B[49m\n\u001B[0;32m     20\u001B[0m     operation \u001B[38;5;241m=\u001B[39m cell[\u001B[38;5;124m'\u001B[39m\u001B[38;5;124moperation\u001B[39m\u001B[38;5;124m'\u001B[39m]\n\u001B[0;32m     22\u001B[0m     cell_params \u001B[38;5;241m=\u001B[39m synth_structure\u001B[38;5;241m.\u001B[39mmodular_synth_params[operation]\n",
      "\u001B[1;31mTypeError\u001B[0m: string indices must be integers"
     ]
    }
   ],
   "source": [
    "from IPython.display import display, Audio\n",
    "from utils.notebook_utils import *\n",
    "\n",
    "full_layout, output, button, output_window = create_synth_params_layout(synth_chain)\n",
    "\n",
    "\n",
    "def collect_params(**d):\n",
    "    parsed_synth_params = convert_flat_nb_dict_to_synth(d)\n",
    "    synth.update_cells_from_dict(parsed_synth_params)\n",
    "    \n",
    "\n",
    "def generate_sound(b):\n",
    "    synth.generate_signal(2.0)\n",
    "    signal = synth.get_final_signal().cpu().detach()\n",
    "    \n",
    "    spec = db_op(spectrogram_op(signal)).numpy().squeeze()\n",
    "\n",
    "    output_window.clear_output()\n",
    "    with output_window:\n",
    "        audio = Audio(signal.numpy().squeeze(), rate=16000, autoplay=False)\n",
    "        display(audio)\n",
    "\n",
    "        fig, ax = plt.subplots(1, 1, figsize=(12, 3))\n",
    "        ax.plot(signal.numpy().squeeze())\n",
    "\n",
    "        fig2, ax2 = plt.subplots(1, 1, figsize=(10, 3))\n",
    "        ax2.imshow(spec, origin='lower')\n",
    "        plt.show()\n",
    "\n",
    "\n",
    "out = widgets.interactive_output(collect_params, output)\n",
    "button.on_click(generate_sound)\n",
    "display(full_layout, out)"
   ]
  }
 ],
 "metadata": {
  "kernelspec": {
   "display_name": "Python 3 (ipykernel)",
   "language": "python",
   "name": "python3"
  },
  "language_info": {
   "codemirror_mode": {
    "name": "ipython",
    "version": 3
   },
   "file_extension": ".py",
   "mimetype": "text/x-python",
   "name": "python",
   "nbconvert_exporter": "python",
   "pygments_lexer": "ipython3",
   "version": "3.8.10"
  }
 },
 "nbformat": 4,
 "nbformat_minor": 1
}
