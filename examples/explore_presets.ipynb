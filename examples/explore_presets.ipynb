{
 "cells": [
  {
   "cell_type": "code",
   "execution_count": 1,
   "metadata": {
    "pycharm": {
     "name": "#%%\n"
    }
   },
   "outputs": [],
   "source": [
    "import sys\n",
    "import os\n",
    "\n",
    "import numpy as np\n",
    "import pandas as pd\n",
    "import matplotlib.pyplot as plt\n",
    "\n",
    "import seaborn as sns\n",
    "sns.set_style('whitegrid')\n",
    "\n",
    "sys.path.append('../src/')"
   ]
  },
  {
   "cell_type": "markdown",
   "metadata": {
    "pycharm": {
     "name": "#%% md\n"
    }
   },
   "source": [
    "# DiffMoog Structure\n",
    "\n",
    "DiffMoog is a customizable, modular synthesizer, with a virtually limitless number of possible structures. It is designed as 3-channels, 7-layers matrix, each cell containing a specific module or operation (i.e. oscillator, FM, filter, ADSR etc.). The sound flows through these modules in a directional manner, each cell getting audio / control input from earlier cells in the graph:\n",
    "\n",
    "<br>\n",
    "<img alt=\"Concept%20Map-2.jpg\" height=\"500\" src=\"assets/Concept Map.jpg\" width=\"1300\"/>"
   ]
  },
  {
   "cell_type": "markdown",
   "metadata": {
    "pycharm": {
     "name": "#%% md\n"
    }
   },
   "source": [
    "## Defining a Preset\n",
    "\n",
    "Our way of controlling the synthesizer structure is through the presets mechanism. A preset is a list of Python dictionaries, each one defining a cell in the synth matrix. In this cell definition we specify which module is used in the cell, as well as the cell inputs and outputs. Let's look at a very basic, 1-channel preset:"
   ]
  },
  {
   "cell_type": "code",
   "execution_count": 2,
   "metadata": {
    "pycharm": {
     "name": "#%%\n"
    }
   },
   "outputs": [],
   "source": [
    "OSC_ADSR = [\n",
    "    {'index': (0, 0), 'operation': 'osc', 'default_connection': True},     # Our first cell is a simple oscillator\n",
    "    {'index': (0, 1), 'operation': 'env_adsr', 'default_connection': True},   # audio signal from the oscillator goes into an ADSR module\n",
    "]"
   ]
  },
  {
   "cell_type": "markdown",
   "metadata": {
    "pycharm": {
     "name": "#%% md\n"
    }
   },
   "source": [
    "For convenience, we defined a *default_connection* parameter which simply means that the cell takes audio input from the cell immediately before it, and outputs to the cell immediately after it.\n",
    "\n",
    "Let's look at a more complex, multichannel preset, that also contains control signals:"
   ]
  },
  {
   "cell_type": "code",
   "execution_count": 3,
   "metadata": {
    "pycharm": {
     "name": "#%%\n"
    }
   },
   "outputs": [],
   "source": [
    "BASIC_FLOW = [\n",
    "    {'index': (0, 0), 'operation': 'lfo'},          # An LFO, that generates control signal for an FM oscillator\n",
    "    {'index': (0, 1), 'operation': 'fm_sine', 'control_input': [(0, 0)], 'outputs': [(0, 2)]},    # The FM oscillator gets a control signal from the LFO\n",
    "    {'index': (1, 0), 'operation': 'lfo'},\n",
    "    {'index': (1, 1), 'operation': 'fm_square', 'control_input': [(1, 0)], 'outputs': [(0, 2)]},\n",
    "    {'index': (2, 0), 'operation': 'lfo'},\n",
    "    {'index': (2, 1), 'operation': 'fm_saw', 'control_input': [(2, 0)], 'outputs': [(0, 2)]},\n",
    "    {'index': (0, 2), 'operation': 'mix', 'audio_input': [(0, 1), (1, 1), (2, 1)], 'outputs': [(0, 3)]},  # Signals from the 3 channels are mixed and passed on\n",
    "    {'index': (0, 3), 'operation': 'env_adsr', 'default_connection': True},\n",
    "    {'index': (0, 4), 'operation': 'lowpass_filter', 'default_connection': True}\n",
    "]"
   ]
  },
  {
   "cell_type": "markdown",
   "metadata": {
    "pycharm": {
     "name": "#%% md\n"
    }
   },
   "source": [
    "Another capability of DiffMoog is **online modularity** - we can define multiple outputs for a cell, and switch between them randomly during sound generation. For example in this preset:"
   ]
  },
  {
   "cell_type": "code",
   "execution_count": 4,
   "metadata": {
    "pycharm": {
     "name": "#%%\n"
    }
   },
   "outputs": [],
   "source": [
    "MODULAR = [\n",
    "    {'index': (0, 0), 'operation': 'lfo_sine', 'outputs': [(0, 6), (1, 1)], 'switch_outputs': True},   # This LFO generates control signal that can go into an FM module or into the tremolo module at the end\n",
    "    {'index': (1, 1), 'operation': 'fm', 'control_input': [(0, 0)], 'outputs': [(0, 2), (1, 2), (2, 2)],\n",
    "     'switch_outputs': True, 'allow_multiple': False, 'active_prob': 0.75},\n",
    "    {'index': (0, 2), 'operation': 'fm_sine', 'control_input': [(1, 1)], 'outputs': [(0, 3)]},\n",
    "    {'index': (1, 2), 'operation': 'fm_saw', 'control_input': [(1, 1)], 'outputs': [(0, 3)]},\n",
    "    {'index': (2, 2), 'operation': 'fm_square', 'control_input': [(1, 1)], 'outputs': [(0, 3)]},\n",
    "    {'index': (0, 3), 'operation': 'mix', 'audio_input': [(0, 2), (1, 2), (2, 2)], 'default_connection': True},\n",
    "    {'index': (0, 4), 'operation': 'env_adsr', 'default_connection': True},\n",
    "    {'index': (0, 5), 'operation': 'lowpass_filter', 'default_connection': True},\n",
    "    {'index': (0, 6), 'operation': 'tremolo', 'control_input': [(0, 0)], 'default_connection': True}\n",
    "]"
   ]
  },
  {
   "cell_type": "markdown",
   "metadata": {
    "pycharm": {
     "name": "#%% md\n"
    }
   },
   "source": [
    "To see which other operations (modules) available, check out *src/synth/synth_modules.py*\n",
    "To see other suggested presets see *src/synth/synth_presets.py*"
   ]
  },
  {
   "cell_type": "markdown",
   "metadata": {
    "pycharm": {
     "name": "#%% md\n"
    }
   },
   "source": [
    "# Create Sounds using DiffMoog\n",
    "\n",
    "Once we have defined the structure of our synthesizer, we are ready to start generating sounds. Our code is designed to be used in large batches - i.e. to automatically sample random parameter combinations and generate sounds using our defined synth. Take a look at the notebook *create_dataset.py* for more about that.\n",
    "\n",
    "To help better understand different presets and their behaviour, we provide an exploration tool that enables to generate and visualize specific sounds from a specific preset:"
   ]
  },
  {
   "cell_type": "markdown",
   "metadata": {
    "pycharm": {
     "name": "#%% md\n"
    }
   },
   "source": [
    "## Define a Preset\n",
    "\n",
    "First, define a preset for the synthesizer structure you want to use. You can use one of the existing ones, or define your own."
   ]
  },
  {
   "cell_type": "code",
   "execution_count": 5,
   "metadata": {
    "pycharm": {
     "name": "#%%\n"
    }
   },
   "outputs": [],
   "source": [
    "import torchaudio\n",
    "\n",
    "from synth.synth_architecture import SynthModular\n",
    "\n",
    "from synth.synth_constants import SynthConstants\n",
    "synth_structure = SynthConstants()\n",
    "\n",
    "spectrogram_op = torchaudio.transforms.Spectrogram(n_fft=256)\n",
    "db_op = torchaudio.transforms.AmplitudeToDB()\n",
    "\n",
    "device = 'cuda:0'\n",
    "synth_preset = BASIC_FLOW   # Define your own here\n",
    "\n",
    "synth = SynthModular(preset=synth_preset, synth_constants=synth_structure, device=device)"
   ]
  },
  {
   "cell_type": "markdown",
   "metadata": {
    "pycharm": {
     "name": "#%% md\n"
    }
   },
   "source": [
    "## Choose Parameters\n",
    "\n",
    "Next we need to choose the parameters for each module. We have designed a simple UI to allow you to do it here:"
   ]
  },
  {
   "cell_type": "code",
   "execution_count": 6,
   "metadata": {
    "pycharm": {
     "name": "#%%\n"
    }
   },
   "outputs": [
    {
     "data": {
      "application/vnd.jupyter.widget-view+json": {
       "model_id": "790e40c8b4e14b3ea880a75026ba64d1",
       "version_major": 2,
       "version_minor": 0
      },
      "text/plain": [
       "VBox(children=(Label(value='(0, 0) Lfo'), HBox(children=(FloatSlider(value=7.75, description='freq', max=15.0,…"
      ]
     },
     "metadata": {},
     "output_type": "display_data"
    },
    {
     "data": {
      "application/vnd.jupyter.widget-view+json": {
       "model_id": "52349fe97af5430ea4d0507c97b6fddd",
       "version_major": 2,
       "version_minor": 0
      },
      "text/plain": [
       "Output()"
      ]
     },
     "metadata": {},
     "output_type": "display_data"
    },
    {
     "name": "stdout",
     "output_type": "stream",
     "text": [
      "Missing amp param in Oscillator module lfo. Assuming fixed amp. Please check Synth structure if this is unexpected.\n",
      "Missing amp param in Oscillator module lfo. Assuming fixed amp. Please check Synth structure if this is unexpected.\n",
      "Missing amp param in Oscillator module lfo. Assuming fixed amp. Please check Synth structure if this is unexpected.\n"
     ]
    }
   ],
   "source": [
    "from IPython.display import display, Audio\n",
    "from utils.notebook_utils import *\n",
    "\n",
    "full_layout, output, button, output_window = create_synth_params_layout(synth_preset)\n",
    "\n",
    "\n",
    "def collect_params(**d):\n",
    "    parsed_synth_params = convert_flat_nb_dict_to_synth(d)\n",
    "    synth.update_cells_from_dict(parsed_synth_params)\n",
    "    \n",
    "\n",
    "def generate_sound(b):\n",
    "    synth.generate_signal(2.0)\n",
    "    signal = synth.get_final_signal().cpu().detach()\n",
    "    \n",
    "    spec = db_op(spectrogram_op(signal)).numpy().squeeze()\n",
    "\n",
    "    output_window.clear_output()\n",
    "    with output_window:\n",
    "        audio = Audio(signal.numpy().squeeze(), rate=16000, autoplay=False)\n",
    "        display(audio)\n",
    "\n",
    "        fig, ax = plt.subplots(1, 1, figsize=(12, 3))\n",
    "        ax.plot(signal.numpy().squeeze())\n",
    "\n",
    "        fig2, ax2 = plt.subplots(1, 1, figsize=(10, 3))\n",
    "        ax2.imshow(spec, origin='lower')\n",
    "        plt.show()\n",
    "\n",
    "\n",
    "out = widgets.interactive_output(collect_params, output)\n",
    "button.on_click(generate_sound)\n",
    "display(full_layout, out)"
   ]
  }
 ],
 "metadata": {
  "kernelspec": {
   "display_name": "Python 3 (ipykernel)",
   "language": "python",
   "name": "python3"
  },
  "language_info": {
   "codemirror_mode": {
    "name": "ipython",
    "version": 3
   },
   "file_extension": ".py",
   "mimetype": "text/x-python",
   "name": "python",
   "nbconvert_exporter": "python",
   "pygments_lexer": "ipython3",
   "version": "3.8.10"
  }
 },
 "nbformat": 4,
 "nbformat_minor": 1
}