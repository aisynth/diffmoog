{
 "cells": [
  {
   "cell_type": "code",
   "execution_count": 10,
   "metadata": {
    "ExecuteTime": {
     "end_time": "2023-09-06T15:18:46.139521900Z",
     "start_time": "2023-09-06T15:18:46.127522300Z"
    }
   },
   "outputs": [],
   "source": [
    "import os\n",
    "import sys\n",
    "\n",
    "import copy\n",
    "import numpy as np\n",
    "import torch\n",
    "\n",
    "from pathlib import Path\n",
    "from tqdm import tqdm\n",
    "\n",
    "import matplotlib.pyplot as plt\n",
    "%matplotlib notebook\n",
    "\n",
    "import seaborn as sns\n",
    "sns.set_style('whitegrid')\n",
    "\n",
    "notebook_path = Path('.').resolve()\n",
    "dir_list = notebook_path.parts\n",
    "root_index = dir_list.index('diffmoog')\n",
    "abs_path = Path(*dir_list[:root_index+1])\n",
    "\n",
    "project_root = abs_path\n",
    "sys.path.append(str(project_root.joinpath('src')))\n",
    "\n",
    "from model.model import DecoderNetwork\n",
    "from synth.parameters_normalizer import Normalizer\n",
    "from model.loss import spectral_loss\n",
    "from synth.synth_architecture import SynthModular\n",
    "from synth.synth_constants import synth_constants\n",
    "from utils.train_utils import to_torch_recursive\n",
    "from utils.visualization_utils import calc_loss_vs_param_range\n"
   ]
  },
  {
   "cell_type": "code",
   "execution_count": 11,
   "metadata": {
    "ExecuteTime": {
     "end_time": "2023-09-06T15:18:51.803012200Z",
     "start_time": "2023-09-06T15:18:51.737011200Z"
    }
   },
   "outputs": [
    {
     "ename": "AssertionError",
     "evalue": "Torch not compiled with CUDA enabled",
     "output_type": "error",
     "traceback": [
      "\u001B[1;31m---------------------------------------------------------------------------\u001B[0m",
      "\u001B[1;31mAssertionError\u001B[0m                            Traceback (most recent call last)",
      "Cell \u001B[1;32mIn[11], line 9\u001B[0m\n\u001B[0;32m      5\u001B[0m signal_duration \u001B[38;5;241m=\u001B[39m \u001B[38;5;241m1.0\u001B[39m\n\u001B[0;32m      6\u001B[0m note_off_time \u001B[38;5;241m=\u001B[39m \u001B[38;5;241m0.75\u001B[39m\n\u001B[1;32m----> 9\u001B[0m synth \u001B[38;5;241m=\u001B[39m \u001B[43mSynthModular\u001B[49m\u001B[43m(\u001B[49m\u001B[43mchain_name\u001B[49m\u001B[38;5;241;43m=\u001B[39;49m\u001B[43mchain\u001B[49m\u001B[43m,\u001B[49m\n\u001B[0;32m     10\u001B[0m \u001B[43m                     \u001B[49m\u001B[43msynth_constants\u001B[49m\u001B[38;5;241;43m=\u001B[39;49m\u001B[43msynth_constants\u001B[49m\u001B[43m,\u001B[49m\n\u001B[0;32m     11\u001B[0m \u001B[43m                     \u001B[49m\u001B[43mdevice\u001B[49m\u001B[38;5;241;43m=\u001B[39;49m\u001B[43mdevice\u001B[49m\u001B[43m)\u001B[49m\n\u001B[0;32m     13\u001B[0m decoder_net \u001B[38;5;241m=\u001B[39m DecoderNetwork(preset\u001B[38;5;241m=\u001B[39mchain, device\u001B[38;5;241m=\u001B[39mdevice)\n\u001B[0;32m     14\u001B[0m normalizer \u001B[38;5;241m=\u001B[39m Normalizer(note_off_time, signal_duration, synth_constants)\n",
      "File \u001B[1;32m~\\PycharmProjects\\diffmoog\\src\\synth\\synth_architecture.py:119\u001B[0m, in \u001B[0;36mSynthModular.__init__\u001B[1;34m(self, chain_name, synth_constants, device)\u001B[0m\n\u001B[0;32m    117\u001B[0m \u001B[38;5;28mself\u001B[39m\u001B[38;5;241m.\u001B[39mn_layers \u001B[38;5;241m=\u001B[39m n_layers\n\u001B[0;32m    118\u001B[0m \u001B[38;5;28mself\u001B[39m\u001B[38;5;241m.\u001B[39msynth_matrix \u001B[38;5;241m=\u001B[39m \u001B[38;5;28;01mNone\u001B[39;00m\n\u001B[1;32m--> 119\u001B[0m \u001B[38;5;28;43mself\u001B[39;49m\u001B[38;5;241;43m.\u001B[39;49m\u001B[43mapply_architecture\u001B[49m\u001B[43m(\u001B[49m\u001B[43mchain\u001B[49m\u001B[43m,\u001B[49m\u001B[43m \u001B[49m\u001B[43mn_channels\u001B[49m\u001B[43m,\u001B[49m\u001B[43m \u001B[49m\u001B[43mn_layers\u001B[49m\u001B[43m)\u001B[49m\n",
      "File \u001B[1;32m~\\PycharmProjects\\diffmoog\\src\\synth\\synth_architecture.py:129\u001B[0m, in \u001B[0;36mSynthModular.apply_architecture\u001B[1;34m(self, chain, n_channels, n_layers)\u001B[0m\n\u001B[0;32m    127\u001B[0m \u001B[38;5;28;01mfor\u001B[39;00m layer_idx \u001B[38;5;129;01min\u001B[39;00m \u001B[38;5;28mrange\u001B[39m(n_layers):\n\u001B[0;32m    128\u001B[0m     cell \u001B[38;5;241m=\u001B[39m chain\u001B[38;5;241m.\u001B[39mget((channel_idx, layer_idx), {\u001B[38;5;124m'\u001B[39m\u001B[38;5;124mindex\u001B[39m\u001B[38;5;124m'\u001B[39m: (channel_idx, layer_idx)})\n\u001B[1;32m--> 129\u001B[0m     \u001B[38;5;28mself\u001B[39m\u001B[38;5;241m.\u001B[39msynth_matrix[channel_idx][layer_idx] \u001B[38;5;241m=\u001B[39m SynthModularCell(\u001B[38;5;241m*\u001B[39m\u001B[38;5;241m*\u001B[39mcell, device\u001B[38;5;241m=\u001B[39m\u001B[38;5;28mself\u001B[39m\u001B[38;5;241m.\u001B[39mdevice,\n\u001B[0;32m    130\u001B[0m                                                                  synth_constants\u001B[38;5;241m=\u001B[39m\u001B[38;5;28mself\u001B[39m\u001B[38;5;241m.\u001B[39msynth_constants)\n",
      "File \u001B[1;32m~\\PycharmProjects\\diffmoog\\src\\synth\\synth_architecture.py:33\u001B[0m, in \u001B[0;36mSynthModularCell.__init__\u001B[1;34m(self, index, audio_input, control_input, operation, parameters, signal, outputs, switch_outputs, allow_multiple, active_prob, default_connection, synth_constants, device)\u001B[0m\n\u001B[0;32m     29\u001B[0m \u001B[38;5;28mself\u001B[39m\u001B[38;5;241m.\u001B[39mcheck_inputs(index, audio_input, outputs, switch_outputs, operation, parameters, synth_constants)\n\u001B[0;32m     31\u001B[0m \u001B[38;5;28mself\u001B[39m\u001B[38;5;241m.\u001B[39mindex \u001B[38;5;241m=\u001B[39m index\n\u001B[1;32m---> 33\u001B[0m \u001B[38;5;28mself\u001B[39m\u001B[38;5;241m.\u001B[39mmodule \u001B[38;5;241m=\u001B[39m \u001B[43mget_synth_module\u001B[49m\u001B[43m(\u001B[49m\u001B[43moperation\u001B[49m\u001B[43m,\u001B[49m\u001B[43m \u001B[49m\u001B[43mdevice\u001B[49m\u001B[43m,\u001B[49m\u001B[43m \u001B[49m\u001B[43msynth_constants\u001B[49m\u001B[43m)\u001B[49m\n\u001B[0;32m     35\u001B[0m \u001B[38;5;28;01mif\u001B[39;00m default_connection:\n\u001B[0;32m     36\u001B[0m     \u001B[38;5;28mself\u001B[39m\u001B[38;5;241m.\u001B[39maudio_input \u001B[38;5;241m=\u001B[39m \u001B[38;5;28;01mNone\u001B[39;00m\n",
      "File \u001B[1;32m~\\PycharmProjects\\diffmoog\\src\\synth\\synth_modules.py:1025\u001B[0m, in \u001B[0;36mget_synth_module\u001B[1;34m(op_name, device, synth_structure)\u001B[0m\n\u001B[0;32m   1023\u001B[0m \u001B[38;5;28;01melif\u001B[39;00m op_name \u001B[38;5;129;01min\u001B[39;00m [\u001B[38;5;124m'\u001B[39m\u001B[38;5;124mfm_sine\u001B[39m\u001B[38;5;124m'\u001B[39m, \u001B[38;5;124m'\u001B[39m\u001B[38;5;124mfm_square\u001B[39m\u001B[38;5;124m'\u001B[39m, \u001B[38;5;124m'\u001B[39m\u001B[38;5;124mfm_saw\u001B[39m\u001B[38;5;124m'\u001B[39m]:\n\u001B[0;32m   1024\u001B[0m     waveform \u001B[38;5;241m=\u001B[39m op_name\u001B[38;5;241m.\u001B[39msplit(\u001B[38;5;124m'\u001B[39m\u001B[38;5;124m_\u001B[39m\u001B[38;5;124m'\u001B[39m)[\u001B[38;5;241m1\u001B[39m]\n\u001B[1;32m-> 1025\u001B[0m     \u001B[38;5;28;01mreturn\u001B[39;00m \u001B[43mFMOscillator\u001B[49m\u001B[43m(\u001B[49m\u001B[43mop_name\u001B[49m\u001B[43m,\u001B[49m\u001B[43m \u001B[49m\u001B[43mdevice\u001B[49m\u001B[43m,\u001B[49m\u001B[43m \u001B[49m\u001B[43msynth_structure\u001B[49m\u001B[43m,\u001B[49m\u001B[43m \u001B[49m\u001B[43mwaveform\u001B[49m\u001B[43m)\u001B[49m\n\u001B[0;32m   1026\u001B[0m \u001B[38;5;28;01melif\u001B[39;00m op_name \u001B[38;5;129;01min\u001B[39;00m [\u001B[38;5;124m'\u001B[39m\u001B[38;5;124mosc_sine\u001B[39m\u001B[38;5;124m'\u001B[39m, \u001B[38;5;124m'\u001B[39m\u001B[38;5;124mosc_square\u001B[39m\u001B[38;5;124m'\u001B[39m, \u001B[38;5;124m'\u001B[39m\u001B[38;5;124mosc_saw\u001B[39m\u001B[38;5;124m'\u001B[39m,\n\u001B[0;32m   1027\u001B[0m                  \u001B[38;5;124m'\u001B[39m\u001B[38;5;124mosc_sine_no_activeness\u001B[39m\u001B[38;5;124m'\u001B[39m, \u001B[38;5;124m'\u001B[39m\u001B[38;5;124mosc_square_no_activeness\u001B[39m\u001B[38;5;124m'\u001B[39m, \u001B[38;5;124m'\u001B[39m\u001B[38;5;124mosc_saw_no_activeness\u001B[39m\u001B[38;5;124m'\u001B[39m,\n\u001B[0;32m   1028\u001B[0m                  \u001B[38;5;124m'\u001B[39m\u001B[38;5;124mosc_sine_no_activeness_cont_freq\u001B[39m\u001B[38;5;124m'\u001B[39m,\n\u001B[0;32m   1029\u001B[0m                  \u001B[38;5;124m'\u001B[39m\u001B[38;5;124mosc_square_no_activeness_cont_freq\u001B[39m\u001B[38;5;124m'\u001B[39m,\n\u001B[0;32m   1030\u001B[0m                  \u001B[38;5;124m'\u001B[39m\u001B[38;5;124mosc_saw_no_activeness_cont_freq\u001B[39m\u001B[38;5;124m'\u001B[39m]:\n\u001B[0;32m   1031\u001B[0m     waveform \u001B[38;5;241m=\u001B[39m op_name\u001B[38;5;241m.\u001B[39msplit(\u001B[38;5;124m'\u001B[39m\u001B[38;5;124m_\u001B[39m\u001B[38;5;124m'\u001B[39m)[\u001B[38;5;241m1\u001B[39m]\n",
      "File \u001B[1;32m~\\PycharmProjects\\diffmoog\\src\\synth\\synth_modules.py:375\u001B[0m, in \u001B[0;36mFMOscillator.__init__\u001B[1;34m(self, name, device, synth_structure, waveform)\u001B[0m\n\u001B[0;32m    372\u001B[0m \u001B[38;5;28;01mif\u001B[39;00m waveform \u001B[38;5;129;01mis\u001B[39;00m \u001B[38;5;129;01mnot\u001B[39;00m \u001B[38;5;28;01mNone\u001B[39;00m:\n\u001B[0;32m    373\u001B[0m     \u001B[38;5;28;01massert\u001B[39;00m waveform \u001B[38;5;129;01min\u001B[39;00m [\u001B[38;5;124m'\u001B[39m\u001B[38;5;124msine\u001B[39m\u001B[38;5;124m'\u001B[39m, \u001B[38;5;124m'\u001B[39m\u001B[38;5;124msquare\u001B[39m\u001B[38;5;124m'\u001B[39m, \u001B[38;5;124m'\u001B[39m\u001B[38;5;124msaw\u001B[39m\u001B[38;5;124m'\u001B[39m], \u001B[38;5;124mf\u001B[39m\u001B[38;5;124m'\u001B[39m\u001B[38;5;124mUnexpected waveform \u001B[39m\u001B[38;5;132;01m{\u001B[39;00mwaveform\u001B[38;5;132;01m}\u001B[39;00m\u001B[38;5;124m given to FMOscillator\u001B[39m\u001B[38;5;124m'\u001B[39m\n\u001B[1;32m--> 375\u001B[0m \u001B[38;5;28;43msuper\u001B[39;49m\u001B[43m(\u001B[49m\u001B[43m)\u001B[49m\u001B[38;5;241;43m.\u001B[39;49m\u001B[38;5;21;43m__init__\u001B[39;49m\u001B[43m(\u001B[49m\u001B[43mname\u001B[49m\u001B[38;5;241;43m=\u001B[39;49m\u001B[43mname\u001B[49m\u001B[43m,\u001B[49m\u001B[43m \u001B[49m\u001B[43mdevice\u001B[49m\u001B[38;5;241;43m=\u001B[39;49m\u001B[43mdevice\u001B[49m\u001B[43m,\u001B[49m\u001B[43m \u001B[49m\u001B[43msynth_structure\u001B[49m\u001B[38;5;241;43m=\u001B[39;49m\u001B[43msynth_structure\u001B[49m\u001B[43m)\u001B[49m\n\u001B[0;32m    377\u001B[0m \u001B[38;5;28mself\u001B[39m\u001B[38;5;241m.\u001B[39mwaveform \u001B[38;5;241m=\u001B[39m waveform\n",
      "File \u001B[1;32m~\\PycharmProjects\\diffmoog\\src\\synth\\synth_modules.py:141\u001B[0m, in \u001B[0;36mOscillator.__init__\u001B[1;34m(self, name, device, synth_structure, waveform)\u001B[0m\n\u001B[0;32m    138\u001B[0m \u001B[38;5;28msuper\u001B[39m()\u001B[38;5;241m.\u001B[39m\u001B[38;5;21m__init__\u001B[39m(name\u001B[38;5;241m=\u001B[39mname, device\u001B[38;5;241m=\u001B[39mdevice, synth_structure\u001B[38;5;241m=\u001B[39msynth_structure)\n\u001B[0;32m    140\u001B[0m \u001B[38;5;28mself\u001B[39m\u001B[38;5;241m.\u001B[39mwaveform \u001B[38;5;241m=\u001B[39m waveform\n\u001B[1;32m--> 141\u001B[0m \u001B[38;5;28mself\u001B[39m\u001B[38;5;241m.\u001B[39mwave_type_indices \u001B[38;5;241m=\u001B[39m {k: torch\u001B[38;5;241m.\u001B[39mtensor(v, dtype\u001B[38;5;241m=\u001B[39mtorch\u001B[38;5;241m.\u001B[39mlong, device\u001B[38;5;241m=\u001B[39m\u001B[38;5;28mself\u001B[39m\u001B[38;5;241m.\u001B[39mdevice)\u001B[38;5;241m.\u001B[39msqueeze()\n\u001B[0;32m    142\u001B[0m                           \u001B[38;5;28;01mfor\u001B[39;00m k, v \u001B[38;5;129;01min\u001B[39;00m \u001B[38;5;28mself\u001B[39m\u001B[38;5;241m.\u001B[39msynth_structure\u001B[38;5;241m.\u001B[39mwave_type_dict\u001B[38;5;241m.\u001B[39mitems()}\n\u001B[0;32m    143\u001B[0m \u001B[38;5;28mself\u001B[39m\u001B[38;5;241m.\u001B[39mwarning_sent \u001B[38;5;241m=\u001B[39m \u001B[38;5;28;01mFalse\u001B[39;00m\n",
      "File \u001B[1;32m~\\PycharmProjects\\diffmoog\\src\\synth\\synth_modules.py:141\u001B[0m, in \u001B[0;36m<dictcomp>\u001B[1;34m(.0)\u001B[0m\n\u001B[0;32m    138\u001B[0m \u001B[38;5;28msuper\u001B[39m()\u001B[38;5;241m.\u001B[39m\u001B[38;5;21m__init__\u001B[39m(name\u001B[38;5;241m=\u001B[39mname, device\u001B[38;5;241m=\u001B[39mdevice, synth_structure\u001B[38;5;241m=\u001B[39msynth_structure)\n\u001B[0;32m    140\u001B[0m \u001B[38;5;28mself\u001B[39m\u001B[38;5;241m.\u001B[39mwaveform \u001B[38;5;241m=\u001B[39m waveform\n\u001B[1;32m--> 141\u001B[0m \u001B[38;5;28mself\u001B[39m\u001B[38;5;241m.\u001B[39mwave_type_indices \u001B[38;5;241m=\u001B[39m {k: \u001B[43mtorch\u001B[49m\u001B[38;5;241;43m.\u001B[39;49m\u001B[43mtensor\u001B[49m\u001B[43m(\u001B[49m\u001B[43mv\u001B[49m\u001B[43m,\u001B[49m\u001B[43m \u001B[49m\u001B[43mdtype\u001B[49m\u001B[38;5;241;43m=\u001B[39;49m\u001B[43mtorch\u001B[49m\u001B[38;5;241;43m.\u001B[39;49m\u001B[43mlong\u001B[49m\u001B[43m,\u001B[49m\u001B[43m \u001B[49m\u001B[43mdevice\u001B[49m\u001B[38;5;241;43m=\u001B[39;49m\u001B[38;5;28;43mself\u001B[39;49m\u001B[38;5;241;43m.\u001B[39;49m\u001B[43mdevice\u001B[49m\u001B[43m)\u001B[49m\u001B[38;5;241m.\u001B[39msqueeze()\n\u001B[0;32m    142\u001B[0m                           \u001B[38;5;28;01mfor\u001B[39;00m k, v \u001B[38;5;129;01min\u001B[39;00m \u001B[38;5;28mself\u001B[39m\u001B[38;5;241m.\u001B[39msynth_structure\u001B[38;5;241m.\u001B[39mwave_type_dict\u001B[38;5;241m.\u001B[39mitems()}\n\u001B[0;32m    143\u001B[0m \u001B[38;5;28mself\u001B[39m\u001B[38;5;241m.\u001B[39mwarning_sent \u001B[38;5;241m=\u001B[39m \u001B[38;5;28;01mFalse\u001B[39;00m\n",
      "File \u001B[1;32m~\\PycharmProjects\\diffmoog\\venv\\lib\\site-packages\\torch\\cuda\\__init__.py:239\u001B[0m, in \u001B[0;36m_lazy_init\u001B[1;34m()\u001B[0m\n\u001B[0;32m    235\u001B[0m     \u001B[38;5;28;01mraise\u001B[39;00m \u001B[38;5;167;01mRuntimeError\u001B[39;00m(\n\u001B[0;32m    236\u001B[0m         \u001B[38;5;124m\"\u001B[39m\u001B[38;5;124mCannot re-initialize CUDA in forked subprocess. To use CUDA with \u001B[39m\u001B[38;5;124m\"\u001B[39m\n\u001B[0;32m    237\u001B[0m         \u001B[38;5;124m\"\u001B[39m\u001B[38;5;124mmultiprocessing, you must use the \u001B[39m\u001B[38;5;124m'\u001B[39m\u001B[38;5;124mspawn\u001B[39m\u001B[38;5;124m'\u001B[39m\u001B[38;5;124m start method\u001B[39m\u001B[38;5;124m\"\u001B[39m)\n\u001B[0;32m    238\u001B[0m \u001B[38;5;28;01mif\u001B[39;00m \u001B[38;5;129;01mnot\u001B[39;00m \u001B[38;5;28mhasattr\u001B[39m(torch\u001B[38;5;241m.\u001B[39m_C, \u001B[38;5;124m'\u001B[39m\u001B[38;5;124m_cuda_getDeviceCount\u001B[39m\u001B[38;5;124m'\u001B[39m):\n\u001B[1;32m--> 239\u001B[0m     \u001B[38;5;28;01mraise\u001B[39;00m \u001B[38;5;167;01mAssertionError\u001B[39;00m(\u001B[38;5;124m\"\u001B[39m\u001B[38;5;124mTorch not compiled with CUDA enabled\u001B[39m\u001B[38;5;124m\"\u001B[39m)\n\u001B[0;32m    240\u001B[0m \u001B[38;5;28;01mif\u001B[39;00m _cudart \u001B[38;5;129;01mis\u001B[39;00m \u001B[38;5;28;01mNone\u001B[39;00m:\n\u001B[0;32m    241\u001B[0m     \u001B[38;5;28;01mraise\u001B[39;00m \u001B[38;5;167;01mAssertionError\u001B[39;00m(\n\u001B[0;32m    242\u001B[0m         \u001B[38;5;124m\"\u001B[39m\u001B[38;5;124mlibcudart functions unavailable. It looks like you have a broken build?\u001B[39m\u001B[38;5;124m\"\u001B[39m)\n",
      "\u001B[1;31mAssertionError\u001B[0m: Torch not compiled with CUDA enabled"
     ]
    }
   ],
   "source": [
    "# Setup experiment\n",
    "device = 'cuda:0'\n",
    "chain = 'LFO_SAW'\n",
    "\n",
    "signal_duration = 1.0\n",
    "note_off_time = 0.75\n",
    "\n",
    "\n",
    "synth = SynthModular(chain_name=chain,\n",
    "                     synth_constants=synth_constants,\n",
    "                     device=device)\n",
    "\n",
    "decoder_net = DecoderNetwork(preset=chain, device=device)\n",
    "normalizer = Normalizer(note_off_time, signal_duration, synth_constants)"
   ]
  },
  {
   "cell_type": "code",
   "execution_count": null,
   "metadata": {
    "ExecuteTime": {
     "start_time": "2023-09-06T15:06:03.340669800Z"
    }
   },
   "outputs": [],
   "source": [
    "%matplotlib inline\n",
    "\n",
    "# Generate some signal to start from\n",
    "sample_params = {(0, 0): {'operation': 'lfo', 'parameters': {'freq': 8, \n",
    "                                                             'waveform': 'sine',\n",
    "                                                             'active': 1}},\n",
    "                 (0, 1): {'operation': 'fm_sine', 'parameters': {'freq_c': 200,\n",
    "                                                                 'amp_c': 0.5, \n",
    "                                                                 'mod_index': 0.15,\n",
    "                                                                 'active': 1,\n",
    "                                                                 'fm_active': 1}},\n",
    "}\n",
    "\n",
    "synth.update_cells_from_dict(sample_params)\n",
    "synth.generate_signal(signal_duration=signal_duration, batch_size=1)\n",
    "target_signal = synth.get_final_signal().to(device).squeeze()\n",
    "\n",
    "_, ax = plt.subplots(1, 1, figsize=(20, 5))\n",
    "ax.plot(target_signal.detach().cpu().numpy().squeeze())\n",
    "plt.show()"
   ]
  },
  {
   "cell_type": "code",
   "execution_count": null,
   "metadata": {
    "ExecuteTime": {
     "start_time": "2023-09-06T15:06:03.342670Z"
    }
   },
   "outputs": [],
   "source": [
    "target_param_dict = to_torch_recursive(sample_params, device, ignore_dtypes=(str, tuple))\n",
    "target_params_01 = normalizer.normalize(target_param_dict)\n",
    "\n",
    "parameters_to_freeze = {(0, 0): {'operation': 'lfo',\n",
    "                                      'parameters': ['freq', 'waveform', 'active']},\n",
    "                        (0, 1): {'operation': 'fm_sine',\n",
    "                                 'parameters': ['active', 'fm_active', 'amp_c', 'mod_index']}}\n",
    "\n",
    "# Decoder net will try to approximate non frozen params (here carrier frequency) by SGD on DDSP loss\n",
    "decoder_net.apply_params(target_params_01)\n",
    "decoder_net.freeze_params(parameters_to_freeze)"
   ]
  },
  {
   "cell_type": "code",
   "execution_count": null,
   "metadata": {
    "ExecuteTime": {
     "start_time": "2023-09-06T15:06:03.344668600Z"
    }
   },
   "outputs": [],
   "source": [
    "spec_loss_type = 'SPECTROGRAM'\n",
    "loss_handler = spectral_loss.SpectralLoss(loss_type=spec_loss_type,\n",
    "                                          loss_preset='cumsum_time',\n",
    "                                          synth_constants=synth_constants,\n",
    "                                          device=device)\n",
    "\n",
    "params_loss_handler = torch.nn.MSELoss()"
   ]
  },
  {
   "cell_type": "code",
   "execution_count": null,
   "metadata": {
    "ExecuteTime": {
     "start_time": "2023-09-06T15:06:03.346670200Z"
    }
   },
   "outputs": [],
   "source": [
    "param_to_visualize = {'param_name': 'freq_c', 'cell_index': (0, 1), 'min_val': 0, 'max_val': 2000, 'n_steps': 2000}\n",
    "\n",
    "loss_vals, param_range = calc_loss_vs_param_range(synth, target_param_dict, target_signal, loss_handler, **param_to_visualize)"
   ]
  },
  {
   "cell_type": "code",
   "execution_count": null,
   "metadata": {
    "ExecuteTime": {
     "start_time": "2023-09-06T15:06:03.347670Z"
    }
   },
   "outputs": [],
   "source": [
    "# Run gradient descent. Try to play with different starting values, optimizers and learning rates to see the effect\n",
    "\n",
    "num_epochs = 200\n",
    "starting_frequency = [[0]]    # pre sigmoid value\n",
    "decoder_net.apply_params_partial({(0, 1):\n",
    "                                     {'operation': 'fm_sine',\n",
    "                                      'parameters': {'freq_c': starting_frequency}\n",
    "                                     }\n",
    "                                 })\n",
    "\n",
    "base_lr = 6e-3\n",
    "optimizer = torch.optim.Adam(decoder_net.parameters(), lr=base_lr)\n",
    "\n",
    "target_signal_unsqueezed = target_signal.unsqueeze(dim=0)\n",
    "\n",
    "train_res = []\n",
    "for e in range(num_epochs):\n",
    "    \n",
    "    predicted_params_01 = decoder_net.forward()\n",
    "\n",
    "    predicted_params_full_range = normalizer.denormalize(predicted_params_01)\n",
    "    \n",
    "    synth.update_cells_from_dict(predicted_params_full_range)\n",
    "    predicted_signal, _ = synth.generate_signal(signal_duration=1)\n",
    "\n",
    "    loss, _, _= loss_handler.call(target_signal_unsqueezed, predicted_signal, step=0, return_spectrogram=False)\n",
    "\n",
    "    optimizer.zero_grad()\n",
    "    loss.backward(retain_graph=True)\n",
    "    optimizer.step()\n",
    "    \n",
    "    predicted_freq = predicted_params_full_range[(0, 1)]['parameters']['freq_c']    \n",
    "    train_res.append((e, predicted_freq.detach().item(), loss.detach().item()))"
   ]
  },
  {
   "cell_type": "code",
   "execution_count": null,
   "metadata": {
    "ExecuteTime": {
     "end_time": "2023-09-06T15:06:03.359668400Z",
     "start_time": "2023-09-06T15:06:03.349669900Z"
    }
   },
   "outputs": [],
   "source": [
    "from matplotlib import animation\n",
    "from IPython.display import HTML\n",
    "\n",
    "\n",
    "fig, ax = plt.subplots(figsize=(15, 5))\n",
    "l1, = ax.plot(param_range, loss_vals, 'o-', label='loss surface', markevery=[-1])\n",
    "l2, = ax.plot([], [], 'o-', label='training progress')\n",
    "ax.legend(loc='center right')\n",
    "# ax.set_xlim(0,100)\n",
    "# ax.set_ylim(0,1)\n",
    "\n",
    "def animate(i):\n",
    "    xi = [train_res[j][1] for j in range(i)]\n",
    "    yi = [train_res[j][2] for j in range(i)]\n",
    "    l2.set_data(xi, yi)\n",
    "    return (l2)\n",
    "\n",
    "a = animation.FuncAnimation(fig, animate, frames=num_epochs, interval=50)\n",
    "HTML(a.to_jshtml())"
   ]
  }
 ],
 "metadata": {
  "kernelspec": {
   "display_name": "Python 3 (ipykernel)",
   "language": "python",
   "name": "python3"
  },
  "language_info": {
   "codemirror_mode": {
    "name": "ipython",
    "version": 3
   },
   "file_extension": ".py",
   "mimetype": "text/x-python",
   "name": "python",
   "nbconvert_exporter": "python",
   "pygments_lexer": "ipython3",
   "version": "3.8.10"
  }
 },
 "nbformat": 4,
 "nbformat_minor": 1
}
