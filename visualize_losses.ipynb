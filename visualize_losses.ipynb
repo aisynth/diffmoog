{
 "cells": [
  {
   "cell_type": "code",
   "execution_count": 18,
   "metadata": {
    "collapsed": true
   },
   "outputs": [],
   "source": [
    "import os, glob\n",
    "\n",
    "from itertools import product\n",
    "\n",
    "import numpy as np\n",
    "import pandas as pd\n",
    "import matplotlib.pyplot as plt\n",
    "from matplotlib import rcParams\n",
    "\n",
    "from collections import defaultdict\n",
    "\n",
    "from tensorboard.backend.event_processing.event_accumulator import EventAccumulator\n",
    "\n",
    "import seaborn as sns\n",
    "sns.set_style('whitegrid')\n",
    "\n",
    "from packaging import version\n",
    "\n",
    "rcParams['figure.figsize'] = 11.7, 8.27\n",
    "rcParams['font.size'] = 11"
   ]
  },
  {
   "cell_type": "code",
   "execution_count": 6,
   "outputs": [],
   "source": [
    "def read_tb_summary(summary_root: str, tags: [str]) -> dict:\n",
    "\n",
    "    output_data = defaultdict(list)\n",
    "    summary_paths = glob.glob(os.path.join(summary_root, 'events*.*'))\n",
    "    found_tags = {t: False for t in tags}\n",
    "\n",
    "    for summary_path in summary_paths:\n",
    "        acc = EventAccumulator(summary_path).Reload()\n",
    "        for tag in tags:\n",
    "            try:\n",
    "                output_data[tag].extend(acc.Scalars(tag=tag))\n",
    "                found_tags[tag] = True\n",
    "            except KeyError as e:\n",
    "                continue\n",
    "\n",
    "    for t, found in found_tags.items():\n",
    "        if not found:\n",
    "            print(f'Key {t} not found in {summary_root}')\n",
    "\n",
    "    return output_data\n"
   ],
   "metadata": {
    "collapsed": false,
    "pycharm": {
     "name": "#%%\n"
    }
   }
  },
  {
   "cell_type": "code",
   "execution_count": 34,
   "outputs": [
    {
     "name": "stdout",
     "output_type": "stream",
     "text": [
      "Key weighted_sub_losses/64_spectrogram_delta_freq not found in experiments\\fm_test_mel\\tensorboard\\\n",
      "Key weighted_sub_losses/64_spectrogram_delta_time not found in experiments\\fm_test_mel\\tensorboard\\\n",
      "Key weighted_sub_losses/64_spectrogram_emd not found in experiments\\fm_test_mel\\tensorboard\\\n",
      "Key weighted_sub_losses/64_spectrogram_logmag not found in experiments\\fm_test_mel\\tensorboard\\\n",
      "Key weighted_sub_losses/64_spectrogram_magnitude not found in experiments\\fm_test_mel\\tensorboard\\\n",
      "Key weighted_sub_losses/128_spectrogram_delta_freq not found in experiments\\fm_test_mel\\tensorboard\\\n",
      "Key weighted_sub_losses/128_spectrogram_delta_time not found in experiments\\fm_test_mel\\tensorboard\\\n",
      "Key weighted_sub_losses/128_spectrogram_emd not found in experiments\\fm_test_mel\\tensorboard\\\n",
      "Key weighted_sub_losses/128_spectrogram_logmag not found in experiments\\fm_test_mel\\tensorboard\\\n",
      "Key weighted_sub_losses/128_spectrogram_magnitude not found in experiments\\fm_test_mel\\tensorboard\\\n",
      "Key weighted_sub_losses/256_spectrogram_delta_freq not found in experiments\\fm_test_mel\\tensorboard\\\n",
      "Key weighted_sub_losses/256_spectrogram_delta_time not found in experiments\\fm_test_mel\\tensorboard\\\n",
      "Key weighted_sub_losses/256_spectrogram_emd not found in experiments\\fm_test_mel\\tensorboard\\\n",
      "Key weighted_sub_losses/256_spectrogram_logmag not found in experiments\\fm_test_mel\\tensorboard\\\n",
      "Key weighted_sub_losses/256_spectrogram_magnitude not found in experiments\\fm_test_mel\\tensorboard\\\n",
      "Key weighted_sub_losses/512_spectrogram_delta_freq not found in experiments\\fm_test_mel\\tensorboard\\\n",
      "Key weighted_sub_losses/512_spectrogram_delta_time not found in experiments\\fm_test_mel\\tensorboard\\\n",
      "Key weighted_sub_losses/512_spectrogram_emd not found in experiments\\fm_test_mel\\tensorboard\\\n",
      "Key weighted_sub_losses/512_spectrogram_logmag not found in experiments\\fm_test_mel\\tensorboard\\\n",
      "Key weighted_sub_losses/512_spectrogram_magnitude not found in experiments\\fm_test_mel\\tensorboard\\\n",
      "Key weighted_sub_losses/1024_spectrogram_delta_freq not found in experiments\\fm_test_mel\\tensorboard\\\n",
      "Key weighted_sub_losses/1024_spectrogram_delta_time not found in experiments\\fm_test_mel\\tensorboard\\\n",
      "Key weighted_sub_losses/1024_spectrogram_emd not found in experiments\\fm_test_mel\\tensorboard\\\n",
      "Key weighted_sub_losses/1024_spectrogram_logmag not found in experiments\\fm_test_mel\\tensorboard\\\n",
      "Key weighted_sub_losses/1024_spectrogram_magnitude not found in experiments\\fm_test_mel\\tensorboard\\\n",
      "Key weighted_sub_losses/2048_spectrogram_delta_freq not found in experiments\\fm_test_mel\\tensorboard\\\n",
      "Key weighted_sub_losses/2048_spectrogram_delta_time not found in experiments\\fm_test_mel\\tensorboard\\\n",
      "Key weighted_sub_losses/2048_spectrogram_emd not found in experiments\\fm_test_mel\\tensorboard\\\n",
      "Key weighted_sub_losses/2048_spectrogram_logmag not found in experiments\\fm_test_mel\\tensorboard\\\n",
      "Key weighted_sub_losses/2048_spectrogram_magnitude not found in experiments\\fm_test_mel\\tensorboard\\\n"
     ]
    }
   ],
   "source": [
    "exp_root = os.path.join('experiments', 'fm_test_mel', 'tensorboard', '')\n",
    "\n",
    "fft_sizes = [64, 128, 256, 512, 1024, 2048]\n",
    "spec_types = ['mel', 'spectrogram']\n",
    "ops = ['delta_freq', 'delta_time', 'emd', 'logmag', 'magnitude']\n",
    "\n",
    "tags = [f'weighted_sub_losses/{size}_{spec_type}_{op}' for size, spec_type, op in product(fft_sizes, spec_types, ops)]\n",
    "tb_data = read_tb_summary(exp_root, tags)"
   ],
   "metadata": {
    "collapsed": false,
    "pycharm": {
     "name": "#%%\n"
    }
   }
  },
  {
   "cell_type": "code",
   "execution_count": 35,
   "outputs": [],
   "source": [
    "processed_dfs = {}\n",
    "for spec_type in spec_types[:1]:\n",
    "    all_mean_vals = {'op': [], 'size': [], 'value': []}\n",
    "    for op in ops:\n",
    "        mean_vals = []\n",
    "        for size in fft_sizes:\n",
    "            tag = f'weighted_sub_losses/{size}_{spec_type}_{op}'\n",
    "            data = tb_data[tag]\n",
    "\n",
    "            steps = [e.step for e in data]\n",
    "            vals = [e.value for e in data]\n",
    "\n",
    "            mean_val = np.mean(vals)\n",
    "            mean_vals.append(mean_val)\n",
    "\n",
    "            all_mean_vals['op'].append(op)\n",
    "            all_mean_vals['size'].append(size)\n",
    "            all_mean_vals['value'].append(mean_val)\n",
    "\n",
    "    processed_dfs[spec_type] = pd.DataFrame(all_mean_vals)\n"
   ],
   "metadata": {
    "collapsed": false,
    "pycharm": {
     "name": "#%%\n"
    }
   }
  },
  {
   "cell_type": "code",
   "execution_count": 36,
   "outputs": [
    {
     "data": {
      "text/plain": "<Figure size 842.4x595.44 with 1 Axes>",
      "image/png": "[encoded data removed]"
     },
     "metadata": {},
     "output_type": "display_data"
    }
   ],
   "source": [
    "sns.barplot(data=processed_dfs['mel'], x='op', y='value', hue='size').set(title='mel')\n",
    "plt.show()\n",
    "\n",
    "# sns.barplot(data=processed_dfs['spectrogram'], x='op', y='value', hue='size').set(title='spectrogram')"
   ],
   "metadata": {
    "collapsed": false,
    "pycharm": {
     "name": "#%%\n"
    }
   }
  }
 ],
 "metadata": {
  "kernelspec": {
   "display_name": "Python 3",
   "language": "python",
   "name": "python3"
  },
  "language_info": {
   "codemirror_mode": {
    "name": "ipython",
    "version": 2
   },
   "file_extension": ".py",
   "mimetype": "text/x-python",
   "name": "python",
   "nbconvert_exporter": "python",
   "pygments_lexer": "ipython2",
   "version": "2.7.6"
  }
 },
 "nbformat": 4,
 "nbformat_minor": 0
}